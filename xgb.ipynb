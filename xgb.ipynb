{
 "cells": [
  {
   "cell_type": "code",
   "execution_count": 2,
   "metadata": {
    "collapsed": false,
    "scrolled": true
   },
   "outputs": [],
   "source": [
    "import numpy as np\n",
    "import pandas as pd\n",
    "import xgboost as xgb\n",
    "import math\n",
    "import matplotlib.pyplot as plt\n",
    "\n",
    "from pandas import get_dummies\n",
    "from sklearn import preprocessing\n",
    "from sklearn import cross_validation, metrics \n",
    "from sklearn.grid_search import GridSearchCV\n",
    "from sklearn.metrics import roc_auc_score\n",
    "\n",
    "\n",
    "%matplotlib inline\n",
    "plt.style.use('ggplot')"
   ]
  },
  {
   "cell_type": "code",
   "execution_count": 3,
   "metadata": {
    "collapsed": true
   },
   "outputs": [],
   "source": [
    "from Bio.SeqUtils import ProtParamData  # Local\n",
    "from Bio.SeqUtils import IsoelectricPoint  # Local\n",
    "from Bio.Seq import Seq\n",
    "from Bio.Alphabet import IUPAC\n",
    "from Bio.Data import IUPACData\n",
    "from Bio.SeqUtils import molecular_weight\n",
    "from Bio import SeqIO\n",
    "from Bio.SeqUtils import ProtParam"
   ]
  },
  {
   "cell_type": "code",
   "execution_count": null,
   "metadata": {
    "collapsed": false
   },
   "outputs": [],
   "source": []
  },
  {
   "cell_type": "markdown",
   "metadata": {},
   "source": [
    "## Feature engineering \n",
    "* Log50000\n",
    "* chemical structure\n",
    "* kidera factors\n",
    "* Phylogenetic tree"
   ]
  },
  {
   "cell_type": "code",
   "execution_count": 4,
   "metadata": {
    "collapsed": false
   },
   "outputs": [],
   "source": [
    "\"\"\"\n",
    "logarithming according to articles\n",
    "\"\"\"\n",
    "def log_meas(current):\n",
    "    new_meas = 1 - math.log(current, 50000.0)\n",
    "    if new_meas > 1: new_meas = 1\n",
    "    if new_meas < 0: new_meas = 0\n",
    "    return new_meas"
   ]
  },
  {
   "cell_type": "code",
   "execution_count": 5,
   "metadata": {
    "collapsed": false
   },
   "outputs": [],
   "source": [
    "\"\"\"\n",
    "analyse_seq adds to DataFrame data with peptide sequences  columnns with chemical attributes of peptide\n",
    "\"\"\"\n",
    "\n",
    "def analyse_seq(sequences):\n",
    "    physochem = pd.DataFrame()\n",
    "    mol_weight = []\n",
    "    aromaticity = []\n",
    "    instability_index = []\n",
    "    isoelectric_point = []\n",
    "    for i in sequences:\n",
    "        X = ProtParam.ProteinAnalysis(i)\n",
    "        mol_weight.append(X.molecular_weight())\n",
    "        aromaticity.append(X.aromaticity())\n",
    "        instability_index.append(X.instability_index())\n",
    "        isoelectric_point.append(X.isoelectric_point())\n",
    "    physochem[\"molecular_weight\"] = mol_weight\n",
    "    physochem[\"aromaticity\"] = aromaticity\n",
    "    physochem[\"instability_index\"] = instability_index\n",
    "    physochem[\"isoelectric_point\"] = isoelectric_point\n",
    "    min_max_scaler = preprocessing.MinMaxScaler()\n",
    "    x_scaled = min_max_scaler.fit_transform(physochem[[\"molecular_weight\",\"instability_index\", \"isoelectric_point\"]])\n",
    "    x_scaled = pd.DataFrame(x_scaled, columns=[\"molecular_weight\",\"instability_index\", \"isoelectric_point\"])\n",
    "    physochem[\"molecular_weight\"] = pd.DataFrame(x_scaled[\"molecular_weight\"])\n",
    "    physochem[\"instability_index\"] = pd.DataFrame(x_scaled[\"instability_index\"])\n",
    "    physochem[\"isoelectric_point\"] = pd.DataFrame(x_scaled[\"isoelectric_point\"])\n",
    "    return physochem"
   ]
  },
  {
   "cell_type": "code",
   "execution_count": 6,
   "metadata": {
    "collapsed": false
   },
   "outputs": [],
   "source": [
    "\"\"\"\n",
    "to_one_hot function replaces \"sequence\" row in DataFrame data with OneHotEncoded sequences\n",
    "\"\"\"\n",
    "def to_one_hot(data, length):\n",
    "    NMers = data[data[\"peptide_length\"] == length].reset_index(drop=True)\n",
    "    letters = NMers.sequence.apply(list) \n",
    "    #data_1Hot = pd.get_dummies(pd.DataFrame(list(letters)))\n",
    "    #return pd.concat([NMers.drop([\"sequence\"], axis = 1), data_1Hot], axis = 1)\n",
    "    return pd.get_dummies(pd.DataFrame(list(letters)))\n",
    "    "
   ]
  },
  {
   "cell_type": "code",
   "execution_count": 7,
   "metadata": {
    "collapsed": false
   },
   "outputs": [],
   "source": [
    "\"\"\"\n",
    "select_by_allele function returns DataFrame, which consists from data for one mhc by its allele\n",
    "\"\"\"\n",
    "def select_by_allele(data, allele):\n",
    "    return data[data.mhc == allele].drop([\"mhc\"], axis = 1).reset_index(drop = True)"
   ]
  },
  {
   "cell_type": "code",
   "execution_count": 8,
   "metadata": {
    "collapsed": true
   },
   "outputs": [],
   "source": [
    "\"\"\"\n",
    "add_kidera_ftr function returns DataFrame with kidera factors on column for a given peptide\n",
    "\"\"\"\n",
    "def add_kidera_ftr(peptides):\n",
    "    kidera_peptides = pd.DataFrame()\n",
    "    for i,fact in enumerate(f): \n",
    "        kidera_peptides[fact]=[add_kidera(j)[i] for j in peptides]\n",
    "        #kidera_selected[fact] = pd.DataFrame(data[fact][indexes]).reset_index(drop=True)\n",
    "    return kidera_peptides\n",
    "\n",
    "amino=pd.read_csv(\"acids.csv\", sep=\" \", index_col=False)\n",
    "d = amino.to_dict(orient='list')\n",
    "f = ['f1','f2','f3','f4','f5','f6','f7','f8','f9','f10']\n",
    "\n",
    "def add_kidera(pept):\n",
    "    seq = list(pept)\n",
    "    dim = len(seq)\n",
    "    kidera = [0]*10\n",
    "    for i in range(10):\n",
    "        kidera[i] = [0]*dim\n",
    "       \n",
    "    for k in range(dim):\n",
    "        for i in range(20):\n",
    "            if seq[k] == d['amino'][i]:\n",
    "                for j in range(10):\n",
    "                    kidera[j][k] = d[f[j]][i]\n",
    "   \n",
    "    for i in range(10):\n",
    "        kidera[i] = sum(kidera[i])/len(kidera[i])\n",
    "   \n",
    "    return kidera"
   ]
  },
  {
   "cell_type": "code",
   "execution_count": null,
   "metadata": {
    "collapsed": false
   },
   "outputs": [],
   "source": []
  },
  {
   "cell_type": "markdown",
   "metadata": {},
   "source": [
    "## Dataset"
   ]
  },
  {
   "cell_type": "code",
   "execution_count": 9,
   "metadata": {
    "collapsed": false
   },
   "outputs": [],
   "source": [
    "Bdata = pd.read_csv(\"../mhc/bdata.csv\")\n",
    "Bdata.tail()\n",
    "Bdata.meas = [log_meas(i) for i in Bdata.meas]"
   ]
  },
  {
   "cell_type": "code",
   "execution_count": null,
   "metadata": {
    "collapsed": false
   },
   "outputs": [],
   "source": []
  },
  {
   "cell_type": "code",
   "execution_count": 10,
   "metadata": {
    "collapsed": false
   },
   "outputs": [
    {
     "data": {
      "image/png": "[encoded data removed]",
      "text/plain": [
       "<matplotlib.figure.Figure at 0x7f44788d9828>"
      ]
     },
     "metadata": {},
     "output_type": "display_data"
    }
   ],
   "source": [
    "plt.title(\"Scaled affinity distribution\")\n",
    "hh = plt.hist(Bdata.meas, 50, color = 'green', alpha = 0.6)"
   ]
  },
  {
   "cell_type": "code",
   "execution_count": null,
   "metadata": {
    "collapsed": false
   },
   "outputs": [],
   "source": []
  },
  {
   "cell_type": "markdown",
   "metadata": {},
   "source": [
    "## Sequence2Vector"
   ]
  },
  {
   "cell_type": "code",
   "execution_count": 11,
   "metadata": {
    "collapsed": false
   },
   "outputs": [],
   "source": [
    "# import modules & set up logging\n",
    "import logging\n",
    "import gensim\n",
    "from gensim.models import word2vec\n",
    "logging.basicConfig(format='%(asctime)s : %(levelname)s : %(message)s', level=logging.INFO)\n",
    " "
   ]
  },
  {
   "cell_type": "code",
   "execution_count": 12,
   "metadata": {
    "collapsed": false
   },
   "outputs": [],
   "source": [
    "def fill_spaces(seq):\n",
    "    new_seq = list(seq)\n",
    "    for i in range(1, len(seq)):\n",
    "        new_seq[i] = \" \"+ new_seq[i]\n",
    "    return ''.join(new_seq)\n",
    "\n",
    "def seq2vec(seq):\n",
    "    return w2v_model[list(seq)].flatten()"
   ]
  },
  {
   "cell_type": "code",
   "execution_count": 13,
   "metadata": {
    "collapsed": false
   },
   "outputs": [],
   "source": [
    "sequences = Bdata.sequence.apply(fill_spaces)"
   ]
  },
  {
   "cell_type": "code",
   "execution_count": 14,
   "metadata": {
    "collapsed": false
   },
   "outputs": [
    {
     "name": "stdout",
     "output_type": "stream",
     "text": [
      "Training model...\n",
      "Done.\n"
     ]
    }
   ],
   "source": [
    "min_word_count = 10   # Minimum word count                        \n",
    "num_workers = 4       # Number of threads to run in parallel\n",
    "context = 4          # Context window size                                                                                    \n",
    "downsampling = 1e-3 \n",
    "w2v_dim = 20\n",
    "\n",
    "print(\"Training model...\")\n",
    "w2v_model = word2vec.Word2Vec(sequences, workers=num_workers, size = w2v_dim,\n",
    "                              min_count = min_word_count, window = context, sample = downsampling)\n",
    "print(\"Done.\")"
   ]
  },
  {
   "cell_type": "code",
   "execution_count": 15,
   "metadata": {
    "collapsed": false
   },
   "outputs": [],
   "source": [
    "#def get_knn_feature(data, target):\n",
    "    "
   ]
  },
  {
   "cell_type": "markdown",
   "metadata": {},
   "source": [
    "## Dataframes with 9mers peptides"
   ]
  },
  {
   "cell_type": "code",
   "execution_count": 71,
   "metadata": {},
   "outputs": [],
   "source": [
    "peptides9mers = Bdata[Bdata.peptide_length == 9].sequence"
   ]
  },
  {
   "cell_type": "markdown",
   "metadata": {},
   "source": [
    "#### 1. Sequence embedding"
   ]
  },
  {
   "cell_type": "code",
   "execution_count": 72,
   "metadata": {
    "collapsed": false
   },
   "outputs": [
    {
     "data": {
      "text/html": [
       "<div>\n",
       "<table border=\"1\" class=\"dataframe\">\n",
       "  <thead>\n",
       "    <tr style=\"text-align: right;\">\n",
       "      <th></th>\n",
       "      <th>0</th>\n",
       "      <th>1</th>\n",
       "      <th>2</th>\n",
       "      <th>3</th>\n",
       "      <th>4</th>\n",
       "      <th>5</th>\n",
       "      <th>6</th>\n",
       "      <th>7</th>\n",
       "      <th>8</th>\n",
       "      <th>9</th>\n",
       "      <th>...</th>\n",
       "      <th>170</th>\n",
       "      <th>171</th>\n",
       "      <th>172</th>\n",
       "      <th>173</th>\n",
       "      <th>174</th>\n",
       "      <th>175</th>\n",
       "      <th>176</th>\n",
       "      <th>177</th>\n",
       "      <th>178</th>\n",
       "      <th>179</th>\n",
       "    </tr>\n",
       "  </thead>\n",
       "  <tbody>\n",
       "    <tr>\n",
       "      <th>129808</th>\n",
       "      <td>0.501131</td>\n",
       "      <td>-0.361379</td>\n",
       "      <td>0.094884</td>\n",
       "      <td>0.056096</td>\n",
       "      <td>-0.506331</td>\n",
       "      <td>-0.064805</td>\n",
       "      <td>-0.082467</td>\n",
       "      <td>-0.127789</td>\n",
       "      <td>-0.209058</td>\n",
       "      <td>0.329936</td>\n",
       "      <td>...</td>\n",
       "      <td>-0.084847</td>\n",
       "      <td>0.276185</td>\n",
       "      <td>0.059875</td>\n",
       "      <td>0.365486</td>\n",
       "      <td>0.230107</td>\n",
       "      <td>0.311080</td>\n",
       "      <td>0.364282</td>\n",
       "      <td>-0.052159</td>\n",
       "      <td>0.386132</td>\n",
       "      <td>-0.577111</td>\n",
       "    </tr>\n",
       "    <tr>\n",
       "      <th>129809</th>\n",
       "      <td>0.153927</td>\n",
       "      <td>-0.394939</td>\n",
       "      <td>0.288109</td>\n",
       "      <td>-0.174673</td>\n",
       "      <td>-0.271127</td>\n",
       "      <td>0.144529</td>\n",
       "      <td>0.081196</td>\n",
       "      <td>0.194596</td>\n",
       "      <td>-0.336119</td>\n",
       "      <td>0.435722</td>\n",
       "      <td>...</td>\n",
       "      <td>-0.156846</td>\n",
       "      <td>0.410614</td>\n",
       "      <td>-0.061952</td>\n",
       "      <td>0.516606</td>\n",
       "      <td>0.606363</td>\n",
       "      <td>0.130370</td>\n",
       "      <td>0.182359</td>\n",
       "      <td>-0.009748</td>\n",
       "      <td>0.470326</td>\n",
       "      <td>-0.391805</td>\n",
       "    </tr>\n",
       "    <tr>\n",
       "      <th>129810</th>\n",
       "      <td>0.346659</td>\n",
       "      <td>-0.231408</td>\n",
       "      <td>0.468773</td>\n",
       "      <td>-0.076921</td>\n",
       "      <td>-0.540899</td>\n",
       "      <td>-0.096656</td>\n",
       "      <td>0.021586</td>\n",
       "      <td>-0.293807</td>\n",
       "      <td>-0.044309</td>\n",
       "      <td>0.233875</td>\n",
       "      <td>...</td>\n",
       "      <td>-0.500223</td>\n",
       "      <td>0.525895</td>\n",
       "      <td>-0.186645</td>\n",
       "      <td>0.381833</td>\n",
       "      <td>0.156774</td>\n",
       "      <td>0.470051</td>\n",
       "      <td>0.185351</td>\n",
       "      <td>-0.121841</td>\n",
       "      <td>0.568223</td>\n",
       "      <td>-0.415841</td>\n",
       "    </tr>\n",
       "    <tr>\n",
       "      <th>129811</th>\n",
       "      <td>0.355531</td>\n",
       "      <td>-0.239572</td>\n",
       "      <td>0.251852</td>\n",
       "      <td>0.352075</td>\n",
       "      <td>-0.455890</td>\n",
       "      <td>-0.181258</td>\n",
       "      <td>0.332529</td>\n",
       "      <td>0.082558</td>\n",
       "      <td>-0.402134</td>\n",
       "      <td>0.158948</td>\n",
       "      <td>...</td>\n",
       "      <td>-0.452852</td>\n",
       "      <td>0.196665</td>\n",
       "      <td>0.330324</td>\n",
       "      <td>0.535594</td>\n",
       "      <td>-0.013494</td>\n",
       "      <td>0.061202</td>\n",
       "      <td>-0.146912</td>\n",
       "      <td>0.006523</td>\n",
       "      <td>-0.039335</td>\n",
       "      <td>-0.328834</td>\n",
       "    </tr>\n",
       "    <tr>\n",
       "      <th>129812</th>\n",
       "      <td>0.384021</td>\n",
       "      <td>-0.185911</td>\n",
       "      <td>0.470247</td>\n",
       "      <td>0.045111</td>\n",
       "      <td>-0.427674</td>\n",
       "      <td>-0.176933</td>\n",
       "      <td>0.009702</td>\n",
       "      <td>0.128946</td>\n",
       "      <td>-0.557072</td>\n",
       "      <td>0.161070</td>\n",
       "      <td>...</td>\n",
       "      <td>-0.500223</td>\n",
       "      <td>0.525895</td>\n",
       "      <td>-0.186645</td>\n",
       "      <td>0.381833</td>\n",
       "      <td>0.156774</td>\n",
       "      <td>0.470051</td>\n",
       "      <td>0.185351</td>\n",
       "      <td>-0.121841</td>\n",
       "      <td>0.568223</td>\n",
       "      <td>-0.415841</td>\n",
       "    </tr>\n",
       "  </tbody>\n",
       "</table>\n",
       "<p>5 rows × 180 columns</p>\n",
       "</div>"
      ],
      "text/plain": [
       "             0         1         2         3         4         5         6    \\\n",
       "129808  0.501131 -0.361379  0.094884  0.056096 -0.506331 -0.064805 -0.082467   \n",
       "129809  0.153927 -0.394939  0.288109 -0.174673 -0.271127  0.144529  0.081196   \n",
       "129810  0.346659 -0.231408  0.468773 -0.076921 -0.540899 -0.096656  0.021586   \n",
       "129811  0.355531 -0.239572  0.251852  0.352075 -0.455890 -0.181258  0.332529   \n",
       "129812  0.384021 -0.185911  0.470247  0.045111 -0.427674 -0.176933  0.009702   \n",
       "\n",
       "             7         8         9      ...          170       171       172  \\\n",
       "129808 -0.127789 -0.209058  0.329936    ...    -0.084847  0.276185  0.059875   \n",
       "129809  0.194596 -0.336119  0.435722    ...    -0.156846  0.410614 -0.061952   \n",
       "129810 -0.293807 -0.044309  0.233875    ...    -0.500223  0.525895 -0.186645   \n",
       "129811  0.082558 -0.402134  0.158948    ...    -0.452852  0.196665  0.330324   \n",
       "129812  0.128946 -0.557072  0.161070    ...    -0.500223  0.525895 -0.186645   \n",
       "\n",
       "             173       174       175       176       177       178       179  \n",
       "129808  0.365486  0.230107  0.311080  0.364282 -0.052159  0.386132 -0.577111  \n",
       "129809  0.516606  0.606363  0.130370  0.182359 -0.009748  0.470326 -0.391805  \n",
       "129810  0.381833  0.156774  0.470051  0.185351 -0.121841  0.568223 -0.415841  \n",
       "129811  0.535594 -0.013494  0.061202 -0.146912  0.006523 -0.039335 -0.328834  \n",
       "129812  0.381833  0.156774  0.470051  0.185351 -0.121841  0.568223 -0.415841  \n",
       "\n",
       "[5 rows x 180 columns]"
      ]
     },
     "execution_count": 72,
     "metadata": {},
     "output_type": "execute_result"
    }
   ],
   "source": [
    "seq2vec9mers = pd.DataFrame(peptides9mers.apply(seq2vec)).reset_index(drop=True)\n",
    "seq2vec9mers = pd.DataFrame(list(seq2vec9mers.sequence))\n",
    "seq2vec9mers.tail()"
   ]
  },
  {
   "cell_type": "markdown",
   "metadata": {},
   "source": [
    "#### 2.OneHotEncoding"
   ]
  },
  {
   "cell_type": "code",
   "execution_count": 17,
   "metadata": {
    "collapsed": false,
    "scrolled": true
   },
   "outputs": [
    {
     "data": {
      "text/html": [
       "<div>\n",
       "<table border=\"1\" class=\"dataframe\">\n",
       "  <thead>\n",
       "    <tr style=\"text-align: right;\">\n",
       "      <th></th>\n",
       "      <th>0_A</th>\n",
       "      <th>0_C</th>\n",
       "      <th>0_D</th>\n",
       "      <th>0_E</th>\n",
       "      <th>0_F</th>\n",
       "      <th>0_G</th>\n",
       "      <th>0_H</th>\n",
       "      <th>0_I</th>\n",
       "      <th>0_K</th>\n",
       "      <th>0_L</th>\n",
       "      <th>...</th>\n",
       "      <th>8_M</th>\n",
       "      <th>8_N</th>\n",
       "      <th>8_P</th>\n",
       "      <th>8_Q</th>\n",
       "      <th>8_R</th>\n",
       "      <th>8_S</th>\n",
       "      <th>8_T</th>\n",
       "      <th>8_V</th>\n",
       "      <th>8_W</th>\n",
       "      <th>8_Y</th>\n",
       "    </tr>\n",
       "  </thead>\n",
       "  <tbody>\n",
       "    <tr>\n",
       "      <th>129808</th>\n",
       "      <td>0.0</td>\n",
       "      <td>0.0</td>\n",
       "      <td>0.0</td>\n",
       "      <td>0.0</td>\n",
       "      <td>0.0</td>\n",
       "      <td>0.0</td>\n",
       "      <td>0.0</td>\n",
       "      <td>1.0</td>\n",
       "      <td>0.0</td>\n",
       "      <td>0.0</td>\n",
       "      <td>...</td>\n",
       "      <td>0.0</td>\n",
       "      <td>0.0</td>\n",
       "      <td>0.0</td>\n",
       "      <td>0.0</td>\n",
       "      <td>0.0</td>\n",
       "      <td>0.0</td>\n",
       "      <td>0.0</td>\n",
       "      <td>0.0</td>\n",
       "      <td>0.0</td>\n",
       "      <td>0.0</td>\n",
       "    </tr>\n",
       "    <tr>\n",
       "      <th>129809</th>\n",
       "      <td>0.0</td>\n",
       "      <td>0.0</td>\n",
       "      <td>1.0</td>\n",
       "      <td>0.0</td>\n",
       "      <td>0.0</td>\n",
       "      <td>0.0</td>\n",
       "      <td>0.0</td>\n",
       "      <td>0.0</td>\n",
       "      <td>0.0</td>\n",
       "      <td>0.0</td>\n",
       "      <td>...</td>\n",
       "      <td>0.0</td>\n",
       "      <td>0.0</td>\n",
       "      <td>0.0</td>\n",
       "      <td>0.0</td>\n",
       "      <td>0.0</td>\n",
       "      <td>0.0</td>\n",
       "      <td>0.0</td>\n",
       "      <td>0.0</td>\n",
       "      <td>0.0</td>\n",
       "      <td>1.0</td>\n",
       "    </tr>\n",
       "    <tr>\n",
       "      <th>129810</th>\n",
       "      <td>0.0</td>\n",
       "      <td>0.0</td>\n",
       "      <td>0.0</td>\n",
       "      <td>0.0</td>\n",
       "      <td>0.0</td>\n",
       "      <td>0.0</td>\n",
       "      <td>0.0</td>\n",
       "      <td>0.0</td>\n",
       "      <td>0.0</td>\n",
       "      <td>0.0</td>\n",
       "      <td>...</td>\n",
       "      <td>0.0</td>\n",
       "      <td>0.0</td>\n",
       "      <td>0.0</td>\n",
       "      <td>0.0</td>\n",
       "      <td>0.0</td>\n",
       "      <td>0.0</td>\n",
       "      <td>0.0</td>\n",
       "      <td>0.0</td>\n",
       "      <td>0.0</td>\n",
       "      <td>0.0</td>\n",
       "    </tr>\n",
       "    <tr>\n",
       "      <th>129811</th>\n",
       "      <td>0.0</td>\n",
       "      <td>0.0</td>\n",
       "      <td>0.0</td>\n",
       "      <td>0.0</td>\n",
       "      <td>0.0</td>\n",
       "      <td>0.0</td>\n",
       "      <td>0.0</td>\n",
       "      <td>0.0</td>\n",
       "      <td>0.0</td>\n",
       "      <td>1.0</td>\n",
       "      <td>...</td>\n",
       "      <td>1.0</td>\n",
       "      <td>0.0</td>\n",
       "      <td>0.0</td>\n",
       "      <td>0.0</td>\n",
       "      <td>0.0</td>\n",
       "      <td>0.0</td>\n",
       "      <td>0.0</td>\n",
       "      <td>0.0</td>\n",
       "      <td>0.0</td>\n",
       "      <td>0.0</td>\n",
       "    </tr>\n",
       "    <tr>\n",
       "      <th>129812</th>\n",
       "      <td>0.0</td>\n",
       "      <td>0.0</td>\n",
       "      <td>0.0</td>\n",
       "      <td>0.0</td>\n",
       "      <td>1.0</td>\n",
       "      <td>0.0</td>\n",
       "      <td>0.0</td>\n",
       "      <td>0.0</td>\n",
       "      <td>0.0</td>\n",
       "      <td>0.0</td>\n",
       "      <td>...</td>\n",
       "      <td>0.0</td>\n",
       "      <td>0.0</td>\n",
       "      <td>0.0</td>\n",
       "      <td>0.0</td>\n",
       "      <td>0.0</td>\n",
       "      <td>0.0</td>\n",
       "      <td>0.0</td>\n",
       "      <td>0.0</td>\n",
       "      <td>0.0</td>\n",
       "      <td>0.0</td>\n",
       "    </tr>\n",
       "  </tbody>\n",
       "</table>\n",
       "<p>5 rows × 180 columns</p>\n",
       "</div>"
      ],
      "text/plain": [
       "        0_A  0_C  0_D  0_E  0_F  0_G  0_H  0_I  0_K  0_L ...   8_M  8_N  8_P  \\\n",
       "129808  0.0  0.0  0.0  0.0  0.0  0.0  0.0  1.0  0.0  0.0 ...   0.0  0.0  0.0   \n",
       "129809  0.0  0.0  1.0  0.0  0.0  0.0  0.0  0.0  0.0  0.0 ...   0.0  0.0  0.0   \n",
       "129810  0.0  0.0  0.0  0.0  0.0  0.0  0.0  0.0  0.0  0.0 ...   0.0  0.0  0.0   \n",
       "129811  0.0  0.0  0.0  0.0  0.0  0.0  0.0  0.0  0.0  1.0 ...   1.0  0.0  0.0   \n",
       "129812  0.0  0.0  0.0  0.0  1.0  0.0  0.0  0.0  0.0  0.0 ...   0.0  0.0  0.0   \n",
       "\n",
       "        8_Q  8_R  8_S  8_T  8_V  8_W  8_Y  \n",
       "129808  0.0  0.0  0.0  0.0  0.0  0.0  0.0  \n",
       "129809  0.0  0.0  0.0  0.0  0.0  0.0  1.0  \n",
       "129810  0.0  0.0  0.0  0.0  0.0  0.0  0.0  \n",
       "129811  0.0  0.0  0.0  0.0  0.0  0.0  0.0  \n",
       "129812  0.0  0.0  0.0  0.0  0.0  0.0  0.0  \n",
       "\n",
       "[5 rows x 180 columns]"
      ]
     },
     "execution_count": 17,
     "metadata": {},
     "output_type": "execute_result"
    }
   ],
   "source": [
    "OneHot9mers = to_one_hot(Bdata, 9)\n",
    "OneHot9mers.tail()"
   ]
  },
  {
   "cell_type": "markdown",
   "metadata": {},
   "source": [
    "#### 3. Physochemical properties"
   ]
  },
  {
   "cell_type": "code",
   "execution_count": 73,
   "metadata": {
    "collapsed": false
   },
   "outputs": [
    {
     "data": {
      "text/html": [
       "<div>\n",
       "<table border=\"1\" class=\"dataframe\">\n",
       "  <thead>\n",
       "    <tr style=\"text-align: right;\">\n",
       "      <th></th>\n",
       "      <th>molecular_weight</th>\n",
       "      <th>aromaticity</th>\n",
       "      <th>instability_index</th>\n",
       "      <th>isoelectric_point</th>\n",
       "    </tr>\n",
       "  </thead>\n",
       "  <tbody>\n",
       "    <tr>\n",
       "      <th>129808</th>\n",
       "      <td>0.372089</td>\n",
       "      <td>0.000000</td>\n",
       "      <td>0.280008</td>\n",
       "      <td>0.050803</td>\n",
       "    </tr>\n",
       "    <tr>\n",
       "      <th>129809</th>\n",
       "      <td>0.323164</td>\n",
       "      <td>0.111111</td>\n",
       "      <td>0.293921</td>\n",
       "      <td>0.064873</td>\n",
       "    </tr>\n",
       "    <tr>\n",
       "      <th>129810</th>\n",
       "      <td>0.528654</td>\n",
       "      <td>0.333333</td>\n",
       "      <td>0.353245</td>\n",
       "      <td>0.085869</td>\n",
       "    </tr>\n",
       "    <tr>\n",
       "      <th>129811</th>\n",
       "      <td>0.488379</td>\n",
       "      <td>0.111111</td>\n",
       "      <td>0.220120</td>\n",
       "      <td>0.050803</td>\n",
       "    </tr>\n",
       "    <tr>\n",
       "      <th>129812</th>\n",
       "      <td>0.533740</td>\n",
       "      <td>0.555556</td>\n",
       "      <td>0.264814</td>\n",
       "      <td>0.246062</td>\n",
       "    </tr>\n",
       "  </tbody>\n",
       "</table>\n",
       "</div>"
      ],
      "text/plain": [
       "        molecular_weight  aromaticity  instability_index  isoelectric_point\n",
       "129808          0.372089     0.000000           0.280008           0.050803\n",
       "129809          0.323164     0.111111           0.293921           0.064873\n",
       "129810          0.528654     0.333333           0.353245           0.085869\n",
       "129811          0.488379     0.111111           0.220120           0.050803\n",
       "129812          0.533740     0.555556           0.264814           0.246062"
      ]
     },
     "execution_count": 73,
     "metadata": {},
     "output_type": "execute_result"
    }
   ],
   "source": [
    "PhChemicalData = analyse_seq(peptides9mers)\n",
    "PhChemicalData.tail()"
   ]
  },
  {
   "cell_type": "markdown",
   "metadata": {},
   "source": [
    "#### 4.Kidera factors"
   ]
  },
  {
   "cell_type": "code",
   "execution_count": 19,
   "metadata": {
    "collapsed": false
   },
   "outputs": [
    {
     "data": {
      "text/html": [
       "<div>\n",
       "<table border=\"1\" class=\"dataframe\">\n",
       "  <thead>\n",
       "    <tr style=\"text-align: right;\">\n",
       "      <th></th>\n",
       "      <th>f1</th>\n",
       "      <th>f2</th>\n",
       "      <th>f3</th>\n",
       "      <th>f4</th>\n",
       "      <th>f5</th>\n",
       "      <th>f6</th>\n",
       "      <th>f7</th>\n",
       "      <th>f8</th>\n",
       "      <th>f9</th>\n",
       "      <th>f10</th>\n",
       "    </tr>\n",
       "  </thead>\n",
       "  <tbody>\n",
       "    <tr>\n",
       "      <th>129808</th>\n",
       "      <td>-0.011111</td>\n",
       "      <td>-0.355556</td>\n",
       "      <td>-0.186667</td>\n",
       "      <td>0.011111</td>\n",
       "      <td>-0.106667</td>\n",
       "      <td>-0.116667</td>\n",
       "      <td>-0.481111</td>\n",
       "      <td>-0.560000</td>\n",
       "      <td>-0.167778</td>\n",
       "      <td>-0.061111</td>\n",
       "    </tr>\n",
       "    <tr>\n",
       "      <th>129809</th>\n",
       "      <td>0.172222</td>\n",
       "      <td>-0.478889</td>\n",
       "      <td>-0.176667</td>\n",
       "      <td>-0.304444</td>\n",
       "      <td>0.096667</td>\n",
       "      <td>-0.404444</td>\n",
       "      <td>-0.238889</td>\n",
       "      <td>-0.028889</td>\n",
       "      <td>-0.250000</td>\n",
       "      <td>0.283333</td>\n",
       "    </tr>\n",
       "    <tr>\n",
       "      <th>129810</th>\n",
       "      <td>0.367778</td>\n",
       "      <td>0.122222</td>\n",
       "      <td>0.144444</td>\n",
       "      <td>0.002222</td>\n",
       "      <td>-0.051111</td>\n",
       "      <td>-0.146667</td>\n",
       "      <td>-0.062222</td>\n",
       "      <td>0.642222</td>\n",
       "      <td>0.040000</td>\n",
       "      <td>-0.567778</td>\n",
       "    </tr>\n",
       "    <tr>\n",
       "      <th>129811</th>\n",
       "      <td>-0.387778</td>\n",
       "      <td>-0.070000</td>\n",
       "      <td>-0.372222</td>\n",
       "      <td>0.003333</td>\n",
       "      <td>0.041111</td>\n",
       "      <td>0.073333</td>\n",
       "      <td>-0.040000</td>\n",
       "      <td>0.148889</td>\n",
       "      <td>-0.108889</td>\n",
       "      <td>0.062222</td>\n",
       "    </tr>\n",
       "    <tr>\n",
       "      <th>129812</th>\n",
       "      <td>-0.450000</td>\n",
       "      <td>0.132222</td>\n",
       "      <td>0.138889</td>\n",
       "      <td>-0.887778</td>\n",
       "      <td>-0.113333</td>\n",
       "      <td>-0.695556</td>\n",
       "      <td>0.007778</td>\n",
       "      <td>0.648889</td>\n",
       "      <td>0.823333</td>\n",
       "      <td>-0.368889</td>\n",
       "    </tr>\n",
       "  </tbody>\n",
       "</table>\n",
       "</div>"
      ],
      "text/plain": [
       "              f1        f2        f3        f4        f5        f6        f7  \\\n",
       "129808 -0.011111 -0.355556 -0.186667  0.011111 -0.106667 -0.116667 -0.481111   \n",
       "129809  0.172222 -0.478889 -0.176667 -0.304444  0.096667 -0.404444 -0.238889   \n",
       "129810  0.367778  0.122222  0.144444  0.002222 -0.051111 -0.146667 -0.062222   \n",
       "129811 -0.387778 -0.070000 -0.372222  0.003333  0.041111  0.073333 -0.040000   \n",
       "129812 -0.450000  0.132222  0.138889 -0.887778 -0.113333 -0.695556  0.007778   \n",
       "\n",
       "              f8        f9       f10  \n",
       "129808 -0.560000 -0.167778 -0.061111  \n",
       "129809 -0.028889 -0.250000  0.283333  \n",
       "129810  0.642222  0.040000 -0.567778  \n",
       "129811  0.148889 -0.108889  0.062222  \n",
       "129812  0.648889  0.823333 -0.368889  "
      ]
     },
     "execution_count": 19,
     "metadata": {},
     "output_type": "execute_result"
    }
   ],
   "source": [
    "KideraData = add_kidera_ftr(peptides9mers)\n",
    "KideraData.tail()"
   ]
  },
  {
   "cell_type": "markdown",
   "metadata": {},
   "source": [
    "#### 5.BLOSUM scoring matrix"
   ]
  },
  {
   "cell_type": "code",
   "execution_count": 98,
   "metadata": {},
   "outputs": [
    {
     "data": {
      "text/html": [
       "<div>\n",
       "<table border=\"1\" class=\"dataframe\">\n",
       "  <thead>\n",
       "    <tr style=\"text-align: right;\">\n",
       "      <th></th>\n",
       "      <th>0</th>\n",
       "      <th>1</th>\n",
       "      <th>2</th>\n",
       "      <th>3</th>\n",
       "      <th>4</th>\n",
       "      <th>5</th>\n",
       "      <th>6</th>\n",
       "      <th>7</th>\n",
       "      <th>8</th>\n",
       "    </tr>\n",
       "  </thead>\n",
       "  <tbody>\n",
       "    <tr>\n",
       "      <th>0</th>\n",
       "      <td>4.0</td>\n",
       "      <td>-2.0</td>\n",
       "      <td>-3.0</td>\n",
       "      <td>-3.0</td>\n",
       "      <td>-3.0</td>\n",
       "      <td>0.0</td>\n",
       "      <td>-2.0</td>\n",
       "      <td>-2.0</td>\n",
       "      <td>-3.0</td>\n",
       "    </tr>\n",
       "    <tr>\n",
       "      <th>1</th>\n",
       "      <td>4.0</td>\n",
       "      <td>-2.0</td>\n",
       "      <td>-2.0</td>\n",
       "      <td>2.0</td>\n",
       "      <td>-3.0</td>\n",
       "      <td>1.0</td>\n",
       "      <td>-3.0</td>\n",
       "      <td>0.0</td>\n",
       "      <td>-3.0</td>\n",
       "    </tr>\n",
       "    <tr>\n",
       "      <th>2</th>\n",
       "      <td>4.0</td>\n",
       "      <td>-1.0</td>\n",
       "      <td>0.0</td>\n",
       "      <td>6.0</td>\n",
       "      <td>-3.0</td>\n",
       "      <td>-3.0</td>\n",
       "      <td>2.0</td>\n",
       "      <td>-2.0</td>\n",
       "      <td>-3.0</td>\n",
       "    </tr>\n",
       "    <tr>\n",
       "      <th>3</th>\n",
       "      <td>4.0</td>\n",
       "      <td>1.0</td>\n",
       "      <td>0.0</td>\n",
       "      <td>2.0</td>\n",
       "      <td>-1.0</td>\n",
       "      <td>-3.0</td>\n",
       "      <td>-3.0</td>\n",
       "      <td>-2.0</td>\n",
       "      <td>-3.0</td>\n",
       "    </tr>\n",
       "    <tr>\n",
       "      <th>4</th>\n",
       "      <td>-2.0</td>\n",
       "      <td>-1.0</td>\n",
       "      <td>0.0</td>\n",
       "      <td>-3.0</td>\n",
       "      <td>-3.0</td>\n",
       "      <td>-3.0</td>\n",
       "      <td>5.0</td>\n",
       "      <td>0.0</td>\n",
       "      <td>-3.0</td>\n",
       "    </tr>\n",
       "  </tbody>\n",
       "</table>\n",
       "</div>"
      ],
      "text/plain": [
       "     0    1    2    3    4    5    6    7    8\n",
       "0  4.0 -2.0 -3.0 -3.0 -3.0  0.0 -2.0 -2.0 -3.0\n",
       "1  4.0 -2.0 -2.0  2.0 -3.0  1.0 -3.0  0.0 -3.0\n",
       "2  4.0 -1.0  0.0  6.0 -3.0 -3.0  2.0 -2.0 -3.0\n",
       "3  4.0  1.0  0.0  2.0 -1.0 -3.0 -3.0 -2.0 -3.0\n",
       "4 -2.0 -1.0  0.0 -3.0 -3.0 -3.0  5.0  0.0 -3.0"
      ]
     },
     "execution_count": 98,
     "metadata": {},
     "output_type": "execute_result"
    }
   ],
   "source": [
    "blosum_matrix = pd.read_csv(\"../mhc/blosum.csv\").drop([\"x\"], axis = 1)\n",
    "def make_blosum(sequences):\n",
    "    result = pd.DataFrame()\n",
    "    for cur_seq in sequences:\n",
    "        encoded = []\n",
    "        for i, j in enumerate(list(cur_seq)):\n",
    "            encoded.append(blosum_matrix[j][i])\n",
    "        result = result.append(pd.Series(encoded), ignore_index = True)\n",
    "    return result\n",
    "        \n",
    "blosum = make_blosum(peptides9mers)\n",
    "blosum.head()"
   ]
  },
  {
   "cell_type": "code",
   "execution_count": null,
   "metadata": {},
   "outputs": [],
   "source": []
  },
  {
   "cell_type": "markdown",
   "metadata": {},
   "source": [
    "## Training XGboost"
   ]
  },
  {
   "cell_type": "code",
   "execution_count": 61,
   "metadata": {},
   "outputs": [],
   "source": [
    "def affinity_to_classes(affinity):\n",
    "    return pd.Series([round(10*i, 0) for i in affinity])\n",
    "\n",
    "def affinity_to_binary(affinity):\n",
    "    return pd.Series(map(lambda x: 1 if x >= 0.5 else 0, affinity))"
   ]
  },
  {
   "cell_type": "code",
   "execution_count": 99,
   "metadata": {
    "collapsed": false
   },
   "outputs": [],
   "source": [
    "def xgb_grid_search(data, target):\n",
    "    \n",
    "    # split\n",
    "    X_train, X_test, y_train, y_test = cross_validation.train_test_split(data, target, test_size=0.25, random_state=442)\n",
    "    \n",
    "    # train\n",
    "    \n",
    "    gbm_params = {\n",
    "        'min_child_weight': [4, 7], \n",
    "        'gamma':[i/10.0 for i in range(0,5)]\n",
    "    }\n",
    "    \n",
    "    print(\"GridSeachCV proceeding...\")\n",
    "    gbm = GridSearchCV(xgb.XGBClassifier(objective='binary:logistic', max_depth = 7, max_delta_step = 5, learning_rate = 0.15, scale_pos_weight = 2), gbm_params, n_jobs=2, cv=5, verbose=10)\n",
    "    gbm.fit(X_train, y_train)\n",
    "    print(\"Done.\")\n",
    "    \n",
    "    print(101*\"=\"+ \"\\nBEST PARAMETERS: \", gbm.best_params_, \"\\n\"+101*\"=\"+\"\\n\")\n",
    "    predictions = gbm.predict(X_test)\n",
    "    \n",
    "    print(\"==================\\nACCURACY : %.4g\\n==================\" % metrics.roc_auc_score(y_test, predictions))\n",
    "    "
   ]
  },
  {
   "cell_type": "code",
   "execution_count": 22,
   "metadata": {
    "collapsed": false,
    "scrolled": true
   },
   "outputs": [],
   "source": [
    "affinity = Bdata[Bdata.peptide_length == 9].meas.reset_index(drop=True)\n",
    "affinity_classes = affinity_to_classes(affinity)\n",
    "affinity_binary = affinity_to_binary(affinity)"
   ]
  },
  {
   "cell_type": "code",
   "execution_count": 23,
   "metadata": {
    "collapsed": false
   },
   "outputs": [],
   "source": [
    "#xgb_grid_search(OneHot9mers, affinity_binary)"
   ]
  },
  {
   "cell_type": "code",
   "execution_count": 107,
   "metadata": {
    "collapsed": true
   },
   "outputs": [],
   "source": [
    "def xgb_best(data, target):\n",
    "    X_train, X_test, y_train, y_test = cross_validation.train_test_split(data, target, test_size=0.25, random_state=442)\n",
    "    \n",
    "    gbm = xgb.XGBClassifier(objective='binary:logistic', max_depth = 7)\n",
    "    gbm.fit(X_train, y_train)\n",
    "    predictions = gbm.predict(X_test)\n",
    "    print(\"Accuracy : %.4g\" % metrics.roc_auc_score(y_test, predictions))\n",
    "    \n",
    "    "
   ]
  },
  {
   "cell_type": "markdown",
   "metadata": {},
   "source": [
    "Best parameters:  {'learning_rate': 0.2, 'max_delta_step': 5, 'n_estimators': 250, 'max_depth': 7} \n",
    "Accuracy: 0.817"
   ]
  },
  {
   "cell_type": "code",
   "execution_count": 102,
   "metadata": {},
   "outputs": [
    {
     "name": "stdout",
     "output_type": "stream",
     "text": [
      "GridSeachCV proceeding...\n",
      "Fitting 5 folds for each of 10 candidates, totalling 50 fits\n",
      "[CV] gamma=0.0, min_child_weight=4 ...................................\n",
      "[CV] gamma=0.0, min_child_weight=4 ...................................\n",
      "[CV] .......... gamma=0.0, min_child_weight=4, score=0.773264 -  14.2s\n",
      "[CV] gamma=0.0, min_child_weight=4 ...................................\n",
      "[CV] .......... gamma=0.0, min_child_weight=4, score=0.768038 -  14.5s\n"
     ]
    },
    {
     "name": "stderr",
     "output_type": "stream",
     "text": [
      "[Parallel(n_jobs=2)]: Done   1 tasks      | elapsed:   16.3s\n"
     ]
    },
    {
     "name": "stdout",
     "output_type": "stream",
     "text": [
      "[CV] gamma=0.0, min_child_weight=4 ...................................\n",
      "[CV] .......... gamma=0.0, min_child_weight=4, score=0.772225 -  14.1s\n",
      "[CV] gamma=0.0, min_child_weight=4 ...................................\n",
      "[CV] .......... gamma=0.0, min_child_weight=4, score=0.773367 -  14.7s\n",
      "[CV] gamma=0.0, min_child_weight=7 ...................................\n"
     ]
    },
    {
     "name": "stderr",
     "output_type": "stream",
     "text": [
      "[Parallel(n_jobs=2)]: Done   4 tasks      | elapsed:   31.1s\n"
     ]
    },
    {
     "name": "stdout",
     "output_type": "stream",
     "text": [
      "[CV] .......... gamma=0.0, min_child_weight=4, score=0.772379 -  16.2s\n",
      "[CV] gamma=0.0, min_child_weight=7 ...................................\n",
      "[CV] .......... gamma=0.0, min_child_weight=7, score=0.767370 -  16.6s\n",
      "[CV] gamma=0.0, min_child_weight=7 ...................................\n",
      "[CV] .......... gamma=0.0, min_child_weight=7, score=0.773367 -  18.7s\n",
      "[CV] gamma=0.0, min_child_weight=7 ...................................\n",
      "[CV] .......... gamma=0.0, min_child_weight=7, score=0.774497 -  19.1s\n",
      "[CV] gamma=0.0, min_child_weight=7 ...................................\n",
      "[CV] .......... gamma=0.0, min_child_weight=7, score=0.768528 -  18.6s\n",
      "[CV] gamma=0.1, min_child_weight=4 ...................................\n"
     ]
    },
    {
     "name": "stderr",
     "output_type": "stream",
     "text": [
      "[Parallel(n_jobs=2)]: Done   9 tasks      | elapsed:  1.4min\n"
     ]
    },
    {
     "name": "stdout",
     "output_type": "stream",
     "text": [
      "[CV] .......... gamma=0.0, min_child_weight=7, score=0.769452 -  18.1s\n",
      "[CV] gamma=0.1, min_child_weight=4 ...................................\n",
      "[CV] .......... gamma=0.1, min_child_weight=4, score=0.772288 -  16.4s\n",
      "[CV] gamma=0.1, min_child_weight=4 ...................................\n",
      "[CV] .......... gamma=0.1, min_child_weight=4, score=0.768346 -  17.1s\n",
      "[CV] gamma=0.1, min_child_weight=4 ...................................\n",
      "[CV] .......... gamma=0.1, min_child_weight=4, score=0.774189 -  15.3s\n",
      "[CV] gamma=0.1, min_child_weight=4 ...................................\n",
      "[CV] .......... gamma=0.1, min_child_weight=4, score=0.772996 -  16.0s\n",
      "[CV] gamma=0.1, min_child_weight=7 ...................................\n"
     ]
    },
    {
     "name": "stderr",
     "output_type": "stream",
     "text": [
      "[Parallel(n_jobs=2)]: Done  14 tasks      | elapsed:  2.0min\n"
     ]
    },
    {
     "name": "stdout",
     "output_type": "stream",
     "text": [
      "[CV] .......... gamma=0.1, min_child_weight=4, score=0.769349 -  18.7s\n",
      "[CV] gamma=0.1, min_child_weight=7 ...................................\n",
      "[CV] .......... gamma=0.1, min_child_weight=7, score=0.768603 -  19.1s\n",
      "[CV] gamma=0.1, min_child_weight=7 ...................................\n",
      "[CV] .......... gamma=0.1, min_child_weight=7, score=0.772186 -  19.1s\n",
      "[CV] gamma=0.1, min_child_weight=7 ...................................\n",
      "[CV] .......... gamma=0.1, min_child_weight=7, score=0.772032 -  18.6s\n",
      "[CV] gamma=0.1, min_child_weight=7 ...................................\n",
      "[CV] .......... gamma=0.1, min_child_weight=7, score=0.772431 -  18.5s\n",
      "[CV] gamma=0.2, min_child_weight=4 ...................................\n",
      "[CV] .......... gamma=0.1, min_child_weight=7, score=0.771660 -  19.9s\n",
      "[CV] gamma=0.2, min_child_weight=4 ...................................\n",
      "[CV] .......... gamma=0.2, min_child_weight=4, score=0.770965 -  14.8s\n",
      "[CV] gamma=0.2, min_child_weight=4 ...................................\n"
     ]
    },
    {
     "name": "stderr",
     "output_type": "stream",
     "text": [
      "[Parallel(n_jobs=2)]: Done  21 tasks      | elapsed:  3.2min\n"
     ]
    },
    {
     "name": "stdout",
     "output_type": "stream",
     "text": [
      "[CV] .......... gamma=0.2, min_child_weight=4, score=0.771672 -  16.1s\n",
      "[CV] gamma=0.2, min_child_weight=4 ...................................\n",
      "[CV] .......... gamma=0.2, min_child_weight=4, score=0.773470 -  19.9s\n",
      "[CV] gamma=0.2, min_child_weight=4 ...................................\n",
      "[CV] .......... gamma=0.2, min_child_weight=4, score=0.769298 -  20.5s\n",
      "[CV] gamma=0.2, min_child_weight=7 ...................................\n",
      "[CV] .......... gamma=0.2, min_child_weight=4, score=0.772893 -  15.4s\n",
      "[CV] gamma=0.2, min_child_weight=7 ...................................\n",
      "[CV] .......... gamma=0.2, min_child_weight=7, score=0.766651 -  15.0s\n",
      "[CV] gamma=0.2, min_child_weight=7 ...................................\n",
      "[CV] .......... gamma=0.2, min_child_weight=7, score=0.773521 -  20.8s\n",
      "[CV] gamma=0.2, min_child_weight=7 ...................................\n",
      "[CV] .......... gamma=0.2, min_child_weight=7, score=0.772956 -  21.4s\n",
      "[CV] gamma=0.2, min_child_weight=7 ...................................\n"
     ]
    },
    {
     "name": "stderr",
     "output_type": "stream",
     "text": [
      "[Parallel(n_jobs=2)]: Done  28 tasks      | elapsed:  4.1min\n"
     ]
    },
    {
     "name": "stdout",
     "output_type": "stream",
     "text": [
      "[CV] .......... gamma=0.2, min_child_weight=7, score=0.771609 -  18.1s\n",
      "[CV] gamma=0.3, min_child_weight=4 ...................................\n",
      "[CV] .......... gamma=0.2, min_child_weight=7, score=0.772277 -  16.8s\n",
      "[CV] gamma=0.3, min_child_weight=4 ...................................\n",
      "[CV] .......... gamma=0.3, min_child_weight=4, score=0.771222 -  19.3s\n",
      "[CV] gamma=0.3, min_child_weight=4 ...................................\n",
      "[CV] .......... gamma=0.3, min_child_weight=4, score=0.771826 -  19.1s\n",
      "[CV] gamma=0.3, min_child_weight=4 ...................................\n",
      "[CV] .......... gamma=0.3, min_child_weight=4, score=0.773829 -  19.1s\n",
      "[CV] gamma=0.3, min_child_weight=4 ...................................\n",
      "[CV] .......... gamma=0.3, min_child_weight=4, score=0.769606 -  19.9s\n",
      "[CV] gamma=0.3, min_child_weight=7 ...................................\n",
      "[CV] .......... gamma=0.3, min_child_weight=4, score=0.770171 -  18.8s\n",
      "[CV] gamma=0.3, min_child_weight=7 ...................................\n",
      "[CV] .......... gamma=0.3, min_child_weight=7, score=0.770246 -  20.5s\n",
      "[CV] gamma=0.3, min_child_weight=7 ...................................\n",
      "[CV] .......... gamma=0.3, min_child_weight=7, score=0.771929 -  20.7s\n",
      "[CV] gamma=0.3, min_child_weight=7 ...................................\n"
     ]
    },
    {
     "name": "stderr",
     "output_type": "stream",
     "text": [
      "[Parallel(n_jobs=2)]: Done  37 tasks      | elapsed:  5.7min\n"
     ]
    },
    {
     "name": "stdout",
     "output_type": "stream",
     "text": [
      "[CV] .......... gamma=0.3, min_child_weight=7, score=0.773675 -  18.3s\n",
      "[CV] gamma=0.3, min_child_weight=7 ...................................\n",
      "[CV] .......... gamma=0.3, min_child_weight=7, score=0.772225 -  20.0s\n",
      "[CV] gamma=0.4, min_child_weight=4 ...................................\n",
      "[CV] .......... gamma=0.3, min_child_weight=7, score=0.770428 -  18.6s\n",
      "[CV] gamma=0.4, min_child_weight=4 ...................................\n",
      "[CV] .......... gamma=0.4, min_child_weight=4, score=0.771056 -  19.2s\n",
      "[CV] gamma=0.4, min_child_weight=4 ...................................\n",
      "[CV] .......... gamma=0.4, min_child_weight=4, score=0.769476 -  19.8s\n",
      "[CV] gamma=0.4, min_child_weight=4 ...................................\n",
      "[CV] .......... gamma=0.4, min_child_weight=4, score=0.773869 -  17.6s\n",
      "[CV] gamma=0.4, min_child_weight=4 ...................................\n",
      "[CV] .......... gamma=0.4, min_child_weight=4, score=0.775318 -  18.7s\n",
      "[CV] gamma=0.4, min_child_weight=7 ...................................\n",
      "[CV] .......... gamma=0.4, min_child_weight=4, score=0.771147 -  17.6s\n",
      "[CV] gamma=0.4, min_child_weight=7 ...................................\n",
      "[CV] .......... gamma=0.4, min_child_weight=7, score=0.770246 -  17.8s\n",
      "[CV] gamma=0.4, min_child_weight=7 ...................................\n"
     ]
    },
    {
     "name": "stderr",
     "output_type": "stream",
     "text": [
      "[Parallel(n_jobs=2)]: Done  46 tasks      | elapsed:  7.0min\n"
     ]
    },
    {
     "name": "stdout",
     "output_type": "stream",
     "text": [
      "[CV] .......... gamma=0.4, min_child_weight=7, score=0.774959 -  18.4s\n",
      "[CV] gamma=0.4, min_child_weight=7 ...................................\n",
      "[CV] .......... gamma=0.4, min_child_weight=7, score=0.772751 -  19.2s\n",
      "[CV] gamma=0.4, min_child_weight=7 ...................................\n",
      "[CV] .......... gamma=0.4, min_child_weight=7, score=0.770274 -  20.5s\n",
      "[CV] .......... gamma=0.4, min_child_weight=7, score=0.772636 -  19.7s\n"
     ]
    },
    {
     "name": "stderr",
     "output_type": "stream",
     "text": [
      "[Parallel(n_jobs=2)]: Done  50 out of  50 | elapsed:  7.6min finished\n"
     ]
    },
    {
     "name": "stdout",
     "output_type": "stream",
     "text": [
      "Done.\n",
      "===================================================================================================\n",
      "BEST PARAMETERS:  {'gamma': 0.4, 'min_child_weight': 4} \n",
      "===================================================================================================\n",
      "\n",
      "==================\n",
      "ACCURACY : 0.6122\n",
      "==================\n",
      "GridSeachCV proceeding...\n",
      "Fitting 5 folds for each of 10 candidates, totalling 50 fits\n",
      "[CV] gamma=0.0, min_child_weight=4 ...................................\n",
      "[CV] gamma=0.0, min_child_weight=4 ...................................\n",
      "[CV] .......... gamma=0.0, min_child_weight=4, score=0.786628 - 2.6min\n",
      "[CV] .......... gamma=0.0, min_child_weight=4, score=0.790776 - 2.5min\n",
      "[CV] gamma=0.0, min_child_weight=4 ...................................\n"
     ]
    },
    {
     "name": "stderr",
     "output_type": "stream",
     "text": [
      "[Parallel(n_jobs=2)]: Done   1 tasks      | elapsed:  2.7min\n"
     ]
    },
    {
     "name": "stdout",
     "output_type": "stream",
     "text": [
      "[CV] gamma=0.0, min_child_weight=4 ...................................\n",
      "[CV] .......... gamma=0.0, min_child_weight=4, score=0.793036 -  55.0s\n",
      "[CV] gamma=0.0, min_child_weight=4 ...................................\n",
      "[CV] .......... gamma=0.0, min_child_weight=4, score=0.793488 - 2.1min\n",
      "[CV] gamma=0.0, min_child_weight=7 ...................................\n"
     ]
    },
    {
     "name": "stderr",
     "output_type": "stream",
     "text": [
      "[Parallel(n_jobs=2)]: Done   4 tasks      | elapsed:  5.4min\n"
     ]
    },
    {
     "name": "stdout",
     "output_type": "stream",
     "text": [
      "[CV] .......... gamma=0.0, min_child_weight=4, score=0.790304 - 2.2min\n",
      "[CV] gamma=0.0, min_child_weight=7 ...................................\n",
      "[CV] .......... gamma=0.0, min_child_weight=7, score=0.786063 - 2.1min\n",
      "[CV] gamma=0.0, min_child_weight=7 ...................................\n",
      "[CV] .......... gamma=0.0, min_child_weight=7, score=0.793088 - 2.1min\n",
      "[CV] gamma=0.0, min_child_weight=7 ...................................\n",
      "[CV] .......... gamma=0.0, min_child_weight=7, score=0.792420 - 2.2min\n",
      "[CV] gamma=0.0, min_child_weight=7 ...................................\n",
      "[CV] .......... gamma=0.0, min_child_weight=7, score=0.790458 - 2.1min\n",
      "[CV] gamma=0.1, min_child_weight=4 ...................................\n"
     ]
    },
    {
     "name": "stderr",
     "output_type": "stream",
     "text": [
      "[Parallel(n_jobs=2)]: Done   9 tasks      | elapsed: 10.0min\n"
     ]
    },
    {
     "name": "stdout",
     "output_type": "stream",
     "text": [
      "[CV] .......... gamma=0.0, min_child_weight=7, score=0.789276 - 2.1min\n",
      "[CV] gamma=0.1, min_child_weight=4 ...................................\n",
      "[CV] .......... gamma=0.1, min_child_weight=4, score=0.787706 - 2.1min\n",
      "[CV] gamma=0.1, min_child_weight=4 ...................................\n",
      "[CV] .......... gamma=0.1, min_child_weight=4, score=0.789390 - 2.1min\n",
      "[CV] gamma=0.1, min_child_weight=4 ...................................\n",
      "[CV] .......... gamma=0.1, min_child_weight=4, score=0.794217 - 2.1min\n",
      "[CV] gamma=0.1, min_child_weight=4 ...................................\n",
      "[CV] .......... gamma=0.1, min_child_weight=4, score=0.790047 - 2.2min\n",
      "[CV] gamma=0.1, min_child_weight=7 ...................................\n"
     ]
    },
    {
     "name": "stderr",
     "output_type": "stream",
     "text": [
      "[Parallel(n_jobs=2)]: Done  14 tasks      | elapsed: 16.1min\n"
     ]
    },
    {
     "name": "stdout",
     "output_type": "stream",
     "text": [
      "[CV] .......... gamma=0.1, min_child_weight=4, score=0.792152 - 2.2min\n",
      "[CV] gamma=0.1, min_child_weight=7 ...................................\n",
      "[CV] .......... gamma=0.1, min_child_weight=7, score=0.784471 - 2.2min\n",
      "[CV] gamma=0.1, min_child_weight=7 ...................................\n",
      "[CV] .......... gamma=0.1, min_child_weight=7, score=0.792060 - 2.2min\n",
      "[CV] gamma=0.1, min_child_weight=7 ...................................\n",
      "[CV] .......... gamma=0.1, min_child_weight=7, score=0.792471 - 2.2min\n",
      "[CV] gamma=0.1, min_child_weight=7 ...................................\n",
      "[CV] .......... gamma=0.1, min_child_weight=7, score=0.790971 - 2.2min\n",
      "[CV] gamma=0.2, min_child_weight=4 ...................................\n",
      "[CV] .......... gamma=0.1, min_child_weight=7, score=0.791331 - 2.2min\n",
      "[CV] gamma=0.2, min_child_weight=4 ...................................\n",
      "[CV] .......... gamma=0.2, min_child_weight=4, score=0.787347 - 2.2min\n",
      "[CV] gamma=0.2, min_child_weight=4 ...................................\n"
     ]
    },
    {
     "name": "stderr",
     "output_type": "stream",
     "text": [
      "[Parallel(n_jobs=2)]: Done  21 tasks      | elapsed: 23.1min\n"
     ]
    },
    {
     "name": "stdout",
     "output_type": "stream",
     "text": [
      "[CV] .......... gamma=0.2, min_child_weight=4, score=0.789030 - 2.2min\n",
      "[CV] gamma=0.2, min_child_weight=4 ...................................\n",
      "[CV] .......... gamma=0.2, min_child_weight=4, score=0.790212 - 2.2min\n",
      "[CV] gamma=0.2, min_child_weight=4 ...................................\n",
      "[CV] .......... gamma=0.2, min_child_weight=4, score=0.791433 - 2.2min\n",
      "[CV] gamma=0.2, min_child_weight=7 ...................................\n",
      "[CV] .......... gamma=0.2, min_child_weight=4, score=0.790868 - 2.2min\n",
      "[CV] gamma=0.2, min_child_weight=7 ...................................\n",
      "[CV] .......... gamma=0.2, min_child_weight=7, score=0.783495 - 2.2min\n",
      "[CV] gamma=0.2, min_child_weight=7 ...................................\n",
      "[CV] .......... gamma=0.2, min_child_weight=7, score=0.791341 - 2.2min\n",
      "[CV] gamma=0.2, min_child_weight=7 ...................................\n",
      "[CV] .......... gamma=0.2, min_child_weight=7, score=0.793909 - 2.1min\n",
      "[CV] gamma=0.2, min_child_weight=7 ...................................\n"
     ]
    },
    {
     "name": "stderr",
     "output_type": "stream",
     "text": [
      "[Parallel(n_jobs=2)]: Done  28 tasks      | elapsed: 31.3min\n"
     ]
    },
    {
     "name": "stdout",
     "output_type": "stream",
     "text": [
      "[CV] .......... gamma=0.2, min_child_weight=7, score=0.789893 - 2.2min\n",
      "[CV] gamma=0.3, min_child_weight=4 ...................................\n",
      "[CV] .......... gamma=0.2, min_child_weight=7, score=0.789430 - 2.2min\n",
      "[CV] gamma=0.3, min_child_weight=4 ...................................\n",
      "[CV] .......... gamma=0.3, min_child_weight=4, score=0.787706 - 2.2min\n",
      "[CV] gamma=0.3, min_child_weight=4 ...................................\n",
      "[CV] .......... gamma=0.3, min_child_weight=4, score=0.791855 - 2.2min\n",
      "[CV] gamma=0.3, min_child_weight=4 ...................................\n",
      "[CV] .......... gamma=0.3, min_child_weight=4, score=0.791033 - 2.2min\n",
      "[CV] gamma=0.3, min_child_weight=4 ...................................\n",
      "[CV] .......... gamma=0.3, min_child_weight=4, score=0.790920 - 2.2min\n",
      "[CV] gamma=0.3, min_child_weight=7 ...................................\n",
      "[CV] .......... gamma=0.3, min_child_weight=4, score=0.789944 - 2.2min\n",
      "[CV] gamma=0.3, min_child_weight=7 ...................................\n",
      "[CV] .......... gamma=0.3, min_child_weight=7, score=0.782982 - 2.2min\n",
      "[CV] gamma=0.3, min_child_weight=7 ...................................\n",
      "[CV] .......... gamma=0.3, min_child_weight=7, score=0.790160 - 2.2min\n",
      "[CV] gamma=0.3, min_child_weight=7 ...................................\n"
     ]
    },
    {
     "name": "stderr",
     "output_type": "stream",
     "text": [
      "[Parallel(n_jobs=2)]: Done  37 tasks      | elapsed: 40.5min\n"
     ]
    },
    {
     "name": "stdout",
     "output_type": "stream",
     "text": [
      "[CV] .......... gamma=0.3, min_child_weight=7, score=0.795193 - 2.2min\n",
      "[CV] gamma=0.3, min_child_weight=7 ...................................\n",
      "[CV] .......... gamma=0.3, min_child_weight=7, score=0.791125 - 2.2min\n",
      "[CV] gamma=0.4, min_child_weight=4 ...................................\n",
      "[CV] .......... gamma=0.3, min_child_weight=7, score=0.791844 - 2.2min\n",
      "[CV] gamma=0.4, min_child_weight=4 ...................................\n",
      "[CV] .......... gamma=0.4, min_child_weight=4, score=0.785549 - 2.2min\n",
      "[CV] gamma=0.4, min_child_weight=4 ...................................\n",
      "[CV] .......... gamma=0.4, min_child_weight=4, score=0.792163 - 2.2min\n",
      "[CV] gamma=0.4, min_child_weight=4 ...................................\n",
      "[CV] .......... gamma=0.4, min_child_weight=4, score=0.793344 - 2.2min\n",
      "[CV] gamma=0.4, min_child_weight=4 ...................................\n",
      "[CV] .......... gamma=0.4, min_child_weight=4, score=0.793488 - 2.2min\n",
      "[CV] gamma=0.4, min_child_weight=7 ...................................\n",
      "[CV] .......... gamma=0.4, min_child_weight=4, score=0.792409 - 2.2min\n",
      "[CV] gamma=0.4, min_child_weight=7 ...................................\n",
      "[CV] .......... gamma=0.4, min_child_weight=7, score=0.784830 - 2.2min\n",
      "[CV] gamma=0.4, min_child_weight=7 ...................................\n"
     ]
    },
    {
     "name": "stderr",
     "output_type": "stream",
     "text": [
      "[Parallel(n_jobs=2)]: Done  46 tasks      | elapsed: 51.0min\n"
     ]
    },
    {
     "name": "stdout",
     "output_type": "stream",
     "text": [
      "[CV] .......... gamma=0.4, min_child_weight=7, score=0.789955 - 2.2min\n",
      "[CV] gamma=0.4, min_child_weight=7 ...................................\n",
      "[CV] .......... gamma=0.4, min_child_weight=7, score=0.792060 - 2.2min\n",
      "[CV] gamma=0.4, min_child_weight=7 ...................................\n",
      "[CV] .......... gamma=0.4, min_child_weight=7, score=0.790560 - 2.2min\n",
      "[CV] .......... gamma=0.4, min_child_weight=7, score=0.787992 - 1.2min\n"
     ]
    },
    {
     "name": "stderr",
     "output_type": "stream",
     "text": [
      "[Parallel(n_jobs=2)]: Done  50 out of  50 | elapsed: 54.4min finished\n"
     ]
    },
    {
     "name": "stdout",
     "output_type": "stream",
     "text": [
      "Done.\n",
      "===================================================================================================\n",
      "BEST PARAMETERS:  {'gamma': 0.4, 'min_child_weight': 4} \n",
      "===================================================================================================\n",
      "\n",
      "==================\n",
      "ACCURACY : 0.6473\n",
      "==================\n"
     ]
    }
   ],
   "source": [
    "data_many_features = pd.concat([KideraData, PhChemicalData], axis=1)\n",
    "dataframes = [KideraData, data_many_features]\n",
    "\n",
    "xgb_grid_search(blosum, affinity_binary)\n",
    "xgb_grid_search(pd.concat([blosum, OneHot9mers], axis=1), affinity_binary)"
   ]
  },
  {
   "cell_type": "code",
   "execution_count": 113,
   "metadata": {},
   "outputs": [
    {
     "data": {
      "image/png": "[encoded data removed]",
      "text/plain": [
       "<matplotlib.figure.Figure at 0x7f4471fd0240>"
      ]
     },
     "metadata": {},
     "output_type": "display_data"
    }
   ],
   "source": [
    "plt.title(\"Affinity distribution(threshold = 500nM)\")\n",
    "afd = affinity_binary.hist(bins=2)\n"
   ]
  },
  {
   "cell_type": "code",
   "execution_count": null,
   "metadata": {},
   "outputs": [],
   "source": []
  },
  {
   "cell_type": "code",
   "execution_count": null,
   "metadata": {},
   "outputs": [],
   "source": []
  }
 ],
 "metadata": {
  "anaconda-cloud": {},
  "kernelspec": {
   "display_name": "Python [Root]",
   "language": "python",
   "name": "Python [Root]"
  },
  "language_info": {
   "codemirror_mode": {
    "name": "ipython",
    "version": 3
   },
   "file_extension": ".py",
   "mimetype": "text/x-python",
   "name": "python",
   "nbconvert_exporter": "python",
   "pygments_lexer": "ipython3",
   "version": "3.5.2"
  }
 },
 "nbformat": 4,
 "nbformat_minor": 0
}

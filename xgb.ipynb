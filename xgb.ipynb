{
 "cells": [
  {
   "cell_type": "code",
   "execution_count": 8,
   "metadata": {
    "collapsed": false
   },
   "outputs": [],
   "source": [
    "import matplotlib.pyplot as plt\n",
    "import numpy as np\n",
    "import pandas as pd\n",
    "import xgboost as xgb\n",
    "import math\n",
    "\n",
    "from pandas import get_dummies\n",
    "from sklearn import preprocessing\n",
    "from sklearn import cross_validation, metrics \n",
    "\n",
    "%matplotlib inline\n",
    "plt.style.use('ggplot')"
   ]
  },
  {
   "cell_type": "code",
   "execution_count": 9,
   "metadata": {
    "collapsed": true
   },
   "outputs": [],
   "source": [
    "from Bio.SeqUtils import ProtParamData  # Local\n",
    "from Bio.SeqUtils import IsoelectricPoint  # Local\n",
    "from Bio.Seq import Seq\n",
    "from Bio.Alphabet import IUPAC\n",
    "from Bio.Data import IUPACData\n",
    "from Bio.SeqUtils import molecular_weight\n",
    "from Bio import SeqIO\n",
    "from Bio.SeqUtils import ProtParam"
   ]
  },
  {
   "cell_type": "code",
   "execution_count": null,
   "metadata": {
    "collapsed": false
   },
   "outputs": [],
   "source": []
  },
  {
   "cell_type": "markdown",
   "metadata": {
    "collapsed": false
   },
   "source": [
    "## Feature engineering \n",
    "* Log50000\n",
    "* chemical structure\n",
    "* kidera factors\n",
    "* Phylogenetic tree"
   ]
  },
  {
   "cell_type": "code",
   "execution_count": 10,
   "metadata": {
    "collapsed": false
   },
   "outputs": [],
   "source": [
    "\"\"\"\n",
    "logarithming according to articles\n",
    "\"\"\"\n",
    "def log_meas(current):\n",
    "    new_meas = 1 - math.log(current, 50000.0)\n",
    "    if new_meas > 1: new_meas = 1\n",
    "    if new_meas < 0: new_meas = 0\n",
    "    return new_meas"
   ]
  },
  {
   "cell_type": "code",
   "execution_count": 8,
   "metadata": {
    "collapsed": false
   },
   "outputs": [],
   "source": [
    "\"\"\"\n",
    "analyse_seq adds to DataFrame data with peptide sequences  columnns with chemical attributes of peptide\n",
    "\"\"\"\n",
    "\n",
    "def analyse_seq(sequences):\n",
    "    physochem = pd.DataFrame()\n",
    "    mol_weight = []\n",
    "    aromaticity = []\n",
    "    instability_index = []\n",
    "    isoelectric_point = []\n",
    "    for i in sequences:\n",
    "        X = ProtParam.ProteinAnalysis(i)\n",
    "        mol_weight.append(X.molecular_weight())\n",
    "        aromaticity.append(X.aromaticity())\n",
    "        instability_index.append(X.instability_index())\n",
    "        isoelectric_point.append(X.isoelectric_point())\n",
    "    physochem[\"molecular_weight\"] = mol_weight\n",
    "    physochem[\"aromaticity\"] = aromaticity\n",
    "    physochem[\"instability_index\"] = instability_index\n",
    "    physochem[\"isoelectric_point\"] = isoelectric_point\n",
    "    min_max_scaler = preprocessing.MinMaxScaler()\n",
    "    x_scaled = min_max_scaler.fit_transform(physochem[[\"molecular_weight\",\"instability_index\", \"isoelectric_point\"]])\n",
    "    x_scaled = pd.DataFrame(x_scaled, columns=[\"molecular_weight\",\"instability_index\", \"isoelectric_point\"])\n",
    "    physochem[\"molecular_weight\"] = pd.DataFrame(x_scaled[\"molecular_weight\"])\n",
    "    physochem[\"instability_index\"] = pd.DataFrame(x_scaled[\"instability_index\"])\n",
    "    physochem[\"isoelectric_point\"] = pd.DataFrame(x_scaled[\"isoelectric_point\"])\n",
    "    return physochem"
   ]
  },
  {
   "cell_type": "code",
   "execution_count": 11,
   "metadata": {
    "collapsed": false
   },
   "outputs": [],
   "source": [
    "\"\"\"\n",
    "to_one_hot function replaces \"sequence\" row in DataFrame data with OneHotEncoded sequences\n",
    "\"\"\"\n",
    "def to_one_hot(data, length):\n",
    "    NMers = data[data[\"peptide_length\"] == length].reset_index(drop=True)\n",
    "    letters = NMers.sequence.apply(list) \n",
    "    #data_1Hot = pd.get_dummies(pd.DataFrame(list(letters)))\n",
    "    #return pd.concat([NMers.drop([\"sequence\"], axis = 1), data_1Hot], axis = 1)\n",
    "    return pd.get_dummies(pd.DataFrame(list(letters)))\n",
    "    "
   ]
  },
  {
   "cell_type": "code",
   "execution_count": 10,
   "metadata": {
    "collapsed": false
   },
   "outputs": [],
   "source": [
    "\"\"\"\n",
    "select_by_allele function returns DataFrame, which consists from data for one mhc by its allele\n",
    "\"\"\"\n",
    "def select_by_allele(data, allele):\n",
    "    return data[data.mhc == allele].drop([\"mhc\"], axis = 1).reset_index(drop = True)"
   ]
  },
  {
   "cell_type": "code",
   "execution_count": 11,
   "metadata": {
    "collapsed": true
   },
   "outputs": [],
   "source": [
    "\"\"\"\n",
    "add_kidera_ftr function returns DataFrame with kidera factors on column for a given peptide\n",
    "\"\"\"\n",
    "def add_kidera_ftr(peptides):\n",
    "    kidera_peptides = pd.DataFrame()\n",
    "    for i,fact in enumerate(f): \n",
    "        kidera_peptides[fact]=[add_kidera(j)[i] for j in peptides]\n",
    "        #kidera_selected[fact] = pd.DataFrame(data[fact][indexes]).reset_index(drop=True)\n",
    "    return kidera_peptides\n",
    "\n",
    "amino=pd.read_csv(\"acids.csv\", sep=\" \", index_col=False)\n",
    "d = amino.to_dict(orient='list')\n",
    "f = ['f1','f2','f3','f4','f5','f6','f7','f8','f9','f10']\n",
    "\n",
    "def add_kidera(pept):\n",
    "    seq = list(pept)\n",
    "    dim = len(seq)\n",
    "    kidera = [0]*10\n",
    "    for i in range(10):\n",
    "        kidera[i] = [0]*dim\n",
    "       \n",
    "    for k in range(dim):\n",
    "        for i in range(20):\n",
    "            if seq[k] == d['amino'][i]:\n",
    "                for j in range(10):\n",
    "                    kidera[j][k] = d[f[j]][i]\n",
    "   \n",
    "    for i in range(10):\n",
    "        kidera[i] = sum(kidera[i])/len(kidera[i])\n",
    "   \n",
    "    return kidera"
   ]
  },
  {
   "cell_type": "code",
   "execution_count": null,
   "metadata": {
    "collapsed": false
   },
   "outputs": [],
   "source": []
  },
  {
   "cell_type": "markdown",
   "metadata": {
    "collapsed": false,
    "scrolled": true
   },
   "source": [
    "## Dataset"
   ]
  },
  {
   "cell_type": "code",
   "execution_count": 12,
   "metadata": {
    "collapsed": false
   },
   "outputs": [],
   "source": [
    "Bdata = pd.read_csv(\"../mhc/bdata.csv\")\n",
    "Bdata.tail()\n",
    "Bdata.meas = [log_meas(i) for i in Bdata.meas]"
   ]
  },
  {
   "cell_type": "code",
   "execution_count": null,
   "metadata": {
    "collapsed": false
   },
   "outputs": [],
   "source": []
  },
  {
   "cell_type": "code",
   "execution_count": 11,
   "metadata": {
    "collapsed": false
   },
   "outputs": [
    {
     "data": {
      "image/png": "[encoded data removed]",
      "text/plain": [
       "<matplotlib.figure.Figure at 0x7fb1369010b8>"
      ]
     },
     "metadata": {},
     "output_type": "display_data"
    }
   ],
   "source": [
    "plt.title(\"Scaled affinity distribution\")\n",
    "hh = plt.hist(Bdata.meas, 50, color = 'green', alpha = 0.6)"
   ]
  },
  {
   "cell_type": "code",
   "execution_count": null,
   "metadata": {
    "collapsed": false
   },
   "outputs": [],
   "source": []
  },
  {
   "cell_type": "markdown",
   "metadata": {
    "collapsed": false
   },
   "source": [
    "## Sequence2Vector"
   ]
  },
  {
   "cell_type": "code",
   "execution_count": 10,
   "metadata": {
    "collapsed": false
   },
   "outputs": [],
   "source": [
    "# import modules & set up logging\n",
    "import logging\n",
    "import gensim\n",
    "from gensim.models import word2vec\n",
    "logging.basicConfig(format='%(asctime)s : %(levelname)s : %(message)s', level=logging.INFO)\n",
    " "
   ]
  },
  {
   "cell_type": "code",
   "execution_count": 11,
   "metadata": {
    "collapsed": false
   },
   "outputs": [],
   "source": [
    "def fill_spaces(seq):\n",
    "    new_seq = list(seq)\n",
    "    for i in range(1, len(seq)):\n",
    "        new_seq[i] = \" \"+ new_seq[i]\n",
    "    return ''.join(new_seq)\n",
    "\n",
    "def seq2vec(seq):\n",
    "    return w2v_model[list(seq)].flatten()"
   ]
  },
  {
   "cell_type": "code",
   "execution_count": 12,
   "metadata": {
    "collapsed": false
   },
   "outputs": [],
   "source": [
    "sequences = Bdata.sequence.apply(fill_spaces)"
   ]
  },
  {
   "cell_type": "code",
   "execution_count": 13,
   "metadata": {
    "collapsed": false
   },
   "outputs": [
    {
     "name": "stdout",
     "output_type": "stream",
     "text": [
      "Training model...\n",
      "Done.\n"
     ]
    }
   ],
   "source": [
    "min_word_count = 10   # Minimum word count                        \n",
    "num_workers = 4       # Number of threads to run in parallel\n",
    "context = 4          # Context window size                                                                                    \n",
    "downsampling = 1e-3 \n",
    "w2v_dim = 20\n",
    "\n",
    "print(\"Training model...\")\n",
    "w2v_model = word2vec.Word2Vec(sequences, workers=num_workers, size = w2v_dim,\n",
    "                              min_count = min_word_count, window = context, sample = downsampling)\n",
    "print(\"Done.\")"
   ]
  },
  {
   "cell_type": "code",
   "execution_count": null,
   "metadata": {
    "collapsed": false
   },
   "outputs": [],
   "source": []
  },
  {
   "cell_type": "markdown",
   "metadata": {
    "collapsed": false
   },
   "source": [
    "## Dataframes with 9mers peptides"
   ]
  },
  {
   "cell_type": "markdown",
   "metadata": {},
   "source": [
    "#### 1. Sequence embedding"
   ]
  },
  {
   "cell_type": "code",
   "execution_count": 16,
   "metadata": {
    "collapsed": false
   },
   "outputs": [
    {
     "data": {
      "text/html": [
       "<div>\n",
       "<table border=\"1\" class=\"dataframe\">\n",
       "  <thead>\n",
       "    <tr style=\"text-align: right;\">\n",
       "      <th></th>\n",
       "      <th>0</th>\n",
       "      <th>1</th>\n",
       "      <th>2</th>\n",
       "      <th>3</th>\n",
       "      <th>4</th>\n",
       "      <th>5</th>\n",
       "      <th>6</th>\n",
       "      <th>7</th>\n",
       "      <th>8</th>\n",
       "      <th>9</th>\n",
       "      <th>...</th>\n",
       "      <th>170</th>\n",
       "      <th>171</th>\n",
       "      <th>172</th>\n",
       "      <th>173</th>\n",
       "      <th>174</th>\n",
       "      <th>175</th>\n",
       "      <th>176</th>\n",
       "      <th>177</th>\n",
       "      <th>178</th>\n",
       "      <th>179</th>\n",
       "    </tr>\n",
       "  </thead>\n",
       "  <tbody>\n",
       "    <tr>\n",
       "      <th>129808</th>\n",
       "      <td>-0.317054</td>\n",
       "      <td>-0.258697</td>\n",
       "      <td>-0.244551</td>\n",
       "      <td>-0.183234</td>\n",
       "      <td>-0.113984</td>\n",
       "      <td>-0.031625</td>\n",
       "      <td>0.123867</td>\n",
       "      <td>0.061420</td>\n",
       "      <td>-0.341108</td>\n",
       "      <td>-0.421566</td>\n",
       "      <td>...</td>\n",
       "      <td>0.634710</td>\n",
       "      <td>-0.115230</td>\n",
       "      <td>0.131769</td>\n",
       "      <td>-0.266595</td>\n",
       "      <td>-0.192825</td>\n",
       "      <td>0.009962</td>\n",
       "      <td>-0.270660</td>\n",
       "      <td>0.305306</td>\n",
       "      <td>-0.136941</td>\n",
       "      <td>-0.065757</td>\n",
       "    </tr>\n",
       "    <tr>\n",
       "      <th>129809</th>\n",
       "      <td>0.055047</td>\n",
       "      <td>-0.443139</td>\n",
       "      <td>-0.074582</td>\n",
       "      <td>-0.507453</td>\n",
       "      <td>-0.089250</td>\n",
       "      <td>0.349006</td>\n",
       "      <td>-0.283546</td>\n",
       "      <td>-0.018094</td>\n",
       "      <td>-0.354461</td>\n",
       "      <td>-0.128479</td>\n",
       "      <td>...</td>\n",
       "      <td>0.635041</td>\n",
       "      <td>-0.159853</td>\n",
       "      <td>0.132459</td>\n",
       "      <td>-0.067021</td>\n",
       "      <td>-0.316902</td>\n",
       "      <td>-0.461175</td>\n",
       "      <td>0.459901</td>\n",
       "      <td>-0.186069</td>\n",
       "      <td>-0.302448</td>\n",
       "      <td>0.074057</td>\n",
       "    </tr>\n",
       "    <tr>\n",
       "      <th>129810</th>\n",
       "      <td>-0.294720</td>\n",
       "      <td>-0.060197</td>\n",
       "      <td>0.255941</td>\n",
       "      <td>-0.064387</td>\n",
       "      <td>-0.520793</td>\n",
       "      <td>0.005553</td>\n",
       "      <td>-0.033852</td>\n",
       "      <td>0.220020</td>\n",
       "      <td>-0.454820</td>\n",
       "      <td>-0.425010</td>\n",
       "      <td>...</td>\n",
       "      <td>1.040459</td>\n",
       "      <td>0.159152</td>\n",
       "      <td>0.182609</td>\n",
       "      <td>-0.394871</td>\n",
       "      <td>-0.140906</td>\n",
       "      <td>-0.401900</td>\n",
       "      <td>0.018361</td>\n",
       "      <td>-0.078187</td>\n",
       "      <td>-0.531100</td>\n",
       "      <td>0.195655</td>\n",
       "    </tr>\n",
       "    <tr>\n",
       "      <th>129811</th>\n",
       "      <td>-0.390218</td>\n",
       "      <td>-0.350428</td>\n",
       "      <td>-0.346790</td>\n",
       "      <td>-0.280703</td>\n",
       "      <td>-0.302516</td>\n",
       "      <td>0.208832</td>\n",
       "      <td>-0.075165</td>\n",
       "      <td>-0.110501</td>\n",
       "      <td>-0.776802</td>\n",
       "      <td>-0.501667</td>\n",
       "      <td>...</td>\n",
       "      <td>0.515776</td>\n",
       "      <td>0.292212</td>\n",
       "      <td>0.149982</td>\n",
       "      <td>-0.365074</td>\n",
       "      <td>-0.020634</td>\n",
       "      <td>-0.563392</td>\n",
       "      <td>-0.092208</td>\n",
       "      <td>-0.060853</td>\n",
       "      <td>0.417998</td>\n",
       "      <td>-0.066564</td>\n",
       "    </tr>\n",
       "    <tr>\n",
       "      <th>129812</th>\n",
       "      <td>0.105427</td>\n",
       "      <td>-0.484514</td>\n",
       "      <td>-0.651534</td>\n",
       "      <td>-0.329830</td>\n",
       "      <td>-0.582140</td>\n",
       "      <td>0.012449</td>\n",
       "      <td>0.101039</td>\n",
       "      <td>0.086377</td>\n",
       "      <td>-0.718743</td>\n",
       "      <td>-0.424763</td>\n",
       "      <td>...</td>\n",
       "      <td>1.040459</td>\n",
       "      <td>0.159152</td>\n",
       "      <td>0.182609</td>\n",
       "      <td>-0.394871</td>\n",
       "      <td>-0.140906</td>\n",
       "      <td>-0.401900</td>\n",
       "      <td>0.018361</td>\n",
       "      <td>-0.078187</td>\n",
       "      <td>-0.531100</td>\n",
       "      <td>0.195655</td>\n",
       "    </tr>\n",
       "  </tbody>\n",
       "</table>\n",
       "<p>5 rows × 180 columns</p>\n",
       "</div>"
      ],
      "text/plain": [
       "             0         1         2         3         4         5         6    \\\n",
       "129808 -0.317054 -0.258697 -0.244551 -0.183234 -0.113984 -0.031625  0.123867   \n",
       "129809  0.055047 -0.443139 -0.074582 -0.507453 -0.089250  0.349006 -0.283546   \n",
       "129810 -0.294720 -0.060197  0.255941 -0.064387 -0.520793  0.005553 -0.033852   \n",
       "129811 -0.390218 -0.350428 -0.346790 -0.280703 -0.302516  0.208832 -0.075165   \n",
       "129812  0.105427 -0.484514 -0.651534 -0.329830 -0.582140  0.012449  0.101039   \n",
       "\n",
       "             7         8         9      ...          170       171       172  \\\n",
       "129808  0.061420 -0.341108 -0.421566    ...     0.634710 -0.115230  0.131769   \n",
       "129809 -0.018094 -0.354461 -0.128479    ...     0.635041 -0.159853  0.132459   \n",
       "129810  0.220020 -0.454820 -0.425010    ...     1.040459  0.159152  0.182609   \n",
       "129811 -0.110501 -0.776802 -0.501667    ...     0.515776  0.292212  0.149982   \n",
       "129812  0.086377 -0.718743 -0.424763    ...     1.040459  0.159152  0.182609   \n",
       "\n",
       "             173       174       175       176       177       178       179  \n",
       "129808 -0.266595 -0.192825  0.009962 -0.270660  0.305306 -0.136941 -0.065757  \n",
       "129809 -0.067021 -0.316902 -0.461175  0.459901 -0.186069 -0.302448  0.074057  \n",
       "129810 -0.394871 -0.140906 -0.401900  0.018361 -0.078187 -0.531100  0.195655  \n",
       "129811 -0.365074 -0.020634 -0.563392 -0.092208 -0.060853  0.417998 -0.066564  \n",
       "129812 -0.394871 -0.140906 -0.401900  0.018361 -0.078187 -0.531100  0.195655  \n",
       "\n",
       "[5 rows x 180 columns]"
      ]
     },
     "execution_count": 16,
     "metadata": {},
     "output_type": "execute_result"
    }
   ],
   "source": [
    "seq2vec9mers = pd.DataFrame(Bdata[Bdata.peptide_length == 9].sequence.apply(seq2vec)).reset_index(drop=True)\n",
    "seq2vec9mers = pd.DataFrame(list(seq2vec9mers.sequence))\n",
    "seq2vec9mers.tail()"
   ]
  },
  {
   "cell_type": "markdown",
   "metadata": {
    "collapsed": false
   },
   "source": [
    "#### 2.OneHotEncoding"
   ]
  },
  {
   "cell_type": "code",
   "execution_count": 13,
   "metadata": {
    "collapsed": false,
    "scrolled": true
   },
   "outputs": [
    {
     "data": {
      "text/html": [
       "<div>\n",
       "<table border=\"1\" class=\"dataframe\">\n",
       "  <thead>\n",
       "    <tr style=\"text-align: right;\">\n",
       "      <th></th>\n",
       "      <th>0_A</th>\n",
       "      <th>0_C</th>\n",
       "      <th>0_D</th>\n",
       "      <th>0_E</th>\n",
       "      <th>0_F</th>\n",
       "      <th>0_G</th>\n",
       "      <th>0_H</th>\n",
       "      <th>0_I</th>\n",
       "      <th>0_K</th>\n",
       "      <th>0_L</th>\n",
       "      <th>...</th>\n",
       "      <th>8_M</th>\n",
       "      <th>8_N</th>\n",
       "      <th>8_P</th>\n",
       "      <th>8_Q</th>\n",
       "      <th>8_R</th>\n",
       "      <th>8_S</th>\n",
       "      <th>8_T</th>\n",
       "      <th>8_V</th>\n",
       "      <th>8_W</th>\n",
       "      <th>8_Y</th>\n",
       "    </tr>\n",
       "  </thead>\n",
       "  <tbody>\n",
       "    <tr>\n",
       "      <th>129808</th>\n",
       "      <td>0.0</td>\n",
       "      <td>0.0</td>\n",
       "      <td>0.0</td>\n",
       "      <td>0.0</td>\n",
       "      <td>0.0</td>\n",
       "      <td>0.0</td>\n",
       "      <td>0.0</td>\n",
       "      <td>1.0</td>\n",
       "      <td>0.0</td>\n",
       "      <td>0.0</td>\n",
       "      <td>...</td>\n",
       "      <td>0.0</td>\n",
       "      <td>0.0</td>\n",
       "      <td>0.0</td>\n",
       "      <td>0.0</td>\n",
       "      <td>0.0</td>\n",
       "      <td>0.0</td>\n",
       "      <td>0.0</td>\n",
       "      <td>0.0</td>\n",
       "      <td>0.0</td>\n",
       "      <td>0.0</td>\n",
       "    </tr>\n",
       "    <tr>\n",
       "      <th>129809</th>\n",
       "      <td>0.0</td>\n",
       "      <td>0.0</td>\n",
       "      <td>1.0</td>\n",
       "      <td>0.0</td>\n",
       "      <td>0.0</td>\n",
       "      <td>0.0</td>\n",
       "      <td>0.0</td>\n",
       "      <td>0.0</td>\n",
       "      <td>0.0</td>\n",
       "      <td>0.0</td>\n",
       "      <td>...</td>\n",
       "      <td>0.0</td>\n",
       "      <td>0.0</td>\n",
       "      <td>0.0</td>\n",
       "      <td>0.0</td>\n",
       "      <td>0.0</td>\n",
       "      <td>0.0</td>\n",
       "      <td>0.0</td>\n",
       "      <td>0.0</td>\n",
       "      <td>0.0</td>\n",
       "      <td>1.0</td>\n",
       "    </tr>\n",
       "    <tr>\n",
       "      <th>129810</th>\n",
       "      <td>0.0</td>\n",
       "      <td>0.0</td>\n",
       "      <td>0.0</td>\n",
       "      <td>0.0</td>\n",
       "      <td>0.0</td>\n",
       "      <td>0.0</td>\n",
       "      <td>0.0</td>\n",
       "      <td>0.0</td>\n",
       "      <td>0.0</td>\n",
       "      <td>0.0</td>\n",
       "      <td>...</td>\n",
       "      <td>0.0</td>\n",
       "      <td>0.0</td>\n",
       "      <td>0.0</td>\n",
       "      <td>0.0</td>\n",
       "      <td>0.0</td>\n",
       "      <td>0.0</td>\n",
       "      <td>0.0</td>\n",
       "      <td>0.0</td>\n",
       "      <td>0.0</td>\n",
       "      <td>0.0</td>\n",
       "    </tr>\n",
       "    <tr>\n",
       "      <th>129811</th>\n",
       "      <td>0.0</td>\n",
       "      <td>0.0</td>\n",
       "      <td>0.0</td>\n",
       "      <td>0.0</td>\n",
       "      <td>0.0</td>\n",
       "      <td>0.0</td>\n",
       "      <td>0.0</td>\n",
       "      <td>0.0</td>\n",
       "      <td>0.0</td>\n",
       "      <td>1.0</td>\n",
       "      <td>...</td>\n",
       "      <td>1.0</td>\n",
       "      <td>0.0</td>\n",
       "      <td>0.0</td>\n",
       "      <td>0.0</td>\n",
       "      <td>0.0</td>\n",
       "      <td>0.0</td>\n",
       "      <td>0.0</td>\n",
       "      <td>0.0</td>\n",
       "      <td>0.0</td>\n",
       "      <td>0.0</td>\n",
       "    </tr>\n",
       "    <tr>\n",
       "      <th>129812</th>\n",
       "      <td>0.0</td>\n",
       "      <td>0.0</td>\n",
       "      <td>0.0</td>\n",
       "      <td>0.0</td>\n",
       "      <td>1.0</td>\n",
       "      <td>0.0</td>\n",
       "      <td>0.0</td>\n",
       "      <td>0.0</td>\n",
       "      <td>0.0</td>\n",
       "      <td>0.0</td>\n",
       "      <td>...</td>\n",
       "      <td>0.0</td>\n",
       "      <td>0.0</td>\n",
       "      <td>0.0</td>\n",
       "      <td>0.0</td>\n",
       "      <td>0.0</td>\n",
       "      <td>0.0</td>\n",
       "      <td>0.0</td>\n",
       "      <td>0.0</td>\n",
       "      <td>0.0</td>\n",
       "      <td>0.0</td>\n",
       "    </tr>\n",
       "  </tbody>\n",
       "</table>\n",
       "<p>5 rows × 180 columns</p>\n",
       "</div>"
      ],
      "text/plain": [
       "        0_A  0_C  0_D  0_E  0_F  0_G  0_H  0_I  0_K  0_L ...   8_M  8_N  8_P  \\\n",
       "129808  0.0  0.0  0.0  0.0  0.0  0.0  0.0  1.0  0.0  0.0 ...   0.0  0.0  0.0   \n",
       "129809  0.0  0.0  1.0  0.0  0.0  0.0  0.0  0.0  0.0  0.0 ...   0.0  0.0  0.0   \n",
       "129810  0.0  0.0  0.0  0.0  0.0  0.0  0.0  0.0  0.0  0.0 ...   0.0  0.0  0.0   \n",
       "129811  0.0  0.0  0.0  0.0  0.0  0.0  0.0  0.0  0.0  1.0 ...   1.0  0.0  0.0   \n",
       "129812  0.0  0.0  0.0  0.0  1.0  0.0  0.0  0.0  0.0  0.0 ...   0.0  0.0  0.0   \n",
       "\n",
       "        8_Q  8_R  8_S  8_T  8_V  8_W  8_Y  \n",
       "129808  0.0  0.0  0.0  0.0  0.0  0.0  0.0  \n",
       "129809  0.0  0.0  0.0  0.0  0.0  0.0  1.0  \n",
       "129810  0.0  0.0  0.0  0.0  0.0  0.0  0.0  \n",
       "129811  0.0  0.0  0.0  0.0  0.0  0.0  0.0  \n",
       "129812  0.0  0.0  0.0  0.0  0.0  0.0  0.0  \n",
       "\n",
       "[5 rows x 180 columns]"
      ]
     },
     "execution_count": 13,
     "metadata": {},
     "output_type": "execute_result"
    }
   ],
   "source": [
    "OneHot9mers = to_one_hot(Bdata, 9)\n",
    "OneHot9mers.tail()"
   ]
  },
  {
   "cell_type": "markdown",
   "metadata": {
    "collapsed": false
   },
   "source": [
    "#### 3. Physochemical properties"
   ]
  },
  {
   "cell_type": "code",
   "execution_count": 18,
   "metadata": {
    "collapsed": false
   },
   "outputs": [
    {
     "data": {
      "text/html": [
       "<div>\n",
       "<table border=\"1\" class=\"dataframe\">\n",
       "  <thead>\n",
       "    <tr style=\"text-align: right;\">\n",
       "      <th></th>\n",
       "      <th>molecular_weight</th>\n",
       "      <th>aromaticity</th>\n",
       "      <th>instability_index</th>\n",
       "      <th>isoelectric_point</th>\n",
       "    </tr>\n",
       "  </thead>\n",
       "  <tbody>\n",
       "    <tr>\n",
       "      <th>129808</th>\n",
       "      <td>0.372089</td>\n",
       "      <td>0.000000</td>\n",
       "      <td>0.280008</td>\n",
       "      <td>0.050803</td>\n",
       "    </tr>\n",
       "    <tr>\n",
       "      <th>129809</th>\n",
       "      <td>0.323164</td>\n",
       "      <td>0.111111</td>\n",
       "      <td>0.293921</td>\n",
       "      <td>0.064873</td>\n",
       "    </tr>\n",
       "    <tr>\n",
       "      <th>129810</th>\n",
       "      <td>0.528654</td>\n",
       "      <td>0.333333</td>\n",
       "      <td>0.353245</td>\n",
       "      <td>0.085869</td>\n",
       "    </tr>\n",
       "    <tr>\n",
       "      <th>129811</th>\n",
       "      <td>0.488379</td>\n",
       "      <td>0.111111</td>\n",
       "      <td>0.220120</td>\n",
       "      <td>0.050803</td>\n",
       "    </tr>\n",
       "    <tr>\n",
       "      <th>129812</th>\n",
       "      <td>0.533740</td>\n",
       "      <td>0.555556</td>\n",
       "      <td>0.264814</td>\n",
       "      <td>0.246062</td>\n",
       "    </tr>\n",
       "  </tbody>\n",
       "</table>\n",
       "</div>"
      ],
      "text/plain": [
       "        molecular_weight  aromaticity  instability_index  isoelectric_point\n",
       "129808          0.372089     0.000000           0.280008           0.050803\n",
       "129809          0.323164     0.111111           0.293921           0.064873\n",
       "129810          0.528654     0.333333           0.353245           0.085869\n",
       "129811          0.488379     0.111111           0.220120           0.050803\n",
       "129812          0.533740     0.555556           0.264814           0.246062"
      ]
     },
     "execution_count": 18,
     "metadata": {},
     "output_type": "execute_result"
    }
   ],
   "source": [
    "PhChemicalData = analyse_seq(Bdata[Bdata.peptide_length == 9].sequence)\n",
    "PhChemicalData.tail()"
   ]
  },
  {
   "cell_type": "markdown",
   "metadata": {
    "collapsed": true
   },
   "source": [
    "#### 4.Kidera factors"
   ]
  },
  {
   "cell_type": "code",
   "execution_count": 19,
   "metadata": {
    "collapsed": false
   },
   "outputs": [
    {
     "data": {
      "text/html": [
       "<div>\n",
       "<table border=\"1\" class=\"dataframe\">\n",
       "  <thead>\n",
       "    <tr style=\"text-align: right;\">\n",
       "      <th></th>\n",
       "      <th>f1</th>\n",
       "      <th>f2</th>\n",
       "      <th>f3</th>\n",
       "      <th>f4</th>\n",
       "      <th>f5</th>\n",
       "      <th>f6</th>\n",
       "      <th>f7</th>\n",
       "      <th>f8</th>\n",
       "      <th>f9</th>\n",
       "      <th>f10</th>\n",
       "    </tr>\n",
       "  </thead>\n",
       "  <tbody>\n",
       "    <tr>\n",
       "      <th>129808</th>\n",
       "      <td>-0.011111</td>\n",
       "      <td>-0.355556</td>\n",
       "      <td>-0.186667</td>\n",
       "      <td>0.011111</td>\n",
       "      <td>-0.106667</td>\n",
       "      <td>-0.116667</td>\n",
       "      <td>-0.481111</td>\n",
       "      <td>-0.560000</td>\n",
       "      <td>-0.167778</td>\n",
       "      <td>-0.061111</td>\n",
       "    </tr>\n",
       "    <tr>\n",
       "      <th>129809</th>\n",
       "      <td>0.172222</td>\n",
       "      <td>-0.478889</td>\n",
       "      <td>-0.176667</td>\n",
       "      <td>-0.304444</td>\n",
       "      <td>0.096667</td>\n",
       "      <td>-0.404444</td>\n",
       "      <td>-0.238889</td>\n",
       "      <td>-0.028889</td>\n",
       "      <td>-0.250000</td>\n",
       "      <td>0.283333</td>\n",
       "    </tr>\n",
       "    <tr>\n",
       "      <th>129810</th>\n",
       "      <td>0.367778</td>\n",
       "      <td>0.122222</td>\n",
       "      <td>0.144444</td>\n",
       "      <td>0.002222</td>\n",
       "      <td>-0.051111</td>\n",
       "      <td>-0.146667</td>\n",
       "      <td>-0.062222</td>\n",
       "      <td>0.642222</td>\n",
       "      <td>0.040000</td>\n",
       "      <td>-0.567778</td>\n",
       "    </tr>\n",
       "    <tr>\n",
       "      <th>129811</th>\n",
       "      <td>-0.387778</td>\n",
       "      <td>-0.070000</td>\n",
       "      <td>-0.372222</td>\n",
       "      <td>0.003333</td>\n",
       "      <td>0.041111</td>\n",
       "      <td>0.073333</td>\n",
       "      <td>-0.040000</td>\n",
       "      <td>0.148889</td>\n",
       "      <td>-0.108889</td>\n",
       "      <td>0.062222</td>\n",
       "    </tr>\n",
       "    <tr>\n",
       "      <th>129812</th>\n",
       "      <td>-0.450000</td>\n",
       "      <td>0.132222</td>\n",
       "      <td>0.138889</td>\n",
       "      <td>-0.887778</td>\n",
       "      <td>-0.113333</td>\n",
       "      <td>-0.695556</td>\n",
       "      <td>0.007778</td>\n",
       "      <td>0.648889</td>\n",
       "      <td>0.823333</td>\n",
       "      <td>-0.368889</td>\n",
       "    </tr>\n",
       "  </tbody>\n",
       "</table>\n",
       "</div>"
      ],
      "text/plain": [
       "              f1        f2        f3        f4        f5        f6        f7  \\\n",
       "129808 -0.011111 -0.355556 -0.186667  0.011111 -0.106667 -0.116667 -0.481111   \n",
       "129809  0.172222 -0.478889 -0.176667 -0.304444  0.096667 -0.404444 -0.238889   \n",
       "129810  0.367778  0.122222  0.144444  0.002222 -0.051111 -0.146667 -0.062222   \n",
       "129811 -0.387778 -0.070000 -0.372222  0.003333  0.041111  0.073333 -0.040000   \n",
       "129812 -0.450000  0.132222  0.138889 -0.887778 -0.113333 -0.695556  0.007778   \n",
       "\n",
       "              f8        f9       f10  \n",
       "129808 -0.560000 -0.167778 -0.061111  \n",
       "129809 -0.028889 -0.250000  0.283333  \n",
       "129810  0.642222  0.040000 -0.567778  \n",
       "129811  0.148889 -0.108889  0.062222  \n",
       "129812  0.648889  0.823333 -0.368889  "
      ]
     },
     "execution_count": 19,
     "metadata": {},
     "output_type": "execute_result"
    }
   ],
   "source": [
    "KideraData = add_kidera_ftr(Bdata[Bdata.peptide_length == 9].sequence)\n",
    "KideraData.tail()"
   ]
  },
  {
   "cell_type": "markdown",
   "metadata": {
    "collapsed": false
   },
   "source": [
    "## Training XGboost"
   ]
  },
  {
   "cell_type": "code",
   "execution_count": 34,
   "metadata": {
    "collapsed": false
   },
   "outputs": [],
   "source": [
    "def xgb_grid_search(data, target):\n",
    "    \n",
    "    # split\n",
    "    X_train, X_test, y_train, y_test = cross_validation.train_test_split(data, target, test_size=0.25, random_state=442)\n",
    "    xgdmat_train = xgb.DMatrix(X_train, y_train)\n",
    "    \n",
    "    # train\n",
    "    xgb_params = {'eta': 0.1, 'seed':0, 'subsample': 0.8, 'colsample_bytree': 0.8, \n",
    "             'objective': 'reg:linear', 'max_depth':300, 'min_child_weight':1}\n",
    "    \"\"\"\n",
    "    print(\"GridSearch proceeding...\")\n",
    "    cv_xgb = xgb.cv(params = xgb_params, dtrain = xgdmat_train, num_boost_round = 3000,\n",
    "                    nfold = 5, metrics = ['error'], early_stopping_rounds = 100)\n",
    "    print(\"GridSeacrh done.\")\n",
    "    cv_xgb.tail(5)\n",
    "    \"\"\"\n",
    "    print(\"Training final Xgboost...\")\n",
    "    tuned_xgb = xgb.train(xgb_params, xgdmat_train, num_boost_round = 432)\n",
    "    print(\"Done\")\n",
    "    \n",
    "    xgb.plot_importance(tuned_xgb)\n",
    "    \n",
    "    X_test_DMat = xgb.DMatrix(X_test)\n",
    "    \n",
    "    predictions = tuned_xgb.predict(X_test_DMat)\n",
    "\n",
    "        \n",
    "    print(\"Accuracy : %.4g\" % metrics.r2_score(y_test, predictions))\n",
    "    \"\"\"                \n",
    "    feat_imp = pd.Series(xgb.booster().get_fscore()).sort_values(ascending=False)\n",
    "    feat_imp.plot(kind='bar', title='Feature Importances')\n",
    "    plt.ylabel('Feature Importance Score')\"\"\""
   ]
  },
  {
   "cell_type": "code",
   "execution_count": 35,
   "metadata": {
    "collapsed": false,
    "scrolled": true
   },
   "outputs": [
    {
     "name": "stdout",
     "output_type": "stream",
     "text": [
      "Training final Xgboost...\n",
      "Done\n",
      "Accuracy : 0.2696\n"
     ]
    },
    {
     "data": {
      "image/png": "[encoded data removed]",
      "text/plain": [
       "<matplotlib.figure.Figure at 0x7ff61df23a90>"
      ]
     },
     "metadata": {},
     "output_type": "display_data"
    }
   ],
   "source": [
    "affinity = Bdata[Bdata.peptide_length == 9].meas.reset_index(drop=True)\n",
    "xgb_grid_search(OneHot9mers, affinity)"
   ]
  },
  {
   "cell_type": "code",
   "execution_count": 20,
   "metadata": {
    "collapsed": false
   },
   "outputs": [
    {
     "data": {
      "text/plain": [
       "'\\nparams = {\"objective\": \"reg:linear\", \"booster\":\"gblinear\", \"verbose_eval\":\"50\"}\\n    print(\"Training Xgboost...\")\\n    gbm = xgb.train(xgb.DMatrix(X_train, y_train), params=params)\\n'"
      ]
     },
     "execution_count": 20,
     "metadata": {},
     "output_type": "execute_result"
    }
   ],
   "source": [
    "\n",
    "\"\"\"\n",
    "params = {\"objective\": \"reg:linear\", \"booster\":\"gblinear\", \"verbose_eval\":\"50\"}\n",
    "    print(\"Training Xgboost...\")\n",
    "    gbm = xgb.train(xgb.DMatrix(X_train, y_train), params=params)\n",
    "\"\"\""
   ]
  },
  {
   "cell_type": "code",
   "execution_count": null,
   "metadata": {
    "collapsed": true
   },
   "outputs": [],
   "source": []
  },
  {
   "cell_type": "code",
   "execution_count": null,
   "metadata": {
    "collapsed": false
   },
   "outputs": [],
   "source": []
  },
  {
   "cell_type": "code",
   "execution_count": null,
   "metadata": {
    "collapsed": true
   },
   "outputs": [],
   "source": []
  }
 ],
 "metadata": {
  "anaconda-cloud": {},
  "kernelspec": {
   "display_name": "Python [Root]",
   "language": "python",
   "name": "Python [Root]"
  },
  "language_info": {
   "codemirror_mode": {
    "name": "ipython",
    "version": 3
   },
   "file_extension": ".py",
   "mimetype": "text/x-python",
   "name": "python",
   "nbconvert_exporter": "python",
   "pygments_lexer": "ipython3",
   "version": "3.5.2"
  }
 },
 "nbformat": 4,
 "nbformat_minor": 0
}

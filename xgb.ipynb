{
 "cells": [
  {
   "cell_type": "code",
   "execution_count": 1,
   "metadata": {
    "collapsed": false,
    "scrolled": true
   },
   "outputs": [],
   "source": [
    "import numpy as np\n",
    "import pandas as pd\n",
    "import xgboost as xgb\n",
    "import math\n",
    "import matplotlib.pyplot as plt\n",
    "\n",
    "from pandas import get_dummies\n",
    "from sklearn import preprocessing\n",
    "from sklearn import cross_validation, metrics \n",
    "from sklearn.grid_search import GridSearchCV\n",
    "from sklearn.metrics import roc_auc_score\n",
    "\n",
    "\n",
    "%matplotlib inline\n",
    "plt.style.use('ggplot')"
   ]
  },
  {
   "cell_type": "code",
   "execution_count": 2,
   "metadata": {
    "collapsed": true
   },
   "outputs": [],
   "source": [
    "from Bio.SeqUtils import ProtParamData  # Local\n",
    "from Bio.SeqUtils import IsoelectricPoint  # Local\n",
    "from Bio.Seq import Seq\n",
    "from Bio.Alphabet import IUPAC\n",
    "from Bio.Data import IUPACData\n",
    "from Bio.SeqUtils import molecular_weight\n",
    "from Bio import SeqIO\n",
    "from Bio.SeqUtils import ProtParam"
   ]
  },
  {
   "cell_type": "code",
   "execution_count": null,
   "metadata": {
    "collapsed": false
   },
   "outputs": [],
   "source": []
  },
  {
   "cell_type": "markdown",
   "metadata": {},
   "source": [
    "## Feature engineering \n",
    "* Log50000\n",
    "* chemical structure\n",
    "* kidera factors\n",
    "* Phylogenetic tree"
   ]
  },
  {
   "cell_type": "code",
   "execution_count": 3,
   "metadata": {
    "collapsed": false
   },
   "outputs": [],
   "source": [
    "\"\"\"\n",
    "logarithming according to articles\n",
    "\"\"\"\n",
    "def log_meas(current):\n",
    "    new_meas = 1 - math.log(current, 50000.0)\n",
    "    if new_meas > 1: new_meas = 1\n",
    "    if new_meas < 0: new_meas = 0\n",
    "    return new_meas"
   ]
  },
  {
   "cell_type": "code",
   "execution_count": 4,
   "metadata": {
    "collapsed": false
   },
   "outputs": [],
   "source": [
    "\"\"\"\n",
    "analyse_seq adds to DataFrame data with peptide sequences  columnns with chemical attributes of peptide\n",
    "\"\"\"\n",
    "\n",
    "def analyse_seq(sequences):\n",
    "    physochem = pd.DataFrame()\n",
    "    mol_weight = []\n",
    "    aromaticity = []\n",
    "    instability_index = []\n",
    "    isoelectric_point = []\n",
    "    for i in sequences:\n",
    "        X = ProtParam.ProteinAnalysis(i)\n",
    "        mol_weight.append(X.molecular_weight())\n",
    "        aromaticity.append(X.aromaticity())\n",
    "        instability_index.append(X.instability_index())\n",
    "        isoelectric_point.append(X.isoelectric_point())\n",
    "    physochem[\"molecular_weight\"] = mol_weight\n",
    "    physochem[\"aromaticity\"] = aromaticity\n",
    "    physochem[\"instability_index\"] = instability_index\n",
    "    physochem[\"isoelectric_point\"] = isoelectric_point\n",
    "    min_max_scaler = preprocessing.MinMaxScaler()\n",
    "    x_scaled = min_max_scaler.fit_transform(physochem[[\"molecular_weight\",\"instability_index\", \"isoelectric_point\"]])\n",
    "    x_scaled = pd.DataFrame(x_scaled, columns=[\"molecular_weight\",\"instability_index\", \"isoelectric_point\"])\n",
    "    physochem[\"molecular_weight\"] = pd.DataFrame(x_scaled[\"molecular_weight\"])\n",
    "    physochem[\"instability_index\"] = pd.DataFrame(x_scaled[\"instability_index\"])\n",
    "    physochem[\"isoelectric_point\"] = pd.DataFrame(x_scaled[\"isoelectric_point\"])\n",
    "    return physochem"
   ]
  },
  {
   "cell_type": "code",
   "execution_count": 5,
   "metadata": {
    "collapsed": false
   },
   "outputs": [],
   "source": [
    "\"\"\"\n",
    "to_one_hot function replaces \"sequence\" row in DataFrame data with OneHotEncoded sequences\n",
    "\"\"\"\n",
    "def to_one_hot(data, length):\n",
    "    NMers = data[data[\"peptide_length\"] == length].reset_index(drop=True)\n",
    "    letters = NMers.sequence.apply(list) \n",
    "    #data_1Hot = pd.get_dummies(pd.DataFrame(list(letters)))\n",
    "    #return pd.concat([NMers.drop([\"sequence\"], axis = 1), data_1Hot], axis = 1)\n",
    "    return pd.get_dummies(pd.DataFrame(list(letters)))\n",
    "    "
   ]
  },
  {
   "cell_type": "code",
   "execution_count": 6,
   "metadata": {
    "collapsed": false
   },
   "outputs": [],
   "source": [
    "\"\"\"\n",
    "select_by_allele function returns DataFrame, which consists from data for one mhc by its allele\n",
    "\"\"\"\n",
    "def select_by_allele(data, allele):\n",
    "    return data[data.mhc == allele].drop([\"mhc\"], axis = 1).reset_index(drop = True)"
   ]
  },
  {
   "cell_type": "code",
   "execution_count": 7,
   "metadata": {
    "collapsed": true
   },
   "outputs": [],
   "source": [
    "\"\"\"\n",
    "add_kidera_ftr function returns DataFrame with kidera factors on column for a given peptide\n",
    "\"\"\"\n",
    "def add_kidera_ftr(peptides):\n",
    "    kidera_peptides = pd.DataFrame()\n",
    "    for i,fact in enumerate(f): \n",
    "        kidera_peptides[fact]=[add_kidera(j)[i] for j in peptides]\n",
    "        #kidera_selected[fact] = pd.DataFrame(data[fact][indexes]).reset_index(drop=True)\n",
    "    return kidera_peptides\n",
    "\n",
    "amino=pd.read_csv(\"acids.csv\", sep=\" \", index_col=False)\n",
    "d = amino.to_dict(orient='list')\n",
    "f = ['f1','f2','f3','f4','f5','f6','f7','f8','f9','f10']\n",
    "\n",
    "def add_kidera(pept):\n",
    "    seq = list(pept)\n",
    "    dim = len(seq)\n",
    "    kidera = [0]*10\n",
    "    for i in range(10):\n",
    "        kidera[i] = [0]*dim\n",
    "       \n",
    "    for k in range(dim):\n",
    "        for i in range(20):\n",
    "            if seq[k] == d['amino'][i]:\n",
    "                for j in range(10):\n",
    "                    kidera[j][k] = d[f[j]][i]\n",
    "   \n",
    "    for i in range(10):\n",
    "        kidera[i] = sum(kidera[i])/len(kidera[i])\n",
    "   \n",
    "    return kidera"
   ]
  },
  {
   "cell_type": "code",
   "execution_count": null,
   "metadata": {
    "collapsed": false
   },
   "outputs": [],
   "source": []
  },
  {
   "cell_type": "markdown",
   "metadata": {},
   "source": [
    "## Dataset"
   ]
  },
  {
   "cell_type": "code",
   "execution_count": 8,
   "metadata": {
    "collapsed": false
   },
   "outputs": [],
   "source": [
    "Bdata = pd.read_csv(\"../mhc/bdata.csv\")\n",
    "Bdata.tail()\n",
    "Bdata.meas = [log_meas(i) for i in Bdata.meas]"
   ]
  },
  {
   "cell_type": "code",
   "execution_count": null,
   "metadata": {
    "collapsed": false
   },
   "outputs": [],
   "source": []
  },
  {
   "cell_type": "code",
   "execution_count": 9,
   "metadata": {
    "collapsed": false
   },
   "outputs": [
    {
     "data": {
      "image/png": "[encoded data removed]",
      "text/plain": [
       "<matplotlib.figure.Figure at 0x7ff5b037a908>"
      ]
     },
     "metadata": {},
     "output_type": "display_data"
    }
   ],
   "source": [
    "plt.title(\"Scaled affinity distribution\")\n",
    "hh = plt.hist(Bdata.meas, 50, color = 'green', alpha = 0.6)"
   ]
  },
  {
   "cell_type": "code",
   "execution_count": null,
   "metadata": {
    "collapsed": false
   },
   "outputs": [],
   "source": []
  },
  {
   "cell_type": "markdown",
   "metadata": {},
   "source": [
    "## Sequence2Vector"
   ]
  },
  {
   "cell_type": "code",
   "execution_count": 10,
   "metadata": {
    "collapsed": false
   },
   "outputs": [],
   "source": [
    "# import modules & set up logging\n",
    "import logging\n",
    "import gensim\n",
    "from gensim.models import word2vec\n",
    "logging.basicConfig(format='%(asctime)s : %(levelname)s : %(message)s', level=logging.INFO)\n",
    " "
   ]
  },
  {
   "cell_type": "code",
   "execution_count": 11,
   "metadata": {
    "collapsed": false
   },
   "outputs": [],
   "source": [
    "def fill_spaces(seq):\n",
    "    new_seq = list(seq)\n",
    "    for i in range(1, len(seq)):\n",
    "        new_seq[i] = \" \"+ new_seq[i]\n",
    "    return ''.join(new_seq)\n",
    "\n",
    "def seq2vec(seq):\n",
    "    return w2v_model[list(seq)].flatten()"
   ]
  },
  {
   "cell_type": "code",
   "execution_count": 12,
   "metadata": {
    "collapsed": false
   },
   "outputs": [],
   "source": [
    "sequences = Bdata.sequence.apply(fill_spaces)"
   ]
  },
  {
   "cell_type": "code",
   "execution_count": 13,
   "metadata": {
    "collapsed": false
   },
   "outputs": [
    {
     "name": "stdout",
     "output_type": "stream",
     "text": [
      "Training model...\n",
      "Done.\n"
     ]
    }
   ],
   "source": [
    "min_word_count = 10   # Minimum word count                        \n",
    "num_workers = 4       # Number of threads to run in parallel\n",
    "context = 4          # Context window size                                                                                    \n",
    "downsampling = 1e-3 \n",
    "w2v_dim = 20\n",
    "\n",
    "print(\"Training model...\")\n",
    "w2v_model = word2vec.Word2Vec(sequences, workers=num_workers, size = w2v_dim,\n",
    "                              min_count = min_word_count, window = context, sample = downsampling)\n",
    "print(\"Done.\")"
   ]
  },
  {
   "cell_type": "code",
   "execution_count": 14,
   "metadata": {
    "collapsed": false
   },
   "outputs": [
    {
     "ename": "SyntaxError",
     "evalue": "unexpected EOF while parsing (<ipython-input-14-5dcf61a39ef3>, line 2)",
     "output_type": "error",
     "traceback": [
      "\u001b[1;36m  File \u001b[1;32m\"<ipython-input-14-5dcf61a39ef3>\"\u001b[1;36m, line \u001b[1;32m2\u001b[0m\n\u001b[1;33m    \u001b[0m\n\u001b[1;37m    ^\u001b[0m\n\u001b[1;31mSyntaxError\u001b[0m\u001b[1;31m:\u001b[0m unexpected EOF while parsing\n"
     ]
    }
   ],
   "source": [
    "def get_knn_feature(data, target):\n",
    "    "
   ]
  },
  {
   "cell_type": "markdown",
   "metadata": {},
   "source": [
    "## Dataframes with 9mers peptides"
   ]
  },
  {
   "cell_type": "markdown",
   "metadata": {},
   "source": [
    "#### 1. Sequence embedding"
   ]
  },
  {
   "cell_type": "code",
   "execution_count": 15,
   "metadata": {
    "collapsed": false
   },
   "outputs": [
    {
     "data": {
      "text/html": [
       "<div>\n",
       "<table border=\"1\" class=\"dataframe\">\n",
       "  <thead>\n",
       "    <tr style=\"text-align: right;\">\n",
       "      <th></th>\n",
       "      <th>0</th>\n",
       "      <th>1</th>\n",
       "      <th>2</th>\n",
       "      <th>3</th>\n",
       "      <th>4</th>\n",
       "      <th>5</th>\n",
       "      <th>6</th>\n",
       "      <th>7</th>\n",
       "      <th>8</th>\n",
       "      <th>9</th>\n",
       "      <th>...</th>\n",
       "      <th>170</th>\n",
       "      <th>171</th>\n",
       "      <th>172</th>\n",
       "      <th>173</th>\n",
       "      <th>174</th>\n",
       "      <th>175</th>\n",
       "      <th>176</th>\n",
       "      <th>177</th>\n",
       "      <th>178</th>\n",
       "      <th>179</th>\n",
       "    </tr>\n",
       "  </thead>\n",
       "  <tbody>\n",
       "    <tr>\n",
       "      <th>129808</th>\n",
       "      <td>0.507427</td>\n",
       "      <td>-0.063755</td>\n",
       "      <td>0.026520</td>\n",
       "      <td>-0.088073</td>\n",
       "      <td>-0.067580</td>\n",
       "      <td>0.094896</td>\n",
       "      <td>-0.270169</td>\n",
       "      <td>0.267479</td>\n",
       "      <td>-0.093919</td>\n",
       "      <td>0.002721</td>\n",
       "      <td>...</td>\n",
       "      <td>0.181969</td>\n",
       "      <td>0.086413</td>\n",
       "      <td>0.247481</td>\n",
       "      <td>0.470953</td>\n",
       "      <td>-0.104824</td>\n",
       "      <td>-0.671785</td>\n",
       "      <td>-0.358374</td>\n",
       "      <td>-0.242323</td>\n",
       "      <td>0.403341</td>\n",
       "      <td>0.262397</td>\n",
       "    </tr>\n",
       "    <tr>\n",
       "      <th>129809</th>\n",
       "      <td>0.481050</td>\n",
       "      <td>-0.175727</td>\n",
       "      <td>0.147483</td>\n",
       "      <td>0.134723</td>\n",
       "      <td>0.011410</td>\n",
       "      <td>0.120494</td>\n",
       "      <td>-0.689428</td>\n",
       "      <td>-0.066464</td>\n",
       "      <td>-0.257794</td>\n",
       "      <td>0.077507</td>\n",
       "      <td>...</td>\n",
       "      <td>0.019496</td>\n",
       "      <td>0.003834</td>\n",
       "      <td>0.056211</td>\n",
       "      <td>0.336151</td>\n",
       "      <td>-0.775444</td>\n",
       "      <td>-0.880351</td>\n",
       "      <td>-0.164521</td>\n",
       "      <td>-0.289368</td>\n",
       "      <td>0.376510</td>\n",
       "      <td>0.567605</td>\n",
       "    </tr>\n",
       "    <tr>\n",
       "      <th>129810</th>\n",
       "      <td>0.529565</td>\n",
       "      <td>-0.029788</td>\n",
       "      <td>-0.105100</td>\n",
       "      <td>-0.372880</td>\n",
       "      <td>0.044189</td>\n",
       "      <td>0.157362</td>\n",
       "      <td>0.126351</td>\n",
       "      <td>-0.156275</td>\n",
       "      <td>-0.049245</td>\n",
       "      <td>-0.127461</td>\n",
       "      <td>...</td>\n",
       "      <td>0.026548</td>\n",
       "      <td>0.241312</td>\n",
       "      <td>-0.156993</td>\n",
       "      <td>0.234121</td>\n",
       "      <td>-0.197408</td>\n",
       "      <td>-0.547292</td>\n",
       "      <td>-0.091105</td>\n",
       "      <td>-0.341116</td>\n",
       "      <td>0.662170</td>\n",
       "      <td>0.756669</td>\n",
       "    </tr>\n",
       "    <tr>\n",
       "      <th>129811</th>\n",
       "      <td>0.693908</td>\n",
       "      <td>-0.095274</td>\n",
       "      <td>0.163296</td>\n",
       "      <td>0.065055</td>\n",
       "      <td>0.020704</td>\n",
       "      <td>0.395068</td>\n",
       "      <td>-0.189560</td>\n",
       "      <td>0.216262</td>\n",
       "      <td>-0.238161</td>\n",
       "      <td>-0.185653</td>\n",
       "      <td>...</td>\n",
       "      <td>-0.006650</td>\n",
       "      <td>-0.208704</td>\n",
       "      <td>0.042350</td>\n",
       "      <td>0.219471</td>\n",
       "      <td>-0.119690</td>\n",
       "      <td>-0.300209</td>\n",
       "      <td>-0.058304</td>\n",
       "      <td>0.046652</td>\n",
       "      <td>0.449859</td>\n",
       "      <td>0.613310</td>\n",
       "    </tr>\n",
       "    <tr>\n",
       "      <th>129812</th>\n",
       "      <td>0.794614</td>\n",
       "      <td>0.031035</td>\n",
       "      <td>0.317881</td>\n",
       "      <td>-0.199671</td>\n",
       "      <td>0.291524</td>\n",
       "      <td>-0.316058</td>\n",
       "      <td>-0.279619</td>\n",
       "      <td>0.378166</td>\n",
       "      <td>0.062694</td>\n",
       "      <td>0.016860</td>\n",
       "      <td>...</td>\n",
       "      <td>0.026548</td>\n",
       "      <td>0.241312</td>\n",
       "      <td>-0.156993</td>\n",
       "      <td>0.234121</td>\n",
       "      <td>-0.197408</td>\n",
       "      <td>-0.547292</td>\n",
       "      <td>-0.091105</td>\n",
       "      <td>-0.341116</td>\n",
       "      <td>0.662170</td>\n",
       "      <td>0.756669</td>\n",
       "    </tr>\n",
       "  </tbody>\n",
       "</table>\n",
       "<p>5 rows × 180 columns</p>\n",
       "</div>"
      ],
      "text/plain": [
       "             0         1         2         3         4         5         6    \\\n",
       "129808  0.507427 -0.063755  0.026520 -0.088073 -0.067580  0.094896 -0.270169   \n",
       "129809  0.481050 -0.175727  0.147483  0.134723  0.011410  0.120494 -0.689428   \n",
       "129810  0.529565 -0.029788 -0.105100 -0.372880  0.044189  0.157362  0.126351   \n",
       "129811  0.693908 -0.095274  0.163296  0.065055  0.020704  0.395068 -0.189560   \n",
       "129812  0.794614  0.031035  0.317881 -0.199671  0.291524 -0.316058 -0.279619   \n",
       "\n",
       "             7         8         9      ...          170       171       172  \\\n",
       "129808  0.267479 -0.093919  0.002721    ...     0.181969  0.086413  0.247481   \n",
       "129809 -0.066464 -0.257794  0.077507    ...     0.019496  0.003834  0.056211   \n",
       "129810 -0.156275 -0.049245 -0.127461    ...     0.026548  0.241312 -0.156993   \n",
       "129811  0.216262 -0.238161 -0.185653    ...    -0.006650 -0.208704  0.042350   \n",
       "129812  0.378166  0.062694  0.016860    ...     0.026548  0.241312 -0.156993   \n",
       "\n",
       "             173       174       175       176       177       178       179  \n",
       "129808  0.470953 -0.104824 -0.671785 -0.358374 -0.242323  0.403341  0.262397  \n",
       "129809  0.336151 -0.775444 -0.880351 -0.164521 -0.289368  0.376510  0.567605  \n",
       "129810  0.234121 -0.197408 -0.547292 -0.091105 -0.341116  0.662170  0.756669  \n",
       "129811  0.219471 -0.119690 -0.300209 -0.058304  0.046652  0.449859  0.613310  \n",
       "129812  0.234121 -0.197408 -0.547292 -0.091105 -0.341116  0.662170  0.756669  \n",
       "\n",
       "[5 rows x 180 columns]"
      ]
     },
     "execution_count": 15,
     "metadata": {},
     "output_type": "execute_result"
    }
   ],
   "source": [
    "seq2vec9mers = pd.DataFrame(Bdata[Bdata.peptide_length == 9].sequence.apply(seq2vec)).reset_index(drop=True)\n",
    "seq2vec9mers = pd.DataFrame(list(seq2vec9mers.sequence))\n",
    "seq2vec9mers.tail()"
   ]
  },
  {
   "cell_type": "markdown",
   "metadata": {},
   "source": [
    "#### 2.OneHotEncoding"
   ]
  },
  {
   "cell_type": "code",
   "execution_count": 16,
   "metadata": {
    "collapsed": false,
    "scrolled": true
   },
   "outputs": [
    {
     "data": {
      "text/html": [
       "<div>\n",
       "<table border=\"1\" class=\"dataframe\">\n",
       "  <thead>\n",
       "    <tr style=\"text-align: right;\">\n",
       "      <th></th>\n",
       "      <th>0_A</th>\n",
       "      <th>0_C</th>\n",
       "      <th>0_D</th>\n",
       "      <th>0_E</th>\n",
       "      <th>0_F</th>\n",
       "      <th>0_G</th>\n",
       "      <th>0_H</th>\n",
       "      <th>0_I</th>\n",
       "      <th>0_K</th>\n",
       "      <th>0_L</th>\n",
       "      <th>...</th>\n",
       "      <th>8_M</th>\n",
       "      <th>8_N</th>\n",
       "      <th>8_P</th>\n",
       "      <th>8_Q</th>\n",
       "      <th>8_R</th>\n",
       "      <th>8_S</th>\n",
       "      <th>8_T</th>\n",
       "      <th>8_V</th>\n",
       "      <th>8_W</th>\n",
       "      <th>8_Y</th>\n",
       "    </tr>\n",
       "  </thead>\n",
       "  <tbody>\n",
       "    <tr>\n",
       "      <th>129808</th>\n",
       "      <td>0.0</td>\n",
       "      <td>0.0</td>\n",
       "      <td>0.0</td>\n",
       "      <td>0.0</td>\n",
       "      <td>0.0</td>\n",
       "      <td>0.0</td>\n",
       "      <td>0.0</td>\n",
       "      <td>1.0</td>\n",
       "      <td>0.0</td>\n",
       "      <td>0.0</td>\n",
       "      <td>...</td>\n",
       "      <td>0.0</td>\n",
       "      <td>0.0</td>\n",
       "      <td>0.0</td>\n",
       "      <td>0.0</td>\n",
       "      <td>0.0</td>\n",
       "      <td>0.0</td>\n",
       "      <td>0.0</td>\n",
       "      <td>0.0</td>\n",
       "      <td>0.0</td>\n",
       "      <td>0.0</td>\n",
       "    </tr>\n",
       "    <tr>\n",
       "      <th>129809</th>\n",
       "      <td>0.0</td>\n",
       "      <td>0.0</td>\n",
       "      <td>1.0</td>\n",
       "      <td>0.0</td>\n",
       "      <td>0.0</td>\n",
       "      <td>0.0</td>\n",
       "      <td>0.0</td>\n",
       "      <td>0.0</td>\n",
       "      <td>0.0</td>\n",
       "      <td>0.0</td>\n",
       "      <td>...</td>\n",
       "      <td>0.0</td>\n",
       "      <td>0.0</td>\n",
       "      <td>0.0</td>\n",
       "      <td>0.0</td>\n",
       "      <td>0.0</td>\n",
       "      <td>0.0</td>\n",
       "      <td>0.0</td>\n",
       "      <td>0.0</td>\n",
       "      <td>0.0</td>\n",
       "      <td>1.0</td>\n",
       "    </tr>\n",
       "    <tr>\n",
       "      <th>129810</th>\n",
       "      <td>0.0</td>\n",
       "      <td>0.0</td>\n",
       "      <td>0.0</td>\n",
       "      <td>0.0</td>\n",
       "      <td>0.0</td>\n",
       "      <td>0.0</td>\n",
       "      <td>0.0</td>\n",
       "      <td>0.0</td>\n",
       "      <td>0.0</td>\n",
       "      <td>0.0</td>\n",
       "      <td>...</td>\n",
       "      <td>0.0</td>\n",
       "      <td>0.0</td>\n",
       "      <td>0.0</td>\n",
       "      <td>0.0</td>\n",
       "      <td>0.0</td>\n",
       "      <td>0.0</td>\n",
       "      <td>0.0</td>\n",
       "      <td>0.0</td>\n",
       "      <td>0.0</td>\n",
       "      <td>0.0</td>\n",
       "    </tr>\n",
       "    <tr>\n",
       "      <th>129811</th>\n",
       "      <td>0.0</td>\n",
       "      <td>0.0</td>\n",
       "      <td>0.0</td>\n",
       "      <td>0.0</td>\n",
       "      <td>0.0</td>\n",
       "      <td>0.0</td>\n",
       "      <td>0.0</td>\n",
       "      <td>0.0</td>\n",
       "      <td>0.0</td>\n",
       "      <td>1.0</td>\n",
       "      <td>...</td>\n",
       "      <td>1.0</td>\n",
       "      <td>0.0</td>\n",
       "      <td>0.0</td>\n",
       "      <td>0.0</td>\n",
       "      <td>0.0</td>\n",
       "      <td>0.0</td>\n",
       "      <td>0.0</td>\n",
       "      <td>0.0</td>\n",
       "      <td>0.0</td>\n",
       "      <td>0.0</td>\n",
       "    </tr>\n",
       "    <tr>\n",
       "      <th>129812</th>\n",
       "      <td>0.0</td>\n",
       "      <td>0.0</td>\n",
       "      <td>0.0</td>\n",
       "      <td>0.0</td>\n",
       "      <td>1.0</td>\n",
       "      <td>0.0</td>\n",
       "      <td>0.0</td>\n",
       "      <td>0.0</td>\n",
       "      <td>0.0</td>\n",
       "      <td>0.0</td>\n",
       "      <td>...</td>\n",
       "      <td>0.0</td>\n",
       "      <td>0.0</td>\n",
       "      <td>0.0</td>\n",
       "      <td>0.0</td>\n",
       "      <td>0.0</td>\n",
       "      <td>0.0</td>\n",
       "      <td>0.0</td>\n",
       "      <td>0.0</td>\n",
       "      <td>0.0</td>\n",
       "      <td>0.0</td>\n",
       "    </tr>\n",
       "  </tbody>\n",
       "</table>\n",
       "<p>5 rows × 180 columns</p>\n",
       "</div>"
      ],
      "text/plain": [
       "        0_A  0_C  0_D  0_E  0_F  0_G  0_H  0_I  0_K  0_L ...   8_M  8_N  8_P  \\\n",
       "129808  0.0  0.0  0.0  0.0  0.0  0.0  0.0  1.0  0.0  0.0 ...   0.0  0.0  0.0   \n",
       "129809  0.0  0.0  1.0  0.0  0.0  0.0  0.0  0.0  0.0  0.0 ...   0.0  0.0  0.0   \n",
       "129810  0.0  0.0  0.0  0.0  0.0  0.0  0.0  0.0  0.0  0.0 ...   0.0  0.0  0.0   \n",
       "129811  0.0  0.0  0.0  0.0  0.0  0.0  0.0  0.0  0.0  1.0 ...   1.0  0.0  0.0   \n",
       "129812  0.0  0.0  0.0  0.0  1.0  0.0  0.0  0.0  0.0  0.0 ...   0.0  0.0  0.0   \n",
       "\n",
       "        8_Q  8_R  8_S  8_T  8_V  8_W  8_Y  \n",
       "129808  0.0  0.0  0.0  0.0  0.0  0.0  0.0  \n",
       "129809  0.0  0.0  0.0  0.0  0.0  0.0  1.0  \n",
       "129810  0.0  0.0  0.0  0.0  0.0  0.0  0.0  \n",
       "129811  0.0  0.0  0.0  0.0  0.0  0.0  0.0  \n",
       "129812  0.0  0.0  0.0  0.0  0.0  0.0  0.0  \n",
       "\n",
       "[5 rows x 180 columns]"
      ]
     },
     "execution_count": 16,
     "metadata": {},
     "output_type": "execute_result"
    }
   ],
   "source": [
    "OneHot9mers = to_one_hot(Bdata, 9)\n",
    "OneHot9mers.tail()"
   ]
  },
  {
   "cell_type": "markdown",
   "metadata": {},
   "source": [
    "#### 3. Physochemical properties"
   ]
  },
  {
   "cell_type": "code",
   "execution_count": 17,
   "metadata": {
    "collapsed": false
   },
   "outputs": [
    {
     "data": {
      "text/html": [
       "<div>\n",
       "<table border=\"1\" class=\"dataframe\">\n",
       "  <thead>\n",
       "    <tr style=\"text-align: right;\">\n",
       "      <th></th>\n",
       "      <th>molecular_weight</th>\n",
       "      <th>aromaticity</th>\n",
       "      <th>instability_index</th>\n",
       "      <th>isoelectric_point</th>\n",
       "    </tr>\n",
       "  </thead>\n",
       "  <tbody>\n",
       "    <tr>\n",
       "      <th>129808</th>\n",
       "      <td>0.372089</td>\n",
       "      <td>0.000000</td>\n",
       "      <td>0.280008</td>\n",
       "      <td>0.050803</td>\n",
       "    </tr>\n",
       "    <tr>\n",
       "      <th>129809</th>\n",
       "      <td>0.323164</td>\n",
       "      <td>0.111111</td>\n",
       "      <td>0.293921</td>\n",
       "      <td>0.064873</td>\n",
       "    </tr>\n",
       "    <tr>\n",
       "      <th>129810</th>\n",
       "      <td>0.528654</td>\n",
       "      <td>0.333333</td>\n",
       "      <td>0.353245</td>\n",
       "      <td>0.085869</td>\n",
       "    </tr>\n",
       "    <tr>\n",
       "      <th>129811</th>\n",
       "      <td>0.488379</td>\n",
       "      <td>0.111111</td>\n",
       "      <td>0.220120</td>\n",
       "      <td>0.050803</td>\n",
       "    </tr>\n",
       "    <tr>\n",
       "      <th>129812</th>\n",
       "      <td>0.533740</td>\n",
       "      <td>0.555556</td>\n",
       "      <td>0.264814</td>\n",
       "      <td>0.246062</td>\n",
       "    </tr>\n",
       "  </tbody>\n",
       "</table>\n",
       "</div>"
      ],
      "text/plain": [
       "        molecular_weight  aromaticity  instability_index  isoelectric_point\n",
       "129808          0.372089     0.000000           0.280008           0.050803\n",
       "129809          0.323164     0.111111           0.293921           0.064873\n",
       "129810          0.528654     0.333333           0.353245           0.085869\n",
       "129811          0.488379     0.111111           0.220120           0.050803\n",
       "129812          0.533740     0.555556           0.264814           0.246062"
      ]
     },
     "execution_count": 17,
     "metadata": {},
     "output_type": "execute_result"
    }
   ],
   "source": [
    "PhChemicalData = analyse_seq(Bdata[Bdata.peptide_length == 9].sequence)\n",
    "PhChemicalData.tail()"
   ]
  },
  {
   "cell_type": "markdown",
   "metadata": {},
   "source": [
    "#### 4.Kidera factors"
   ]
  },
  {
   "cell_type": "code",
   "execution_count": 18,
   "metadata": {
    "collapsed": false
   },
   "outputs": [
    {
     "data": {
      "text/html": [
       "<div>\n",
       "<table border=\"1\" class=\"dataframe\">\n",
       "  <thead>\n",
       "    <tr style=\"text-align: right;\">\n",
       "      <th></th>\n",
       "      <th>f1</th>\n",
       "      <th>f2</th>\n",
       "      <th>f3</th>\n",
       "      <th>f4</th>\n",
       "      <th>f5</th>\n",
       "      <th>f6</th>\n",
       "      <th>f7</th>\n",
       "      <th>f8</th>\n",
       "      <th>f9</th>\n",
       "      <th>f10</th>\n",
       "    </tr>\n",
       "  </thead>\n",
       "  <tbody>\n",
       "    <tr>\n",
       "      <th>129808</th>\n",
       "      <td>-0.011111</td>\n",
       "      <td>-0.355556</td>\n",
       "      <td>-0.186667</td>\n",
       "      <td>0.011111</td>\n",
       "      <td>-0.106667</td>\n",
       "      <td>-0.116667</td>\n",
       "      <td>-0.481111</td>\n",
       "      <td>-0.560000</td>\n",
       "      <td>-0.167778</td>\n",
       "      <td>-0.061111</td>\n",
       "    </tr>\n",
       "    <tr>\n",
       "      <th>129809</th>\n",
       "      <td>0.172222</td>\n",
       "      <td>-0.478889</td>\n",
       "      <td>-0.176667</td>\n",
       "      <td>-0.304444</td>\n",
       "      <td>0.096667</td>\n",
       "      <td>-0.404444</td>\n",
       "      <td>-0.238889</td>\n",
       "      <td>-0.028889</td>\n",
       "      <td>-0.250000</td>\n",
       "      <td>0.283333</td>\n",
       "    </tr>\n",
       "    <tr>\n",
       "      <th>129810</th>\n",
       "      <td>0.367778</td>\n",
       "      <td>0.122222</td>\n",
       "      <td>0.144444</td>\n",
       "      <td>0.002222</td>\n",
       "      <td>-0.051111</td>\n",
       "      <td>-0.146667</td>\n",
       "      <td>-0.062222</td>\n",
       "      <td>0.642222</td>\n",
       "      <td>0.040000</td>\n",
       "      <td>-0.567778</td>\n",
       "    </tr>\n",
       "    <tr>\n",
       "      <th>129811</th>\n",
       "      <td>-0.387778</td>\n",
       "      <td>-0.070000</td>\n",
       "      <td>-0.372222</td>\n",
       "      <td>0.003333</td>\n",
       "      <td>0.041111</td>\n",
       "      <td>0.073333</td>\n",
       "      <td>-0.040000</td>\n",
       "      <td>0.148889</td>\n",
       "      <td>-0.108889</td>\n",
       "      <td>0.062222</td>\n",
       "    </tr>\n",
       "    <tr>\n",
       "      <th>129812</th>\n",
       "      <td>-0.450000</td>\n",
       "      <td>0.132222</td>\n",
       "      <td>0.138889</td>\n",
       "      <td>-0.887778</td>\n",
       "      <td>-0.113333</td>\n",
       "      <td>-0.695556</td>\n",
       "      <td>0.007778</td>\n",
       "      <td>0.648889</td>\n",
       "      <td>0.823333</td>\n",
       "      <td>-0.368889</td>\n",
       "    </tr>\n",
       "  </tbody>\n",
       "</table>\n",
       "</div>"
      ],
      "text/plain": [
       "              f1        f2        f3        f4        f5        f6        f7  \\\n",
       "129808 -0.011111 -0.355556 -0.186667  0.011111 -0.106667 -0.116667 -0.481111   \n",
       "129809  0.172222 -0.478889 -0.176667 -0.304444  0.096667 -0.404444 -0.238889   \n",
       "129810  0.367778  0.122222  0.144444  0.002222 -0.051111 -0.146667 -0.062222   \n",
       "129811 -0.387778 -0.070000 -0.372222  0.003333  0.041111  0.073333 -0.040000   \n",
       "129812 -0.450000  0.132222  0.138889 -0.887778 -0.113333 -0.695556  0.007778   \n",
       "\n",
       "              f8        f9       f10  \n",
       "129808 -0.560000 -0.167778 -0.061111  \n",
       "129809 -0.028889 -0.250000  0.283333  \n",
       "129810  0.642222  0.040000 -0.567778  \n",
       "129811  0.148889 -0.108889  0.062222  \n",
       "129812  0.648889  0.823333 -0.368889  "
      ]
     },
     "execution_count": 18,
     "metadata": {},
     "output_type": "execute_result"
    }
   ],
   "source": [
    "KideraData = add_kidera_ftr(Bdata[Bdata.peptide_length == 9].sequence)\n",
    "KideraData.tail()"
   ]
  },
  {
   "cell_type": "markdown",
   "metadata": {},
   "source": [
    "## Training XGboost"
   ]
  },
  {
   "cell_type": "code",
   "execution_count": 19,
   "metadata": {},
   "outputs": [],
   "source": [
    "def affinity_to_classes(affinity):\n",
    "    return pd.Series([round(10*i, 0) for i in affinity])\n",
    "\n",
    "def affinity_to_binary(affinity):\n",
    "    return pd.Series(map(lambda x: 1 if x >= 0.5 else 0, affinity))"
   ]
  },
  {
   "cell_type": "code",
   "execution_count": 43,
   "metadata": {
    "collapsed": false
   },
   "outputs": [],
   "source": [
    "def xgb_grid_search(data, target):\n",
    "    \n",
    "    # split\n",
    "    X_train, X_test, y_train, y_test = cross_validation.train_test_split(data, target, test_size=0.25, random_state=442)\n",
    "    \n",
    "    # train\n",
    "    \n",
    "    gbm_params = {\n",
    "        'max_depth': [3, 7, 10],\n",
    "        'n_estimators': [250, 350],\n",
    "        'learning_rate': [0.2, 0.3],\n",
    "        'max_delta_step': [5, 10]\n",
    "    }\n",
    "    \n",
    "    print(\"GridSeachCV proceeding...\")\n",
    "    gbm = GridSearchCV(xgb.XGBClassifier(objective='binary:logistic'), gbm_params, cv=5, verbose=10)\n",
    "    gbm.fit(X_train, y_train)\n",
    "    print(\"Done.\")\n",
    "    \n",
    "    print(99*\"=\"+ \"\\nBEST PARAMETERS: \", gbm.best_params_, \"\\n\"+99*\"=\"+\"\\n\")\n",
    "    predictions = gbm.predict(X_test, y_test)\n",
    "    \n",
    "    print(\"==================\\ACCURACY : %.4g\\n==================\" % metrics.roc_auc_score(y_test, predictions))\n",
    "    "
   ]
  },
  {
   "cell_type": "code",
   "execution_count": 21,
   "metadata": {
    "collapsed": false,
    "scrolled": true
   },
   "outputs": [],
   "source": [
    "affinity = Bdata[Bdata.peptide_length == 9].meas.reset_index(drop=True)\n",
    "affinity_classes = affinity_to_classes(affinity)\n",
    "affinity_binary = affinity_to_binary(affinity)"
   ]
  },
  {
   "cell_type": "code",
   "execution_count": 22,
   "metadata": {
    "collapsed": false
   },
   "outputs": [],
   "source": [
    "#xgb_grid_search(OneHot9mers, affinity_binary)"
   ]
  },
  {
   "cell_type": "code",
   "execution_count": 23,
   "metadata": {
    "collapsed": true
   },
   "outputs": [],
   "source": [
    "def xgb_best(data, target):\n",
    "    X_train, X_test, y_train, y_test = cross_validation.train_test_split(data, target, test_size=0.25, random_state=442)\n",
    "    \n",
    "    gbm_best_params =  {'objective':'binary:logistic', 'learning_rate': 0.2, 'max_delta_step': 10, 'n_estimators': 250, 'max_depth': 7, 'cv':10, 'verbose':10}\n",
    "    gbm = xgb.XGBClassifier(**gbm_best_params)\n",
    "    \n",
    "    gbm.fit(X_train, y_train)\n",
    "    predictions = gbm.predict(X_test)\n",
    "    print(\"Accuracy : %.4g\" % metrics.roc_auc_score(y_test, predictions))\n",
    "    \n",
    "    "
   ]
  },
  {
   "cell_type": "markdown",
   "metadata": {},
   "source": [
    "Best parameters:  {'learning_rate': 0.2, 'max_delta_step': 10, 'n_estimators': 250, 'max_depth': 7}"
   ]
  },
  {
   "cell_type": "code",
   "execution_count": null,
   "metadata": {},
   "outputs": [],
   "source": [
    "data_many_features = pd.concat([KideraData, PhChemicalData, OneHot9mers], axis=1)\n",
    "dataframes = [seq2vec9mers, KideraData, data_many_features]\n",
    "\n",
    "for current_data in dataframes:\n",
    "    xgb_grid_search(current_data, affinity_binary)"
   ]
  },
  {
   "cell_type": "code",
   "execution_count": null,
   "metadata": {},
   "outputs": [],
   "source": []
  },
  {
   "cell_type": "markdown",
   "metadata": {},
   "source": []
  },
  {
   "cell_type": "code",
   "execution_count": null,
   "metadata": {},
   "outputs": [],
   "source": []
  },
  {
   "cell_type": "code",
   "execution_count": null,
   "metadata": {},
   "outputs": [],
   "source": []
  }
 ],
 "metadata": {
  "anaconda-cloud": {},
  "kernelspec": {
   "display_name": "Python [Root]",
   "language": "python",
   "name": "Python [Root]"
  },
  "language_info": {
   "codemirror_mode": {
    "name": "ipython",
    "version": 3
   },
   "file_extension": ".py",
   "mimetype": "text/x-python",
   "name": "python",
   "nbconvert_exporter": "python",
   "pygments_lexer": "ipython3",
   "version": "3.5.2"
  }
 },
 "nbformat": 4,
 "nbformat_minor": 0
}

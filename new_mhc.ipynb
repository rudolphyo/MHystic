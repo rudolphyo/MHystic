{
 "cells": [
  {
   "cell_type": "code",
   "execution_count": 6,
   "metadata": {
    "collapsed": false
   },
   "outputs": [],
   "source": [
    "%matplotlib inline\n",
    "import matplotlib.pyplot as plt\n",
    "import numpy as np\n",
    "import pandas as pd\n",
    "from pandas import get_dummies\n",
    "import math\n",
    "\n",
    "plt.style.use('ggplot')"
   ]
  },
  {
   "cell_type": "code",
   "execution_count": 7,
   "metadata": {
    "collapsed": true
   },
   "outputs": [],
   "source": [
    "from __future__ import print_function\n",
    "\n",
    "import sys\n",
    "from Bio.SeqUtils import ProtParamData  # Local\n",
    "from Bio.SeqUtils import IsoelectricPoint  # Local\n",
    "from Bio.Seq import Seq\n",
    "from Bio.Alphabet import IUPAC\n",
    "from Bio.Data import IUPACData\n",
    "from Bio.SeqUtils import molecular_weight\n",
    "from Bio import SeqIO\n",
    "from Bio.SeqUtils import ProtParam"
   ]
  },
  {
   "cell_type": "code",
   "execution_count": 8,
   "metadata": {
    "collapsed": true
   },
   "outputs": [],
   "source": [
    "from sklearn import preprocessing"
   ]
  },
  {
   "cell_type": "markdown",
   "metadata": {},
   "source": [
    "## Features from BioPython. Protein analysis"
   ]
  },
  {
   "cell_type": "code",
   "execution_count": 9,
   "metadata": {
    "collapsed": false
   },
   "outputs": [],
   "source": [
    "def analyse_scale_seq(data):\n",
    "    mol_weight = []\n",
    "    aromaticity = []\n",
    "    instability_index = []\n",
    "    isoelectric_point = []\n",
    "    for i in data[\"sequence\"]:\n",
    "        X = ProtParam.ProteinAnalysis(i)\n",
    "        mol_weight.append(X.molecular_weight())\n",
    "        aromaticity.append(X.aromaticity())\n",
    "        instability_index.append(X.instability_index())\n",
    "        isoelectric_point.append(X.isoelectric_point())\n",
    "    data[\"molecular_weight\"] = mol_weight\n",
    "    data[\"aromaticity\"] = aromaticity\n",
    "    data[\"instability_index\"] = instability_index\n",
    "    data[\"isoelectric_point\"] = isoelectric_point\n",
    "    min_max_scaler = preprocessing.MinMaxScaler()\n",
    "    x_scaled = min_max_scaler.fit_transform(data[[\"molecular_weight\",\"instability_index\", \"isoelectric_point\"]])\n",
    "    x_scaled = pd.DataFrame(x_scaled, columns=[\"molecular_weight\",\"instability_index\", \"isoelectric_point\"])\n",
    "    data[\"molecular_weight\"] = pd.DataFrame(x_scaled[\"molecular_weight\"])\n",
    "    data[\"instability_index\"] = pd.DataFrame(x_scaled[\"instability_index\"])\n",
    "    data[\"isoelectric_point\"] = pd.DataFrame(x_scaled[\"isoelectric_point\"])"
   ]
  },
  {
   "cell_type": "code",
   "execution_count": 10,
   "metadata": {
    "collapsed": false
   },
   "outputs": [
    {
     "ename": "OSError",
     "evalue": "File b'A0203.csv' does not exist",
     "output_type": "error",
     "traceback": [
      "\u001b[1;31m---------------------------------------------------------------------------\u001b[0m",
      "\u001b[1;31mOSError\u001b[0m                                   Traceback (most recent call last)",
      "\u001b[1;32m<ipython-input-10-9daac221a69c>\u001b[0m in \u001b[0;36m<module>\u001b[1;34m()\u001b[0m\n\u001b[1;32m----> 1\u001b[1;33m \u001b[0mdata_example\u001b[0m \u001b[1;33m=\u001b[0m \u001b[0mpd\u001b[0m\u001b[1;33m.\u001b[0m\u001b[0mread_csv\u001b[0m\u001b[1;33m(\u001b[0m\u001b[1;34m\"A0203.csv\"\u001b[0m\u001b[1;33m)\u001b[0m\u001b[1;33m\u001b[0m\u001b[0m\n\u001b[0m\u001b[0;32m      2\u001b[0m \u001b[0manalyse_scale_seq\u001b[0m\u001b[1;33m(\u001b[0m\u001b[0mdata_example\u001b[0m\u001b[1;33m)\u001b[0m\u001b[1;33m\u001b[0m\u001b[0m\n\u001b[0;32m      3\u001b[0m \u001b[0mdata_example\u001b[0m\u001b[1;33m.\u001b[0m\u001b[0mtail\u001b[0m\u001b[1;33m(\u001b[0m\u001b[1;33m)\u001b[0m\u001b[1;33m\u001b[0m\u001b[0m\n",
      "\u001b[1;32mC:\\Users\\Lev\\Anaconda3\\lib\\site-packages\\pandas\\io\\parsers.py\u001b[0m in \u001b[0;36mparser_f\u001b[1;34m(filepath_or_buffer, sep, delimiter, header, names, index_col, usecols, squeeze, prefix, mangle_dupe_cols, dtype, engine, converters, true_values, false_values, skipinitialspace, skiprows, skipfooter, nrows, na_values, keep_default_na, na_filter, verbose, skip_blank_lines, parse_dates, infer_datetime_format, keep_date_col, date_parser, dayfirst, iterator, chunksize, compression, thousands, decimal, lineterminator, quotechar, quoting, escapechar, comment, encoding, dialect, tupleize_cols, error_bad_lines, warn_bad_lines, skip_footer, doublequote, delim_whitespace, as_recarray, compact_ints, use_unsigned, low_memory, buffer_lines, memory_map, float_precision)\u001b[0m\n\u001b[0;32m    560\u001b[0m                     skip_blank_lines=skip_blank_lines)\n\u001b[0;32m    561\u001b[0m \u001b[1;33m\u001b[0m\u001b[0m\n\u001b[1;32m--> 562\u001b[1;33m         \u001b[1;32mreturn\u001b[0m \u001b[0m_read\u001b[0m\u001b[1;33m(\u001b[0m\u001b[0mfilepath_or_buffer\u001b[0m\u001b[1;33m,\u001b[0m \u001b[0mkwds\u001b[0m\u001b[1;33m)\u001b[0m\u001b[1;33m\u001b[0m\u001b[0m\n\u001b[0m\u001b[0;32m    563\u001b[0m \u001b[1;33m\u001b[0m\u001b[0m\n\u001b[0;32m    564\u001b[0m     \u001b[0mparser_f\u001b[0m\u001b[1;33m.\u001b[0m\u001b[0m__name__\u001b[0m \u001b[1;33m=\u001b[0m \u001b[0mname\u001b[0m\u001b[1;33m\u001b[0m\u001b[0m\n",
      "\u001b[1;32mC:\\Users\\Lev\\Anaconda3\\lib\\site-packages\\pandas\\io\\parsers.py\u001b[0m in \u001b[0;36m_read\u001b[1;34m(filepath_or_buffer, kwds)\u001b[0m\n\u001b[0;32m    313\u001b[0m \u001b[1;33m\u001b[0m\u001b[0m\n\u001b[0;32m    314\u001b[0m     \u001b[1;31m# Create the parser.\u001b[0m\u001b[1;33m\u001b[0m\u001b[1;33m\u001b[0m\u001b[0m\n\u001b[1;32m--> 315\u001b[1;33m     \u001b[0mparser\u001b[0m \u001b[1;33m=\u001b[0m \u001b[0mTextFileReader\u001b[0m\u001b[1;33m(\u001b[0m\u001b[0mfilepath_or_buffer\u001b[0m\u001b[1;33m,\u001b[0m \u001b[1;33m**\u001b[0m\u001b[0mkwds\u001b[0m\u001b[1;33m)\u001b[0m\u001b[1;33m\u001b[0m\u001b[0m\n\u001b[0m\u001b[0;32m    316\u001b[0m \u001b[1;33m\u001b[0m\u001b[0m\n\u001b[0;32m    317\u001b[0m     \u001b[1;32mif\u001b[0m \u001b[1;33m(\u001b[0m\u001b[0mnrows\u001b[0m \u001b[1;32mis\u001b[0m \u001b[1;32mnot\u001b[0m \u001b[1;32mNone\u001b[0m\u001b[1;33m)\u001b[0m \u001b[1;32mand\u001b[0m \u001b[1;33m(\u001b[0m\u001b[0mchunksize\u001b[0m \u001b[1;32mis\u001b[0m \u001b[1;32mnot\u001b[0m \u001b[1;32mNone\u001b[0m\u001b[1;33m)\u001b[0m\u001b[1;33m:\u001b[0m\u001b[1;33m\u001b[0m\u001b[0m\n",
      "\u001b[1;32mC:\\Users\\Lev\\Anaconda3\\lib\\site-packages\\pandas\\io\\parsers.py\u001b[0m in \u001b[0;36m__init__\u001b[1;34m(self, f, engine, **kwds)\u001b[0m\n\u001b[0;32m    643\u001b[0m             \u001b[0mself\u001b[0m\u001b[1;33m.\u001b[0m\u001b[0moptions\u001b[0m\u001b[1;33m[\u001b[0m\u001b[1;34m'has_index_names'\u001b[0m\u001b[1;33m]\u001b[0m \u001b[1;33m=\u001b[0m \u001b[0mkwds\u001b[0m\u001b[1;33m[\u001b[0m\u001b[1;34m'has_index_names'\u001b[0m\u001b[1;33m]\u001b[0m\u001b[1;33m\u001b[0m\u001b[0m\n\u001b[0;32m    644\u001b[0m \u001b[1;33m\u001b[0m\u001b[0m\n\u001b[1;32m--> 645\u001b[1;33m         \u001b[0mself\u001b[0m\u001b[1;33m.\u001b[0m\u001b[0m_make_engine\u001b[0m\u001b[1;33m(\u001b[0m\u001b[0mself\u001b[0m\u001b[1;33m.\u001b[0m\u001b[0mengine\u001b[0m\u001b[1;33m)\u001b[0m\u001b[1;33m\u001b[0m\u001b[0m\n\u001b[0m\u001b[0;32m    646\u001b[0m \u001b[1;33m\u001b[0m\u001b[0m\n\u001b[0;32m    647\u001b[0m     \u001b[1;32mdef\u001b[0m \u001b[0mclose\u001b[0m\u001b[1;33m(\u001b[0m\u001b[0mself\u001b[0m\u001b[1;33m)\u001b[0m\u001b[1;33m:\u001b[0m\u001b[1;33m\u001b[0m\u001b[0m\n",
      "\u001b[1;32mC:\\Users\\Lev\\Anaconda3\\lib\\site-packages\\pandas\\io\\parsers.py\u001b[0m in \u001b[0;36m_make_engine\u001b[1;34m(self, engine)\u001b[0m\n\u001b[0;32m    797\u001b[0m     \u001b[1;32mdef\u001b[0m \u001b[0m_make_engine\u001b[0m\u001b[1;33m(\u001b[0m\u001b[0mself\u001b[0m\u001b[1;33m,\u001b[0m \u001b[0mengine\u001b[0m\u001b[1;33m=\u001b[0m\u001b[1;34m'c'\u001b[0m\u001b[1;33m)\u001b[0m\u001b[1;33m:\u001b[0m\u001b[1;33m\u001b[0m\u001b[0m\n\u001b[0;32m    798\u001b[0m         \u001b[1;32mif\u001b[0m \u001b[0mengine\u001b[0m \u001b[1;33m==\u001b[0m \u001b[1;34m'c'\u001b[0m\u001b[1;33m:\u001b[0m\u001b[1;33m\u001b[0m\u001b[0m\n\u001b[1;32m--> 799\u001b[1;33m             \u001b[0mself\u001b[0m\u001b[1;33m.\u001b[0m\u001b[0m_engine\u001b[0m \u001b[1;33m=\u001b[0m \u001b[0mCParserWrapper\u001b[0m\u001b[1;33m(\u001b[0m\u001b[0mself\u001b[0m\u001b[1;33m.\u001b[0m\u001b[0mf\u001b[0m\u001b[1;33m,\u001b[0m \u001b[1;33m**\u001b[0m\u001b[0mself\u001b[0m\u001b[1;33m.\u001b[0m\u001b[0moptions\u001b[0m\u001b[1;33m)\u001b[0m\u001b[1;33m\u001b[0m\u001b[0m\n\u001b[0m\u001b[0;32m    800\u001b[0m         \u001b[1;32melse\u001b[0m\u001b[1;33m:\u001b[0m\u001b[1;33m\u001b[0m\u001b[0m\n\u001b[0;32m    801\u001b[0m             \u001b[1;32mif\u001b[0m \u001b[0mengine\u001b[0m \u001b[1;33m==\u001b[0m \u001b[1;34m'python'\u001b[0m\u001b[1;33m:\u001b[0m\u001b[1;33m\u001b[0m\u001b[0m\n",
      "\u001b[1;32mC:\\Users\\Lev\\Anaconda3\\lib\\site-packages\\pandas\\io\\parsers.py\u001b[0m in \u001b[0;36m__init__\u001b[1;34m(self, src, **kwds)\u001b[0m\n\u001b[0;32m   1211\u001b[0m         \u001b[0mkwds\u001b[0m\u001b[1;33m[\u001b[0m\u001b[1;34m'allow_leading_cols'\u001b[0m\u001b[1;33m]\u001b[0m \u001b[1;33m=\u001b[0m \u001b[0mself\u001b[0m\u001b[1;33m.\u001b[0m\u001b[0mindex_col\u001b[0m \u001b[1;32mis\u001b[0m \u001b[1;32mnot\u001b[0m \u001b[1;32mFalse\u001b[0m\u001b[1;33m\u001b[0m\u001b[0m\n\u001b[0;32m   1212\u001b[0m \u001b[1;33m\u001b[0m\u001b[0m\n\u001b[1;32m-> 1213\u001b[1;33m         \u001b[0mself\u001b[0m\u001b[1;33m.\u001b[0m\u001b[0m_reader\u001b[0m \u001b[1;33m=\u001b[0m \u001b[0m_parser\u001b[0m\u001b[1;33m.\u001b[0m\u001b[0mTextReader\u001b[0m\u001b[1;33m(\u001b[0m\u001b[0msrc\u001b[0m\u001b[1;33m,\u001b[0m \u001b[1;33m**\u001b[0m\u001b[0mkwds\u001b[0m\u001b[1;33m)\u001b[0m\u001b[1;33m\u001b[0m\u001b[0m\n\u001b[0m\u001b[0;32m   1214\u001b[0m \u001b[1;33m\u001b[0m\u001b[0m\n\u001b[0;32m   1215\u001b[0m         \u001b[1;31m# XXX\u001b[0m\u001b[1;33m\u001b[0m\u001b[1;33m\u001b[0m\u001b[0m\n",
      "\u001b[1;32mpandas\\parser.pyx\u001b[0m in \u001b[0;36mpandas.parser.TextReader.__cinit__ (pandas\\parser.c:3427)\u001b[1;34m()\u001b[0m\n",
      "\u001b[1;32mpandas\\parser.pyx\u001b[0m in \u001b[0;36mpandas.parser.TextReader._setup_parser_source (pandas\\parser.c:6861)\u001b[1;34m()\u001b[0m\n",
      "\u001b[1;31mOSError\u001b[0m: File b'A0203.csv' does not exist"
     ]
    }
   ],
   "source": [
    "data_example = pd.read_csv(\"A0203.csv\")\n",
    "analyse_scale_seq(data_example)\n",
    "data_example.tail()"
   ]
  },
  {
   "cell_type": "code",
   "execution_count": null,
   "metadata": {
    "collapsed": true
   },
   "outputs": [],
   "source": []
  },
  {
   "cell_type": "markdown",
   "metadata": {},
   "source": [
    "## Preprocessing. Scaling"
   ]
  },
  {
   "cell_type": "code",
   "execution_count": 11,
   "metadata": {
    "collapsed": false
   },
   "outputs": [
    {
     "data": {
      "text/html": [
       "<div>\n",
       "<table border=\"1\" class=\"dataframe\">\n",
       "  <thead>\n",
       "    <tr style=\"text-align: right;\">\n",
       "      <th></th>\n",
       "      <th>sequence</th>\n",
       "      <th>length</th>\n",
       "      <th>meas</th>\n",
       "      <th>netmhc</th>\n",
       "      <th>netmhcpan</th>\n",
       "      <th>smmpmbec_cpp</th>\n",
       "    </tr>\n",
       "  </thead>\n",
       "  <tbody>\n",
       "    <tr>\n",
       "      <th>2121</th>\n",
       "      <td>YVYPDNLPR</td>\n",
       "      <td>9</td>\n",
       "      <td>0.084693</td>\n",
       "      <td>0.120446</td>\n",
       "      <td>0.094057</td>\n",
       "      <td>0.280906</td>\n",
       "    </tr>\n",
       "    <tr>\n",
       "      <th>2122</th>\n",
       "      <td>YVYPDNLPV</td>\n",
       "      <td>9</td>\n",
       "      <td>0.898488</td>\n",
       "      <td>0.765906</td>\n",
       "      <td>0.785698</td>\n",
       "      <td>0.708660</td>\n",
       "    </tr>\n",
       "    <tr>\n",
       "      <th>2123</th>\n",
       "      <td>YWIREGKII</td>\n",
       "      <td>9</td>\n",
       "      <td>0.000000</td>\n",
       "      <td>0.080011</td>\n",
       "      <td>0.035959</td>\n",
       "      <td>0.086183</td>\n",
       "    </tr>\n",
       "    <tr>\n",
       "      <th>2124</th>\n",
       "      <td>YWMGGTTYF</td>\n",
       "      <td>9</td>\n",
       "      <td>0.350922</td>\n",
       "      <td>0.257071</td>\n",
       "      <td>0.220255</td>\n",
       "      <td>0.362626</td>\n",
       "    </tr>\n",
       "    <tr>\n",
       "      <th>2125</th>\n",
       "      <td>YYFSYPLFV</td>\n",
       "      <td>9</td>\n",
       "      <td>0.550114</td>\n",
       "      <td>0.668012</td>\n",
       "      <td>0.656733</td>\n",
       "      <td>0.675035</td>\n",
       "    </tr>\n",
       "  </tbody>\n",
       "</table>\n",
       "</div>"
      ],
      "text/plain": [
       "       sequence  length      meas    netmhc  netmhcpan  smmpmbec_cpp\n",
       "2121  YVYPDNLPR       9  0.084693  0.120446   0.094057      0.280906\n",
       "2122  YVYPDNLPV       9  0.898488  0.765906   0.785698      0.708660\n",
       "2123  YWIREGKII       9  0.000000  0.080011   0.035959      0.086183\n",
       "2124  YWMGGTTYF       9  0.350922  0.257071   0.220255      0.362626\n",
       "2125  YYFSYPLFV       9  0.550114  0.668012   0.656733      0.675035"
      ]
     },
     "execution_count": 11,
     "metadata": {},
     "output_type": "execute_result"
    }
   ],
   "source": [
    "data = pd.read_csv(\"Ext.csv\", sep=\",\")\n",
    "data.drop([\"Unnamed: 0\"], inplace=True, axis=1)\n",
    "data.tail()"
   ]
  },
  {
   "cell_type": "code",
   "execution_count": 12,
   "metadata": {
    "collapsed": false
   },
   "outputs": [
    {
     "data": {
      "text/html": [
       "<div>\n",
       "<table border=\"1\" class=\"dataframe\">\n",
       "  <thead>\n",
       "    <tr style=\"text-align: right;\">\n",
       "      <th></th>\n",
       "      <th>sequence</th>\n",
       "      <th>length</th>\n",
       "      <th>meas</th>\n",
       "      <th>netmhc</th>\n",
       "      <th>netmhcpan</th>\n",
       "      <th>smmpmbec_cpp</th>\n",
       "      <th>molecular_weight</th>\n",
       "      <th>aromaticity</th>\n",
       "      <th>instability_index</th>\n",
       "      <th>isoelectric_point</th>\n",
       "    </tr>\n",
       "  </thead>\n",
       "  <tbody>\n",
       "    <tr>\n",
       "      <th>2121</th>\n",
       "      <td>YVYPDNLPR</td>\n",
       "      <td>9</td>\n",
       "      <td>0.084693</td>\n",
       "      <td>0.120446</td>\n",
       "      <td>0.094057</td>\n",
       "      <td>0.280906</td>\n",
       "      <td>0.548323</td>\n",
       "      <td>0.222222</td>\n",
       "      <td>0.231246</td>\n",
       "      <td>0.266668</td>\n",
       "    </tr>\n",
       "    <tr>\n",
       "      <th>2122</th>\n",
       "      <td>YVYPDNLPV</td>\n",
       "      <td>9</td>\n",
       "      <td>0.898488</td>\n",
       "      <td>0.765906</td>\n",
       "      <td>0.785698</td>\n",
       "      <td>0.708660</td>\n",
       "      <td>0.478572</td>\n",
       "      <td>0.222222</td>\n",
       "      <td>0.335037</td>\n",
       "      <td>0.046140</td>\n",
       "    </tr>\n",
       "    <tr>\n",
       "      <th>2123</th>\n",
       "      <td>YWIREGKII</td>\n",
       "      <td>9</td>\n",
       "      <td>0.000000</td>\n",
       "      <td>0.080011</td>\n",
       "      <td>0.035959</td>\n",
       "      <td>0.086183</td>\n",
       "      <td>0.598616</td>\n",
       "      <td>0.222222</td>\n",
       "      <td>0.090546</td>\n",
       "      <td>0.565215</td>\n",
       "    </tr>\n",
       "    <tr>\n",
       "      <th>2124</th>\n",
       "      <td>YWMGGTTYF</td>\n",
       "      <td>9</td>\n",
       "      <td>0.350922</td>\n",
       "      <td>0.257071</td>\n",
       "      <td>0.220255</td>\n",
       "      <td>0.362626</td>\n",
       "      <td>0.534869</td>\n",
       "      <td>0.444444</td>\n",
       "      <td>0.262926</td>\n",
       "      <td>0.232936</td>\n",
       "    </tr>\n",
       "    <tr>\n",
       "      <th>2125</th>\n",
       "      <td>YYFSYPLFV</td>\n",
       "      <td>9</td>\n",
       "      <td>0.550114</td>\n",
       "      <td>0.668012</td>\n",
       "      <td>0.656733</td>\n",
       "      <td>0.675035</td>\n",
       "      <td>0.624251</td>\n",
       "      <td>0.555556</td>\n",
       "      <td>0.292049</td>\n",
       "      <td>0.232856</td>\n",
       "    </tr>\n",
       "  </tbody>\n",
       "</table>\n",
       "</div>"
      ],
      "text/plain": [
       "       sequence  length      meas    netmhc  netmhcpan  smmpmbec_cpp  \\\n",
       "2121  YVYPDNLPR       9  0.084693  0.120446   0.094057      0.280906   \n",
       "2122  YVYPDNLPV       9  0.898488  0.765906   0.785698      0.708660   \n",
       "2123  YWIREGKII       9  0.000000  0.080011   0.035959      0.086183   \n",
       "2124  YWMGGTTYF       9  0.350922  0.257071   0.220255      0.362626   \n",
       "2125  YYFSYPLFV       9  0.550114  0.668012   0.656733      0.675035   \n",
       "\n",
       "      molecular_weight  aromaticity  instability_index  isoelectric_point  \n",
       "2121          0.548323     0.222222           0.231246           0.266668  \n",
       "2122          0.478572     0.222222           0.335037           0.046140  \n",
       "2123          0.598616     0.222222           0.090546           0.565215  \n",
       "2124          0.534869     0.444444           0.262926           0.232936  \n",
       "2125          0.624251     0.555556           0.292049           0.232856  "
      ]
     },
     "execution_count": 12,
     "metadata": {},
     "output_type": "execute_result"
    }
   ],
   "source": [
    "analyse_scale_seq(data)\n",
    "data.tail()"
   ]
  },
  {
   "cell_type": "code",
   "execution_count": 13,
   "metadata": {
    "collapsed": true
   },
   "outputs": [],
   "source": [
    "#it was done in R\n",
    "from math import log\n",
    "def logmeas(i):\n",
    "    val = np.linspace(1, np.log(i)/np.log(50000))\n",
    "    return 1 - min(val)"
   ]
  },
  {
   "cell_type": "code",
   "execution_count": 14,
   "metadata": {
    "collapsed": false
   },
   "outputs": [
    {
     "data": {
      "text/plain": [
       "'def select_len(data, len):\\n    len_indexes = data[\\'sequence\\'][data[\\'length\\'] == len].index\\n    sel_len_X = data[\"sequence\"][indexes]\\n    '"
      ]
     },
     "execution_count": 14,
     "metadata": {},
     "output_type": "execute_result"
    }
   ],
   "source": [
    "\"\"\"def select_len(data, len):\n",
    "    len_indexes = data['sequence'][data['length'] == len].index\n",
    "    sel_len_X = data[\"sequence\"][indexes]\n",
    "    \"\"\""
   ]
  },
  {
   "cell_type": "code",
   "execution_count": 15,
   "metadata": {
    "collapsed": false,
    "scrolled": false
   },
   "outputs": [
    {
     "data": {
      "image/png": "[encoded data removed]",
      "text/plain": [
       "<matplotlib.figure.Figure at 0x1efe2be2748>"
      ]
     },
     "metadata": {},
     "output_type": "display_data"
    }
   ],
   "source": [
    "indexes = data['sequence'][data['length'] == 9].index\n",
    "#indexes = data.index\n",
    "selected_X = data[\"sequence\"][indexes]\n",
    "\n",
    "selected_y = pd.DataFrame(data['meas'][indexes])\n",
    "selected_y['netmhc'] = pd.DataFrame(data['netmhc'][indexes])\n",
    "selected_y['netmhcpan'] = pd.DataFrame(data['netmhcpan'][indexes])\n",
    "selected_y['smmpmbec_cpp'] = pd.DataFrame(data['smmpmbec_cpp'][indexes])\n",
    "\n",
    "plt.figure(figsize=(16,9))\n",
    "plt.title(\"Measure distribution\")\n",
    "hh = plt.hist(selected_y['meas'], 50, color = 'blue', alpha = 0.6)"
   ]
  },
  {
   "cell_type": "code",
   "execution_count": null,
   "metadata": {
    "collapsed": false
   },
   "outputs": [],
   "source": []
  },
  {
   "cell_type": "code",
   "execution_count": 16,
   "metadata": {
    "collapsed": false
   },
   "outputs": [],
   "source": [
    "letters_X = selected_X.apply(list)\n",
    "selected_X=pd.get_dummies(pd.DataFrame(list(letters_X)))"
   ]
  },
  {
   "cell_type": "code",
   "execution_count": null,
   "metadata": {
    "collapsed": false
   },
   "outputs": [],
   "source": []
  },
  {
   "cell_type": "code",
   "execution_count": null,
   "metadata": {
    "collapsed": false,
    "scrolled": true
   },
   "outputs": [],
   "source": []
  },
  {
   "cell_type": "code",
   "execution_count": null,
   "metadata": {
    "collapsed": false,
    "scrolled": true
   },
   "outputs": [],
   "source": []
  },
  {
   "cell_type": "code",
   "execution_count": 17,
   "metadata": {
    "collapsed": false
   },
   "outputs": [],
   "source": [
    "selected_X[\"molecular_weight\"] = pd.DataFrame(data[\"molecular_weight\"][indexes]).reset_index(drop=True)\n",
    "selected_X[\"instability_index\"] = pd.DataFrame(data[\"instability_index\"][indexes]).reset_index(drop=True)\n",
    "selected_X[\"isoelectric_point\"] = pd.DataFrame(data[\"isoelectric_point\"][indexes]).reset_index(drop=True)\n",
    "selected_X[\"aromaticity\"] = pd.DataFrame(data[\"aromaticity\"][indexes]).reset_index(drop=True)"
   ]
  },
  {
   "cell_type": "code",
   "execution_count": null,
   "metadata": {
    "collapsed": false
   },
   "outputs": [],
   "source": []
  },
  {
   "cell_type": "code",
   "execution_count": null,
   "metadata": {
    "collapsed": true
   },
   "outputs": [],
   "source": []
  },
  {
   "cell_type": "markdown",
   "metadata": {},
   "source": [
    "## SVR. 1Hot"
   ]
  },
  {
   "cell_type": "code",
   "execution_count": 18,
   "metadata": {
    "collapsed": true
   },
   "outputs": [],
   "source": [
    "from sklearn.cross_validation import train_test_split\n",
    "from sklearn.metrics import mean_squared_error"
   ]
  },
  {
   "cell_type": "code",
   "execution_count": 19,
   "metadata": {
    "collapsed": false,
    "scrolled": true
   },
   "outputs": [],
   "source": [
    "mse_netmhc = mean_squared_error(selected_y[\"meas\"], selected_y[\"netmhc\"])\n",
    "mse_netmhcpan = mean_squared_error(selected_y[\"meas\"], selected_y[\"netmhcpan\"])\n",
    "mse_smmpmbec_cpp = mean_squared_error(selected_y[\"meas\"], selected_y[\"smmpmbec_cpp\"])"
   ]
  },
  {
   "cell_type": "code",
   "execution_count": 20,
   "metadata": {
    "collapsed": false
   },
   "outputs": [],
   "source": [
    "from sklearn.svm import SVR\n",
    "from sklearn.grid_search import GridSearchCV\n",
    "from sklearn.learning_curve import learning_curve\n",
    "from sklearn.kernel_ridge import KernelRidge"
   ]
  },
  {
   "cell_type": "code",
   "execution_count": 21,
   "metadata": {
    "collapsed": false
   },
   "outputs": [],
   "source": [
    "def SVR_res(train_x, test_x, train_y, test_y):\n",
    "    \n",
    "    \"\"\"k=['rbf', 'linear','poly','sigmoid','precomputed']\n",
    "    c= [1e-3, 1e0, 1e1, 1e2, 1e3]\n",
    "    g=np.arange(1e-4,1e-2,0.0001)\n",
    "    g=g.tolist()\n",
    "    param_grid1=dict(kernel=k, C=c, gamma=g)  \n",
    "    grid = GridSearchCV(SVR(), cv=5,param_grid=param_grid1,)\n",
    "    grid.fit(train_x, train_y)   \n",
    "    params = list(grid.best_params_.values())\n",
    "    TunedSVR = SVR(kernel=params[0], C=params[1], gamma=params[2])\n",
    "    TunedSVR.fit(train_x, train_y)\"\"\"\n",
    "    TunedSVR = SVR(kernel='rbf', C=1, gamma=0.10000001)\n",
    "    TunedSVR.fit(train_x, train_y)\n",
    "    editedPredict = TunedSVR.predict(test_x)\n",
    "    editedPredict = editedPredict.clip(min=0)\n",
    "    editedPredict = editedPredict.clip(max=1)\n",
    "    print(\"SVR MSE:\", mean_squared_error(test_y, editedPredict))\n",
    "    print(\"netmhc MSE:\", mse_netmhc)\n",
    "    print(\"netmhcpan MSE:\", mse_netmhcpan)\n",
    "    print(\"smmpmbec_cpp MSE:\", mse_smmpmbec_cpp)\n",
    "    plt.plot(editedPredict, test_y, 'ro')"
   ]
  },
  {
   "cell_type": "code",
   "execution_count": 22,
   "metadata": {
    "collapsed": false
   },
   "outputs": [],
   "source": [
    "random_number = 53\n",
    "X_train, X_test, y_train, y_test = train_test_split(selected_X, selected_y[\"meas\"],\n",
    "                                                test_size = 0.33, random_state = random_number)\n"
   ]
  },
  {
   "cell_type": "code",
   "execution_count": 23,
   "metadata": {
    "collapsed": false
   },
   "outputs": [
    {
     "name": "stdout",
     "output_type": "stream",
     "text": [
      "SVR MSE: 0.0377751002332\n",
      "netmhc MSE: 0.0289021865583\n",
      "netmhcpan MSE: 0.0289280856635\n",
      "smmpmbec_cpp MSE: 0.0331315186522\n"
     ]
    },
    {
     "data": {
      "image/png": "[encoded data removed]",
      "text/plain": [
       "<matplotlib.figure.Figure at 0x1efe35e64e0>"
      ]
     },
     "metadata": {},
     "output_type": "display_data"
    }
   ],
   "source": [
    "SVR_res(X_train, X_test, y_train, y_test)"
   ]
  },
  {
   "cell_type": "code",
   "execution_count": null,
   "metadata": {
    "collapsed": false
   },
   "outputs": [],
   "source": []
  },
  {
   "cell_type": "code",
   "execution_count": null,
   "metadata": {
    "collapsed": false
   },
   "outputs": [],
   "source": []
  },
  {
   "cell_type": "code",
   "execution_count": null,
   "metadata": {
    "collapsed": false
   },
   "outputs": [],
   "source": []
  },
  {
   "cell_type": "code",
   "execution_count": null,
   "metadata": {
    "collapsed": false
   },
   "outputs": [],
   "source": []
  },
  {
   "cell_type": "code",
   "execution_count": null,
   "metadata": {
    "collapsed": false
   },
   "outputs": [],
   "source": []
  },
  {
   "cell_type": "code",
   "execution_count": null,
   "metadata": {
    "collapsed": false
   },
   "outputs": [],
   "source": []
  },
  {
   "cell_type": "markdown",
   "metadata": {},
   "source": [
    "## Kidera features"
   ]
  },
  {
   "cell_type": "code",
   "execution_count": 24,
   "metadata": {
    "collapsed": false
   },
   "outputs": [],
   "source": [
    "amino=pd.read_csv(\"acids.csv\", sep=\" \", index_col=False)\n",
    "d = amino.to_dict(orient='list')\n",
    "kidera_selected = selected_X.copy(deep=True)\n",
    "f = ['f1','f2','f3','f4','f5','f6','f7','f8','f9','f10']\n",
    " \n",
    "def kidera(pept):\n",
    "    seq = list(pept)\n",
    "    dim = len(seq)\n",
    "    kidera = [0]*10\n",
    "    for i in range(10):\n",
    "        kidera[i] = [0]*dim\n",
    "       \n",
    "    for k in range(dim):\n",
    "        for i in range(20):\n",
    "            if seq[k] == d['amino'][i]:\n",
    "                for j in range(10):\n",
    "                    kidera[j][k] = d[f[j]][i]\n",
    "   \n",
    "    for i in range(10):\n",
    "        kidera[i] = sum(kidera[i])/len(kidera[i])\n",
    "   \n",
    "    return kidera"
   ]
  },
  {
   "cell_type": "code",
   "execution_count": 25,
   "metadata": {
    "collapsed": false
   },
   "outputs": [],
   "source": [
    "for i,fact in enumerate(f): \n",
    "    data[fact]=[round(kidera(j)[i], 3) for j in data['sequence']]\n",
    "    kidera_selected[fact] = pd.DataFrame(data[fact][indexes]).reset_index(drop=True)"
   ]
  },
  {
   "cell_type": "markdown",
   "metadata": {
    "collapsed": false
   },
   "source": [
    "## SVR. 1Hot + Kidera"
   ]
  },
  {
   "cell_type": "code",
   "execution_count": 26,
   "metadata": {
    "collapsed": false
   },
   "outputs": [],
   "source": [
    "random_number = 53\n",
    "X_train, X_test, y_train, y_test = train_test_split(kidera_selected, selected_y[\"meas\"],\n",
    "                                                test_size = 0.33, random_state = random_number)\n"
   ]
  },
  {
   "cell_type": "code",
   "execution_count": 27,
   "metadata": {
    "collapsed": false
   },
   "outputs": [
    {
     "name": "stdout",
     "output_type": "stream",
     "text": [
      "SVR MSE: 0.0374757953207\n",
      "netmhc MSE: 0.0289021865583\n",
      "netmhcpan MSE: 0.0289280856635\n",
      "smmpmbec_cpp MSE: 0.0331315186522\n"
     ]
    },
    {
     "data": {
      "image/png": "[encoded data removed]",
      "text/plain": [
       "<matplotlib.figure.Figure at 0x1efe3811cc0>"
      ]
     },
     "metadata": {},
     "output_type": "display_data"
    }
   ],
   "source": [
    "SVR_res(X_train, X_test, y_train, y_test)"
   ]
  },
  {
   "cell_type": "markdown",
   "metadata": {},
   "source": [
    "## SVR. Kidera"
   ]
  },
  {
   "cell_type": "code",
   "execution_count": 28,
   "metadata": {
    "collapsed": true
   },
   "outputs": [],
   "source": [
    "kidera_only = kidera_selected[kidera_selected.columns[len(kidera_selected.columns)-14:len(kidera_selected.columns)]]"
   ]
  },
  {
   "cell_type": "code",
   "execution_count": 29,
   "metadata": {
    "collapsed": false
   },
   "outputs": [],
   "source": [
    "random_number = 53\n",
    "X_train, X_test, y_train, y_test = train_test_split(kidera_only, selected_y[\"meas\"],\n",
    "                                                test_size = 0.33, random_state = random_number)\n"
   ]
  },
  {
   "cell_type": "code",
   "execution_count": 30,
   "metadata": {
    "collapsed": false
   },
   "outputs": [
    {
     "name": "stdout",
     "output_type": "stream",
     "text": [
      "SVR MSE: 0.0753159901687\n",
      "netmhc MSE: 0.0289021865583\n",
      "netmhcpan MSE: 0.0289280856635\n",
      "smmpmbec_cpp MSE: 0.0331315186522\n"
     ]
    },
    {
     "data": {
      "image/png": "[encoded data removed]",
      "text/plain": [
       "<matplotlib.figure.Figure at 0x1efe37fdba8>"
      ]
     },
     "metadata": {},
     "output_type": "display_data"
    }
   ],
   "source": [
    "SVR_res(X_train, X_test, y_train, y_test)"
   ]
  },
  {
   "cell_type": "code",
   "execution_count": 31,
   "metadata": {
    "collapsed": true
   },
   "outputs": [],
   "source": [
    "#kidera sucks"
   ]
  },
  {
   "cell_type": "markdown",
   "metadata": {},
   "source": [
    "## Word2Vec"
   ]
  },
  {
   "cell_type": "code",
   "execution_count": 81,
   "metadata": {
    "collapsed": true
   },
   "outputs": [],
   "source": [
    "import math\n",
    "\n",
    "def log_(num):\n",
    "    return 1-math.log(num,50000)"
   ]
  },
  {
   "cell_type": "code",
   "execution_count": 84,
   "metadata": {
    "collapsed": false
   },
   "outputs": [],
   "source": [
    "Merged_data = pd.read_csv(\"Merged.csv\")\n",
    "Merged_data.drop([\"Unnamed: 0\"], inplace=True, axis=1)"
   ]
  },
  {
   "cell_type": "code",
   "execution_count": 83,
   "metadata": {
    "collapsed": false
   },
   "outputs": [],
   "source": []
  },
  {
   "cell_type": "code",
   "execution_count": 38,
   "metadata": {
    "collapsed": false
   },
   "outputs": [],
   "source": []
  },
  {
   "cell_type": "code",
   "execution_count": 85,
   "metadata": {
    "collapsed": false
   },
   "outputs": [],
   "source": [
    "BData = pd.read_csv(\"bdata.csv\", sep=\",\")"
   ]
  },
  {
   "cell_type": "code",
   "execution_count": 69,
   "metadata": {
    "collapsed": false
   },
   "outputs": [],
   "source": [
    "#BData[BData[\"peptide_length\"]==9][\"species\"]"
   ]
  },
  {
   "cell_type": "code",
   "execution_count": 60,
   "metadata": {
    "collapsed": false
   },
   "outputs": [
    {
     "data": {
      "text/html": [
       "<div>\n",
       "<table border=\"1\" class=\"dataframe\">\n",
       "  <thead>\n",
       "    <tr style=\"text-align: right;\">\n",
       "      <th></th>\n",
       "      <th>sequence</th>\n",
       "      <th>length</th>\n",
       "      <th>meas</th>\n",
       "      <th>netmhc</th>\n",
       "      <th>netmhcpan</th>\n",
       "      <th>smmpmbec_cpp</th>\n",
       "    </tr>\n",
       "  </thead>\n",
       "  <tbody>\n",
       "    <tr>\n",
       "      <th>27661</th>\n",
       "      <td>YTAFTLPSVN</td>\n",
       "      <td>10</td>\n",
       "      <td>2529.297996</td>\n",
       "      <td>236.591970</td>\n",
       "      <td>1406.047524</td>\n",
       "      <td>14.487719</td>\n",
       "    </tr>\n",
       "    <tr>\n",
       "      <th>27662</th>\n",
       "      <td>YTDGSCNKQS</td>\n",
       "      <td>10</td>\n",
       "      <td>11091.748153</td>\n",
       "      <td>4345.102242</td>\n",
       "      <td>11246.049740</td>\n",
       "      <td>588.843655</td>\n",
       "    </tr>\n",
       "    <tr>\n",
       "      <th>27667</th>\n",
       "      <td>YTSGPGIRYP</td>\n",
       "      <td>10</td>\n",
       "      <td>7128.530301</td>\n",
       "      <td>783.429643</td>\n",
       "      <td>5176.068320</td>\n",
       "      <td>1270.574105</td>\n",
       "    </tr>\n",
       "    <tr>\n",
       "      <th>27668</th>\n",
       "      <td>YTSGPGTRYP</td>\n",
       "      <td>10</td>\n",
       "      <td>3097.419299</td>\n",
       "      <td>483.058802</td>\n",
       "      <td>5420.008904</td>\n",
       "      <td>797.994687</td>\n",
       "    </tr>\n",
       "    <tr>\n",
       "      <th>27673</th>\n",
       "      <td>YTYEAYVRYP</td>\n",
       "      <td>10</td>\n",
       "      <td>2624.218543</td>\n",
       "      <td>1552.387010</td>\n",
       "      <td>3872.576449</td>\n",
       "      <td>1954.339456</td>\n",
       "    </tr>\n",
       "  </tbody>\n",
       "</table>\n",
       "</div>"
      ],
      "text/plain": [
       "         sequence  length          meas       netmhc     netmhcpan  \\\n",
       "27661  YTAFTLPSVN      10   2529.297996   236.591970   1406.047524   \n",
       "27662  YTDGSCNKQS      10  11091.748153  4345.102242  11246.049740   \n",
       "27667  YTSGPGIRYP      10   7128.530301   783.429643   5176.068320   \n",
       "27668  YTSGPGTRYP      10   3097.419299   483.058802   5420.008904   \n",
       "27673  YTYEAYVRYP      10   2624.218543  1552.387010   3872.576449   \n",
       "\n",
       "       smmpmbec_cpp  \n",
       "27661     14.487719  \n",
       "27662    588.843655  \n",
       "27667   1270.574105  \n",
       "27668    797.994687  \n",
       "27673   1954.339456  "
      ]
     },
     "execution_count": 60,
     "metadata": {},
     "output_type": "execute_result"
    }
   ],
   "source": [
    "Merged_data[Merged_data[\"length\"]==10].tail()"
   ]
  },
  {
   "cell_type": "code",
   "execution_count": 134,
   "metadata": {
    "collapsed": false
   },
   "outputs": [
    {
     "data": {
      "text/plain": [
       "0       ALFYKDGKL\n",
       "1       ALYEKKLAL\n",
       "2       AMKDRFQPL\n",
       "3       AQRELFFTL\n",
       "4       FMKVKFEAL\n",
       "5       FQHERLGQF\n",
       "6       FQRAIMNAM\n",
       "7       GQFLSFASL\n",
       "8       GQFNRYAAM\n",
       "9       ILNHKFCNL\n",
       "10      IMALKQAGL\n",
       "11      IQYDRRSFF\n",
       "12      IQYVIRAQL\n",
       "13      KMNAKAATL\n",
       "14      KQFCLSILL\n",
       "15      KQIPIWLPL\n",
       "16      KQLELFWVI\n",
       "18      LLRRRPYPL\n",
       "19      LQLARDGMF\n",
       "20      LQYAIRSVF\n",
       "21      MLKRRGFHL\n",
       "22      MSRRRIYVL\n",
       "23      RARQKGCTL\n",
       "24      RARRHLAAL\n",
       "25      RIHDIAVQL\n",
       "26      RIYRKGNPL\n",
       "27      RLARRARNI\n",
       "28      RLKHIFLIF\n",
       "29      RLRRRRHPL\n",
       "30      RMAMIPRTL\n",
       "          ...    \n",
       "2094    LALMDLLMF\n",
       "2095    LALVAAFAL\n",
       "2096    LAMATMDLI\n",
       "2097    LAMSNELHL\n",
       "2098    LAMSPRTSI\n",
       "2099    LANDYARKI\n",
       "2100    LANLNIHTI\n",
       "2101    LANSHQRSD\n",
       "2102    LAPGSGVPV\n",
       "2103    LAPHFAKLI\n",
       "2104    LAPNNVSEL\n",
       "2105    LAPVNFDAL\n",
       "2106    LAPVPKTPL\n",
       "2107    LARFNPDAV\n",
       "2108    LASANRDVL\n",
       "2110    LAVAGVTLV\n",
       "2111    LAVTIMAIL\n",
       "2112    LAVVLWSLL\n",
       "2113    LAVVSVSPL\n",
       "2114    LAVVTLLAI\n",
       "2115    LDSQNRKDI\n",
       "2116    LDYLRQAGL\n",
       "2117    LDYVNLEAV\n",
       "2118    LECFVRSSP\n",
       "2120    LFKLLEYSN\n",
       "2121    LFNRDKTEA\n",
       "2122    LFSDLANSH\n",
       "2123    LGKGFASLM\n",
       "2124    LGLSNKLPV\n",
       "2125    LGNLFLHRF\n",
       "Name: sequence, dtype: object"
      ]
     },
     "execution_count": 134,
     "metadata": {},
     "output_type": "execute_result"
    }
   ],
   "source": [
    "cur_indexes = BData[BData[\"mhc\"] == \"HLA-C*12:03\"].index\n",
    "df=BData[\"sequence\"][indexes]\n"
   ]
  },
  {
   "cell_type": "code",
   "execution_count": 93,
   "metadata": {
    "collapsed": false
   },
   "outputs": [
    {
     "data": {
      "text/html": [
       "<div>\n",
       "<table border=\"1\" class=\"dataframe\">\n",
       "  <thead>\n",
       "    <tr style=\"text-align: right;\">\n",
       "      <th></th>\n",
       "      <th>species</th>\n",
       "      <th>mhc</th>\n",
       "      <th>peptide_length</th>\n",
       "      <th>cv</th>\n",
       "      <th>sequence</th>\n",
       "      <th>inequality</th>\n",
       "      <th>meas</th>\n",
       "    </tr>\n",
       "  </thead>\n",
       "  <tbody>\n",
       "    <tr>\n",
       "      <th>179687</th>\n",
       "      <td>human</td>\n",
       "      <td>HLA-C*12:03</td>\n",
       "      <td>9</td>\n",
       "      <td>TBD</td>\n",
       "      <td>IMDEPTSSL</td>\n",
       "      <td>=</td>\n",
       "      <td>1.0</td>\n",
       "    </tr>\n",
       "    <tr>\n",
       "      <th>179688</th>\n",
       "      <td>human</td>\n",
       "      <td>HLA-C*12:03</td>\n",
       "      <td>9</td>\n",
       "      <td>TBD</td>\n",
       "      <td>DAMPGVLSY</td>\n",
       "      <td>=</td>\n",
       "      <td>1.0</td>\n",
       "    </tr>\n",
       "    <tr>\n",
       "      <th>179689</th>\n",
       "      <td>human</td>\n",
       "      <td>HLA-C*12:03</td>\n",
       "      <td>9</td>\n",
       "      <td>TBD</td>\n",
       "      <td>YYFQSGNEI</td>\n",
       "      <td>=</td>\n",
       "      <td>1.0</td>\n",
       "    </tr>\n",
       "    <tr>\n",
       "      <th>179690</th>\n",
       "      <td>human</td>\n",
       "      <td>HLA-C*12:03</td>\n",
       "      <td>9</td>\n",
       "      <td>TBD</td>\n",
       "      <td>LMDENTYAM</td>\n",
       "      <td>=</td>\n",
       "      <td>1.0</td>\n",
       "    </tr>\n",
       "    <tr>\n",
       "      <th>179691</th>\n",
       "      <td>human</td>\n",
       "      <td>HLA-C*12:03</td>\n",
       "      <td>9</td>\n",
       "      <td>TBD</td>\n",
       "      <td>FAAFYFVFI</td>\n",
       "      <td>=</td>\n",
       "      <td>1.0</td>\n",
       "    </tr>\n",
       "  </tbody>\n",
       "</table>\n",
       "</div>"
      ],
      "text/plain": [
       "       species          mhc  peptide_length   cv   sequence inequality  meas\n",
       "179687   human  HLA-C*12:03               9  TBD  IMDEPTSSL          =   1.0\n",
       "179688   human  HLA-C*12:03               9  TBD  DAMPGVLSY          =   1.0\n",
       "179689   human  HLA-C*12:03               9  TBD  YYFQSGNEI          =   1.0\n",
       "179690   human  HLA-C*12:03               9  TBD  LMDENTYAM          =   1.0\n",
       "179691   human  HLA-C*12:03               9  TBD  FAAFYFVFI          =   1.0"
      ]
     },
     "execution_count": 93,
     "metadata": {},
     "output_type": "execute_result"
    }
   ],
   "source": [
    "human = BData[BData[\"species\"]==\"human\"]\n",
    "human.tail()"
   ]
  },
  {
   "cell_type": "code",
   "execution_count": 114,
   "metadata": {
    "collapsed": false
   },
   "outputs": [],
   "source": [
    "import os\n",
    "import glob\n",
    "\n",
    "def get_csv_by_mhc(name):\n",
    "    path = \"C:/Users/Lev/.babun/cygwin/home/Lev/mhcflurry/experiments/combined-test-data/mhc/for_merge\"\n",
    "    cur_name = name[-5:len(name)].replace(\":\", \"\")\n",
    "    cur_csv = pd.DataFrame(\"A\" + name)"
   ]
  },
  {
   "cell_type": "code",
   "execution_count": 117,
   "metadata": {
    "collapsed": false
   },
   "outputs": [],
   "source": [
    "\n",
    "#your path to folder with .csv files\n"
   ]
  },
  {
   "cell_type": "code",
   "execution_count": 136,
   "metadata": {
    "collapsed": false,
    "scrolled": true
   },
   "outputs": [],
   "source": [
    "unique_peptides=pd.DataFrame(columns=BData.columns)"
   ]
  },
  {
   "cell_type": "code",
   "execution_count": 141,
   "metadata": {
    "collapsed": false
   },
   "outputs": [],
   "source": [
    "path = \"C:/Users/Lev/.babun/cygwin/home/Lev/mhcflurry/experiments/combined-test-data/mhc/for_merge\"\n",
    "allfiles = glob.glob(os.path.join(path,\"*.csv\"))\n",
    "mhc_ = pd.unique(BData[\"mhc\"].values.ravel())\n",
    "for file_ in allfiles:\n",
    "    mhc_df = pd.read_csv(file_,index_col=None, header=0)\n",
    "    cur_mhc_df = BData[BData[\"mhc\"] == mhc_[i]]\n",
    "    unique_peptides=pd.concat([cur_mhc_df[~cur_mhc_df.sequence.isin(mhc_df.sequence)]]) \n",
    "    "
   ]
  },
  {
   "cell_type": "code",
   "execution_count": null,
   "metadata": {
    "collapsed": false
   },
   "outputs": [],
   "source": []
  },
  {
   "cell_type": "code",
   "execution_count": 142,
   "metadata": {
    "collapsed": true
   },
   "outputs": [],
   "source": [
    "unique_peptides.to_csv(\"C:/Users/Lev/.babun/cygwin/home/Lev/mhcflurry/experiments/combined-test-data/mhc/unique_peptides.csv\")"
   ]
  },
  {
   "cell_type": "code",
   "execution_count": 126,
   "metadata": {
    "collapsed": false
   },
   "outputs": [
    {
     "data": {
      "text/plain": [
       "174163"
      ]
     },
     "execution_count": 126,
     "metadata": {},
     "output_type": "execute_result"
    }
   ],
   "source": [
    "len(dict(unique_peptides[\"sequence\"]))"
   ]
  },
  {
   "cell_type": "code",
   "execution_count": 128,
   "metadata": {
    "collapsed": false
   },
   "outputs": [
    {
     "data": {
      "text/plain": [
       "42062"
      ]
     },
     "execution_count": 128,
     "metadata": {},
     "output_type": "execute_result"
    }
   ],
   "source": [
    "len(pd.unique(unique_peptides[\"sequence\"].values.ravel()))"
   ]
  },
  {
   "cell_type": "code",
   "execution_count": 129,
   "metadata": {
    "collapsed": true
   },
   "outputs": [],
   "source": [
    "ex=BData.tail()[~BData.tail().sequence.isin(df.tail().sequence)]"
   ]
  },
  {
   "cell_type": "code",
   "execution_count": 135,
   "metadata": {
    "collapsed": false
   },
   "outputs": [
    {
     "data": {
      "text/html": [
       "<div>\n",
       "<table border=\"1\" class=\"dataframe\">\n",
       "  <thead>\n",
       "    <tr style=\"text-align: right;\">\n",
       "      <th></th>\n",
       "      <th>species</th>\n",
       "      <th>mhc</th>\n",
       "      <th>peptide_length</th>\n",
       "      <th>cv</th>\n",
       "      <th>sequence</th>\n",
       "      <th>inequality</th>\n",
       "      <th>meas</th>\n",
       "    </tr>\n",
       "  </thead>\n",
       "  <tbody>\n",
       "    <tr>\n",
       "      <th>0</th>\n",
       "      <td>cow</td>\n",
       "      <td>BoLA-HD6</td>\n",
       "      <td>9</td>\n",
       "      <td>TBD</td>\n",
       "      <td>ALFYKDGKL</td>\n",
       "      <td>=</td>\n",
       "      <td>1.000000</td>\n",
       "    </tr>\n",
       "    <tr>\n",
       "      <th>1</th>\n",
       "      <td>cow</td>\n",
       "      <td>BoLA-HD6</td>\n",
       "      <td>9</td>\n",
       "      <td>TBD</td>\n",
       "      <td>ALYEKKLAL</td>\n",
       "      <td>=</td>\n",
       "      <td>1.000000</td>\n",
       "    </tr>\n",
       "    <tr>\n",
       "      <th>2</th>\n",
       "      <td>cow</td>\n",
       "      <td>BoLA-HD6</td>\n",
       "      <td>9</td>\n",
       "      <td>TBD</td>\n",
       "      <td>AMKDRFQPL</td>\n",
       "      <td>=</td>\n",
       "      <td>4.521706</td>\n",
       "    </tr>\n",
       "    <tr>\n",
       "      <th>3</th>\n",
       "      <td>cow</td>\n",
       "      <td>BoLA-HD6</td>\n",
       "      <td>9</td>\n",
       "      <td>TBD</td>\n",
       "      <td>AQRELFFTL</td>\n",
       "      <td>=</td>\n",
       "      <td>1.000000</td>\n",
       "    </tr>\n",
       "    <tr>\n",
       "      <th>4</th>\n",
       "      <td>cow</td>\n",
       "      <td>BoLA-HD6</td>\n",
       "      <td>9</td>\n",
       "      <td>TBD</td>\n",
       "      <td>FMKVKFEAL</td>\n",
       "      <td>=</td>\n",
       "      <td>1.576747</td>\n",
       "    </tr>\n",
       "    <tr>\n",
       "      <th>5</th>\n",
       "      <td>cow</td>\n",
       "      <td>BoLA-HD6</td>\n",
       "      <td>9</td>\n",
       "      <td>TBD</td>\n",
       "      <td>FQHERLGQF</td>\n",
       "      <td>=</td>\n",
       "      <td>1.000000</td>\n",
       "    </tr>\n",
       "    <tr>\n",
       "      <th>6</th>\n",
       "      <td>cow</td>\n",
       "      <td>BoLA-HD6</td>\n",
       "      <td>9</td>\n",
       "      <td>TBD</td>\n",
       "      <td>FQRAIMNAM</td>\n",
       "      <td>=</td>\n",
       "      <td>1.000000</td>\n",
       "    </tr>\n",
       "    <tr>\n",
       "      <th>7</th>\n",
       "      <td>cow</td>\n",
       "      <td>BoLA-HD6</td>\n",
       "      <td>9</td>\n",
       "      <td>TBD</td>\n",
       "      <td>GQFLSFASL</td>\n",
       "      <td>=</td>\n",
       "      <td>1.000000</td>\n",
       "    </tr>\n",
       "    <tr>\n",
       "      <th>8</th>\n",
       "      <td>cow</td>\n",
       "      <td>BoLA-HD6</td>\n",
       "      <td>9</td>\n",
       "      <td>TBD</td>\n",
       "      <td>GQFNRYAAM</td>\n",
       "      <td>=</td>\n",
       "      <td>1.000000</td>\n",
       "    </tr>\n",
       "    <tr>\n",
       "      <th>9</th>\n",
       "      <td>cow</td>\n",
       "      <td>BoLA-HD6</td>\n",
       "      <td>9</td>\n",
       "      <td>TBD</td>\n",
       "      <td>ILNHKFCNL</td>\n",
       "      <td>=</td>\n",
       "      <td>1.000000</td>\n",
       "    </tr>\n",
       "    <tr>\n",
       "      <th>10</th>\n",
       "      <td>cow</td>\n",
       "      <td>BoLA-HD6</td>\n",
       "      <td>9</td>\n",
       "      <td>TBD</td>\n",
       "      <td>IMALKQAGL</td>\n",
       "      <td>=</td>\n",
       "      <td>1.000000</td>\n",
       "    </tr>\n",
       "    <tr>\n",
       "      <th>11</th>\n",
       "      <td>cow</td>\n",
       "      <td>BoLA-HD6</td>\n",
       "      <td>9</td>\n",
       "      <td>TBD</td>\n",
       "      <td>IQYDRRSFF</td>\n",
       "      <td>=</td>\n",
       "      <td>1.000000</td>\n",
       "    </tr>\n",
       "    <tr>\n",
       "      <th>12</th>\n",
       "      <td>cow</td>\n",
       "      <td>BoLA-HD6</td>\n",
       "      <td>9</td>\n",
       "      <td>TBD</td>\n",
       "      <td>IQYVIRAQL</td>\n",
       "      <td>=</td>\n",
       "      <td>1.000000</td>\n",
       "    </tr>\n",
       "    <tr>\n",
       "      <th>13</th>\n",
       "      <td>cow</td>\n",
       "      <td>BoLA-HD6</td>\n",
       "      <td>9</td>\n",
       "      <td>TBD</td>\n",
       "      <td>KMNAKAATL</td>\n",
       "      <td>=</td>\n",
       "      <td>1.000000</td>\n",
       "    </tr>\n",
       "    <tr>\n",
       "      <th>14</th>\n",
       "      <td>cow</td>\n",
       "      <td>BoLA-HD6</td>\n",
       "      <td>9</td>\n",
       "      <td>TBD</td>\n",
       "      <td>KQFCLSILL</td>\n",
       "      <td>=</td>\n",
       "      <td>1.000000</td>\n",
       "    </tr>\n",
       "    <tr>\n",
       "      <th>15</th>\n",
       "      <td>cow</td>\n",
       "      <td>BoLA-HD6</td>\n",
       "      <td>9</td>\n",
       "      <td>TBD</td>\n",
       "      <td>KQIPIWLPL</td>\n",
       "      <td>=</td>\n",
       "      <td>1.000000</td>\n",
       "    </tr>\n",
       "    <tr>\n",
       "      <th>16</th>\n",
       "      <td>cow</td>\n",
       "      <td>BoLA-HD6</td>\n",
       "      <td>9</td>\n",
       "      <td>TBD</td>\n",
       "      <td>KQLELFWVI</td>\n",
       "      <td>=</td>\n",
       "      <td>1.000000</td>\n",
       "    </tr>\n",
       "    <tr>\n",
       "      <th>17</th>\n",
       "      <td>cow</td>\n",
       "      <td>BoLA-HD6</td>\n",
       "      <td>9</td>\n",
       "      <td>TBD</td>\n",
       "      <td>KQRCALPSL</td>\n",
       "      <td>=</td>\n",
       "      <td>1.000000</td>\n",
       "    </tr>\n",
       "    <tr>\n",
       "      <th>18</th>\n",
       "      <td>cow</td>\n",
       "      <td>BoLA-HD6</td>\n",
       "      <td>9</td>\n",
       "      <td>TBD</td>\n",
       "      <td>LLRRRPYPL</td>\n",
       "      <td>=</td>\n",
       "      <td>4.865762</td>\n",
       "    </tr>\n",
       "    <tr>\n",
       "      <th>19</th>\n",
       "      <td>cow</td>\n",
       "      <td>BoLA-HD6</td>\n",
       "      <td>9</td>\n",
       "      <td>TBD</td>\n",
       "      <td>LQLARDGMF</td>\n",
       "      <td>=</td>\n",
       "      <td>1.000000</td>\n",
       "    </tr>\n",
       "    <tr>\n",
       "      <th>20</th>\n",
       "      <td>cow</td>\n",
       "      <td>BoLA-HD6</td>\n",
       "      <td>9</td>\n",
       "      <td>TBD</td>\n",
       "      <td>LQYAIRSVF</td>\n",
       "      <td>=</td>\n",
       "      <td>3.659306</td>\n",
       "    </tr>\n",
       "    <tr>\n",
       "      <th>21</th>\n",
       "      <td>cow</td>\n",
       "      <td>BoLA-HD6</td>\n",
       "      <td>9</td>\n",
       "      <td>TBD</td>\n",
       "      <td>MLKRRGFHL</td>\n",
       "      <td>=</td>\n",
       "      <td>5.000000</td>\n",
       "    </tr>\n",
       "    <tr>\n",
       "      <th>22</th>\n",
       "      <td>cow</td>\n",
       "      <td>BoLA-HD6</td>\n",
       "      <td>9</td>\n",
       "      <td>TBD</td>\n",
       "      <td>MSRRRIYVL</td>\n",
       "      <td>=</td>\n",
       "      <td>1.000000</td>\n",
       "    </tr>\n",
       "    <tr>\n",
       "      <th>23</th>\n",
       "      <td>cow</td>\n",
       "      <td>BoLA-HD6</td>\n",
       "      <td>9</td>\n",
       "      <td>TBD</td>\n",
       "      <td>RARQKGCTL</td>\n",
       "      <td>=</td>\n",
       "      <td>4.797945</td>\n",
       "    </tr>\n",
       "    <tr>\n",
       "      <th>24</th>\n",
       "      <td>cow</td>\n",
       "      <td>BoLA-HD6</td>\n",
       "      <td>9</td>\n",
       "      <td>TBD</td>\n",
       "      <td>RARRHLAAL</td>\n",
       "      <td>=</td>\n",
       "      <td>1.000000</td>\n",
       "    </tr>\n",
       "    <tr>\n",
       "      <th>25</th>\n",
       "      <td>cow</td>\n",
       "      <td>BoLA-HD6</td>\n",
       "      <td>9</td>\n",
       "      <td>TBD</td>\n",
       "      <td>RIHDIAVQL</td>\n",
       "      <td>=</td>\n",
       "      <td>1.000000</td>\n",
       "    </tr>\n",
       "    <tr>\n",
       "      <th>26</th>\n",
       "      <td>cow</td>\n",
       "      <td>BoLA-HD6</td>\n",
       "      <td>9</td>\n",
       "      <td>TBD</td>\n",
       "      <td>RIYRKGNPL</td>\n",
       "      <td>=</td>\n",
       "      <td>1.000000</td>\n",
       "    </tr>\n",
       "    <tr>\n",
       "      <th>27</th>\n",
       "      <td>cow</td>\n",
       "      <td>BoLA-HD6</td>\n",
       "      <td>9</td>\n",
       "      <td>TBD</td>\n",
       "      <td>RLARRARNI</td>\n",
       "      <td>=</td>\n",
       "      <td>1.000000</td>\n",
       "    </tr>\n",
       "    <tr>\n",
       "      <th>28</th>\n",
       "      <td>cow</td>\n",
       "      <td>BoLA-HD6</td>\n",
       "      <td>9</td>\n",
       "      <td>TBD</td>\n",
       "      <td>RLKHIFLIF</td>\n",
       "      <td>=</td>\n",
       "      <td>2.796509</td>\n",
       "    </tr>\n",
       "    <tr>\n",
       "      <th>29</th>\n",
       "      <td>cow</td>\n",
       "      <td>BoLA-HD6</td>\n",
       "      <td>9</td>\n",
       "      <td>TBD</td>\n",
       "      <td>RLRRRRHPL</td>\n",
       "      <td>=</td>\n",
       "      <td>1.000000</td>\n",
       "    </tr>\n",
       "    <tr>\n",
       "      <th>...</th>\n",
       "      <td>...</td>\n",
       "      <td>...</td>\n",
       "      <td>...</td>\n",
       "      <td>...</td>\n",
       "      <td>...</td>\n",
       "      <td>...</td>\n",
       "      <td>...</td>\n",
       "    </tr>\n",
       "    <tr>\n",
       "      <th>179662</th>\n",
       "      <td>human</td>\n",
       "      <td>HLA-B*81:01</td>\n",
       "      <td>9</td>\n",
       "      <td>TBD</td>\n",
       "      <td>FPVTPQVPL</td>\n",
       "      <td>=</td>\n",
       "      <td>2.999987</td>\n",
       "    </tr>\n",
       "    <tr>\n",
       "      <th>179663</th>\n",
       "      <td>human</td>\n",
       "      <td>HLA-B*81:01</td>\n",
       "      <td>9</td>\n",
       "      <td>TBD</td>\n",
       "      <td>RPMTYKAAL</td>\n",
       "      <td>=</td>\n",
       "      <td>2.999987</td>\n",
       "    </tr>\n",
       "    <tr>\n",
       "      <th>179664</th>\n",
       "      <td>human</td>\n",
       "      <td>HLA-B*81:01</td>\n",
       "      <td>9</td>\n",
       "      <td>TBD</td>\n",
       "      <td>TPGDLNTML</td>\n",
       "      <td>=</td>\n",
       "      <td>223.999080</td>\n",
       "    </tr>\n",
       "    <tr>\n",
       "      <th>179665</th>\n",
       "      <td>human</td>\n",
       "      <td>HLA-B*81:01</td>\n",
       "      <td>9</td>\n",
       "      <td>TBD</td>\n",
       "      <td>RPGGKKQYM</td>\n",
       "      <td>=</td>\n",
       "      <td>18148.902889</td>\n",
       "    </tr>\n",
       "    <tr>\n",
       "      <th>179666</th>\n",
       "      <td>human</td>\n",
       "      <td>HLA-B*81:01</td>\n",
       "      <td>9</td>\n",
       "      <td>TBD</td>\n",
       "      <td>GPSHKARVL</td>\n",
       "      <td>=</td>\n",
       "      <td>4755.980480</td>\n",
       "    </tr>\n",
       "    <tr>\n",
       "      <th>179667</th>\n",
       "      <td>human</td>\n",
       "      <td>HLA-B*81:01</td>\n",
       "      <td>9</td>\n",
       "      <td>TBD</td>\n",
       "      <td>FPRPWLHGL</td>\n",
       "      <td>=</td>\n",
       "      <td>5.999975</td>\n",
       "    </tr>\n",
       "    <tr>\n",
       "      <th>179668</th>\n",
       "      <td>human</td>\n",
       "      <td>HLA-B*81:01</td>\n",
       "      <td>9</td>\n",
       "      <td>TBD</td>\n",
       "      <td>HPVHAGPIA</td>\n",
       "      <td>=</td>\n",
       "      <td>12870.964412</td>\n",
       "    </tr>\n",
       "    <tr>\n",
       "      <th>179669</th>\n",
       "      <td>human</td>\n",
       "      <td>HLA-B*81:01</td>\n",
       "      <td>9</td>\n",
       "      <td>TBD</td>\n",
       "      <td>RPGGKKKYK</td>\n",
       "      <td>=</td>\n",
       "      <td>19999.923366</td>\n",
       "    </tr>\n",
       "    <tr>\n",
       "      <th>179670</th>\n",
       "      <td>human</td>\n",
       "      <td>HLA-B*81:01</td>\n",
       "      <td>9</td>\n",
       "      <td>TBD</td>\n",
       "      <td>RPQVPLRPM</td>\n",
       "      <td>=</td>\n",
       "      <td>29.000090</td>\n",
       "    </tr>\n",
       "    <tr>\n",
       "      <th>179671</th>\n",
       "      <td>human</td>\n",
       "      <td>HLA-B*81:01</td>\n",
       "      <td>9</td>\n",
       "      <td>TBD</td>\n",
       "      <td>RPGGKKRYM</td>\n",
       "      <td>=</td>\n",
       "      <td>19999.923366</td>\n",
       "    </tr>\n",
       "    <tr>\n",
       "      <th>179672</th>\n",
       "      <td>human</td>\n",
       "      <td>HLA-B*81:01</td>\n",
       "      <td>9</td>\n",
       "      <td>TBD</td>\n",
       "      <td>SPRTLNAWV</td>\n",
       "      <td>=</td>\n",
       "      <td>452.999261</td>\n",
       "    </tr>\n",
       "    <tr>\n",
       "      <th>179673</th>\n",
       "      <td>human</td>\n",
       "      <td>HLA-B*81:01</td>\n",
       "      <td>9</td>\n",
       "      <td>TBD</td>\n",
       "      <td>LPPIVAKEI</td>\n",
       "      <td>=</td>\n",
       "      <td>19999.923366</td>\n",
       "    </tr>\n",
       "    <tr>\n",
       "      <th>179674</th>\n",
       "      <td>human</td>\n",
       "      <td>HLA-B*81:01</td>\n",
       "      <td>9</td>\n",
       "      <td>TBD</td>\n",
       "      <td>TPQDLNSML</td>\n",
       "      <td>=</td>\n",
       "      <td>158.000137</td>\n",
       "    </tr>\n",
       "    <tr>\n",
       "      <th>179675</th>\n",
       "      <td>human</td>\n",
       "      <td>HLA-B*81:01</td>\n",
       "      <td>9</td>\n",
       "      <td>TBD</td>\n",
       "      <td>IPRRIRQGL</td>\n",
       "      <td>=</td>\n",
       "      <td>7.000037</td>\n",
       "    </tr>\n",
       "    <tr>\n",
       "      <th>179676</th>\n",
       "      <td>human</td>\n",
       "      <td>HLA-B*81:01</td>\n",
       "      <td>9</td>\n",
       "      <td>TBD</td>\n",
       "      <td>RPGGKKHYK</td>\n",
       "      <td>=</td>\n",
       "      <td>19999.923366</td>\n",
       "    </tr>\n",
       "    <tr>\n",
       "      <th>179677</th>\n",
       "      <td>human</td>\n",
       "      <td>HLA-B*81:01</td>\n",
       "      <td>9</td>\n",
       "      <td>TBD</td>\n",
       "      <td>RPGGKKHYR</td>\n",
       "      <td>=</td>\n",
       "      <td>19999.923366</td>\n",
       "    </tr>\n",
       "    <tr>\n",
       "      <th>179678</th>\n",
       "      <td>human</td>\n",
       "      <td>HLA-B*81:01</td>\n",
       "      <td>9</td>\n",
       "      <td>TBD</td>\n",
       "      <td>TPQDLNTML</td>\n",
       "      <td>=</td>\n",
       "      <td>282.000394</td>\n",
       "    </tr>\n",
       "    <tr>\n",
       "      <th>179679</th>\n",
       "      <td>human</td>\n",
       "      <td>HLA-B*81:01</td>\n",
       "      <td>9</td>\n",
       "      <td>TBD</td>\n",
       "      <td>GPGHKARVL</td>\n",
       "      <td>=</td>\n",
       "      <td>19999.923366</td>\n",
       "    </tr>\n",
       "    <tr>\n",
       "      <th>179680</th>\n",
       "      <td>human</td>\n",
       "      <td>HLA-B*81:01</td>\n",
       "      <td>9</td>\n",
       "      <td>TBD</td>\n",
       "      <td>IIKDYGKQM</td>\n",
       "      <td>=</td>\n",
       "      <td>19999.923366</td>\n",
       "    </tr>\n",
       "    <tr>\n",
       "      <th>179681</th>\n",
       "      <td>human</td>\n",
       "      <td>HLA-B*81:01</td>\n",
       "      <td>9</td>\n",
       "      <td>TBD</td>\n",
       "      <td>TPEDLNTML</td>\n",
       "      <td>=</td>\n",
       "      <td>1319.993775</td>\n",
       "    </tr>\n",
       "    <tr>\n",
       "      <th>179682</th>\n",
       "      <td>human</td>\n",
       "      <td>HLA-C*12:03</td>\n",
       "      <td>9</td>\n",
       "      <td>TBD</td>\n",
       "      <td>LAFGRTGYV</td>\n",
       "      <td>=</td>\n",
       "      <td>1.000000</td>\n",
       "    </tr>\n",
       "    <tr>\n",
       "      <th>179683</th>\n",
       "      <td>human</td>\n",
       "      <td>HLA-C*12:03</td>\n",
       "      <td>9</td>\n",
       "      <td>TBD</td>\n",
       "      <td>MIYNSFNPY</td>\n",
       "      <td>=</td>\n",
       "      <td>1.000000</td>\n",
       "    </tr>\n",
       "    <tr>\n",
       "      <th>179684</th>\n",
       "      <td>human</td>\n",
       "      <td>HLA-C*12:03</td>\n",
       "      <td>9</td>\n",
       "      <td>TBD</td>\n",
       "      <td>MRYFIGQPL</td>\n",
       "      <td>=</td>\n",
       "      <td>1.000000</td>\n",
       "    </tr>\n",
       "    <tr>\n",
       "      <th>179685</th>\n",
       "      <td>human</td>\n",
       "      <td>HLA-C*12:03</td>\n",
       "      <td>9</td>\n",
       "      <td>TBD</td>\n",
       "      <td>YMPDVLEKL</td>\n",
       "      <td>=</td>\n",
       "      <td>1.000000</td>\n",
       "    </tr>\n",
       "    <tr>\n",
       "      <th>179686</th>\n",
       "      <td>human</td>\n",
       "      <td>HLA-C*12:03</td>\n",
       "      <td>9</td>\n",
       "      <td>TBD</td>\n",
       "      <td>FVDVGVSAL</td>\n",
       "      <td>=</td>\n",
       "      <td>1.000000</td>\n",
       "    </tr>\n",
       "    <tr>\n",
       "      <th>179687</th>\n",
       "      <td>human</td>\n",
       "      <td>HLA-C*12:03</td>\n",
       "      <td>9</td>\n",
       "      <td>TBD</td>\n",
       "      <td>IMDEPTSSL</td>\n",
       "      <td>=</td>\n",
       "      <td>1.000000</td>\n",
       "    </tr>\n",
       "    <tr>\n",
       "      <th>179688</th>\n",
       "      <td>human</td>\n",
       "      <td>HLA-C*12:03</td>\n",
       "      <td>9</td>\n",
       "      <td>TBD</td>\n",
       "      <td>DAMPGVLSY</td>\n",
       "      <td>=</td>\n",
       "      <td>1.000000</td>\n",
       "    </tr>\n",
       "    <tr>\n",
       "      <th>179689</th>\n",
       "      <td>human</td>\n",
       "      <td>HLA-C*12:03</td>\n",
       "      <td>9</td>\n",
       "      <td>TBD</td>\n",
       "      <td>YYFQSGNEI</td>\n",
       "      <td>=</td>\n",
       "      <td>1.000000</td>\n",
       "    </tr>\n",
       "    <tr>\n",
       "      <th>179690</th>\n",
       "      <td>human</td>\n",
       "      <td>HLA-C*12:03</td>\n",
       "      <td>9</td>\n",
       "      <td>TBD</td>\n",
       "      <td>LMDENTYAM</td>\n",
       "      <td>=</td>\n",
       "      <td>1.000000</td>\n",
       "    </tr>\n",
       "    <tr>\n",
       "      <th>179691</th>\n",
       "      <td>human</td>\n",
       "      <td>HLA-C*12:03</td>\n",
       "      <td>9</td>\n",
       "      <td>TBD</td>\n",
       "      <td>FAAFYFVFI</td>\n",
       "      <td>=</td>\n",
       "      <td>1.000000</td>\n",
       "    </tr>\n",
       "  </tbody>\n",
       "</table>\n",
       "<p>179692 rows × 7 columns</p>\n",
       "</div>"
      ],
      "text/plain": [
       "       species          mhc  peptide_length   cv   sequence inequality  \\\n",
       "0          cow     BoLA-HD6               9  TBD  ALFYKDGKL          =   \n",
       "1          cow     BoLA-HD6               9  TBD  ALYEKKLAL          =   \n",
       "2          cow     BoLA-HD6               9  TBD  AMKDRFQPL          =   \n",
       "3          cow     BoLA-HD6               9  TBD  AQRELFFTL          =   \n",
       "4          cow     BoLA-HD6               9  TBD  FMKVKFEAL          =   \n",
       "5          cow     BoLA-HD6               9  TBD  FQHERLGQF          =   \n",
       "6          cow     BoLA-HD6               9  TBD  FQRAIMNAM          =   \n",
       "7          cow     BoLA-HD6               9  TBD  GQFLSFASL          =   \n",
       "8          cow     BoLA-HD6               9  TBD  GQFNRYAAM          =   \n",
       "9          cow     BoLA-HD6               9  TBD  ILNHKFCNL          =   \n",
       "10         cow     BoLA-HD6               9  TBD  IMALKQAGL          =   \n",
       "11         cow     BoLA-HD6               9  TBD  IQYDRRSFF          =   \n",
       "12         cow     BoLA-HD6               9  TBD  IQYVIRAQL          =   \n",
       "13         cow     BoLA-HD6               9  TBD  KMNAKAATL          =   \n",
       "14         cow     BoLA-HD6               9  TBD  KQFCLSILL          =   \n",
       "15         cow     BoLA-HD6               9  TBD  KQIPIWLPL          =   \n",
       "16         cow     BoLA-HD6               9  TBD  KQLELFWVI          =   \n",
       "17         cow     BoLA-HD6               9  TBD  KQRCALPSL          =   \n",
       "18         cow     BoLA-HD6               9  TBD  LLRRRPYPL          =   \n",
       "19         cow     BoLA-HD6               9  TBD  LQLARDGMF          =   \n",
       "20         cow     BoLA-HD6               9  TBD  LQYAIRSVF          =   \n",
       "21         cow     BoLA-HD6               9  TBD  MLKRRGFHL          =   \n",
       "22         cow     BoLA-HD6               9  TBD  MSRRRIYVL          =   \n",
       "23         cow     BoLA-HD6               9  TBD  RARQKGCTL          =   \n",
       "24         cow     BoLA-HD6               9  TBD  RARRHLAAL          =   \n",
       "25         cow     BoLA-HD6               9  TBD  RIHDIAVQL          =   \n",
       "26         cow     BoLA-HD6               9  TBD  RIYRKGNPL          =   \n",
       "27         cow     BoLA-HD6               9  TBD  RLARRARNI          =   \n",
       "28         cow     BoLA-HD6               9  TBD  RLKHIFLIF          =   \n",
       "29         cow     BoLA-HD6               9  TBD  RLRRRRHPL          =   \n",
       "...        ...          ...             ...  ...        ...        ...   \n",
       "179662   human  HLA-B*81:01               9  TBD  FPVTPQVPL          =   \n",
       "179663   human  HLA-B*81:01               9  TBD  RPMTYKAAL          =   \n",
       "179664   human  HLA-B*81:01               9  TBD  TPGDLNTML          =   \n",
       "179665   human  HLA-B*81:01               9  TBD  RPGGKKQYM          =   \n",
       "179666   human  HLA-B*81:01               9  TBD  GPSHKARVL          =   \n",
       "179667   human  HLA-B*81:01               9  TBD  FPRPWLHGL          =   \n",
       "179668   human  HLA-B*81:01               9  TBD  HPVHAGPIA          =   \n",
       "179669   human  HLA-B*81:01               9  TBD  RPGGKKKYK          =   \n",
       "179670   human  HLA-B*81:01               9  TBD  RPQVPLRPM          =   \n",
       "179671   human  HLA-B*81:01               9  TBD  RPGGKKRYM          =   \n",
       "179672   human  HLA-B*81:01               9  TBD  SPRTLNAWV          =   \n",
       "179673   human  HLA-B*81:01               9  TBD  LPPIVAKEI          =   \n",
       "179674   human  HLA-B*81:01               9  TBD  TPQDLNSML          =   \n",
       "179675   human  HLA-B*81:01               9  TBD  IPRRIRQGL          =   \n",
       "179676   human  HLA-B*81:01               9  TBD  RPGGKKHYK          =   \n",
       "179677   human  HLA-B*81:01               9  TBD  RPGGKKHYR          =   \n",
       "179678   human  HLA-B*81:01               9  TBD  TPQDLNTML          =   \n",
       "179679   human  HLA-B*81:01               9  TBD  GPGHKARVL          =   \n",
       "179680   human  HLA-B*81:01               9  TBD  IIKDYGKQM          =   \n",
       "179681   human  HLA-B*81:01               9  TBD  TPEDLNTML          =   \n",
       "179682   human  HLA-C*12:03               9  TBD  LAFGRTGYV          =   \n",
       "179683   human  HLA-C*12:03               9  TBD  MIYNSFNPY          =   \n",
       "179684   human  HLA-C*12:03               9  TBD  MRYFIGQPL          =   \n",
       "179685   human  HLA-C*12:03               9  TBD  YMPDVLEKL          =   \n",
       "179686   human  HLA-C*12:03               9  TBD  FVDVGVSAL          =   \n",
       "179687   human  HLA-C*12:03               9  TBD  IMDEPTSSL          =   \n",
       "179688   human  HLA-C*12:03               9  TBD  DAMPGVLSY          =   \n",
       "179689   human  HLA-C*12:03               9  TBD  YYFQSGNEI          =   \n",
       "179690   human  HLA-C*12:03               9  TBD  LMDENTYAM          =   \n",
       "179691   human  HLA-C*12:03               9  TBD  FAAFYFVFI          =   \n",
       "\n",
       "                meas  \n",
       "0           1.000000  \n",
       "1           1.000000  \n",
       "2           4.521706  \n",
       "3           1.000000  \n",
       "4           1.576747  \n",
       "5           1.000000  \n",
       "6           1.000000  \n",
       "7           1.000000  \n",
       "8           1.000000  \n",
       "9           1.000000  \n",
       "10          1.000000  \n",
       "11          1.000000  \n",
       "12          1.000000  \n",
       "13          1.000000  \n",
       "14          1.000000  \n",
       "15          1.000000  \n",
       "16          1.000000  \n",
       "17          1.000000  \n",
       "18          4.865762  \n",
       "19          1.000000  \n",
       "20          3.659306  \n",
       "21          5.000000  \n",
       "22          1.000000  \n",
       "23          4.797945  \n",
       "24          1.000000  \n",
       "25          1.000000  \n",
       "26          1.000000  \n",
       "27          1.000000  \n",
       "28          2.796509  \n",
       "29          1.000000  \n",
       "...              ...  \n",
       "179662      2.999987  \n",
       "179663      2.999987  \n",
       "179664    223.999080  \n",
       "179665  18148.902889  \n",
       "179666   4755.980480  \n",
       "179667      5.999975  \n",
       "179668  12870.964412  \n",
       "179669  19999.923366  \n",
       "179670     29.000090  \n",
       "179671  19999.923366  \n",
       "179672    452.999261  \n",
       "179673  19999.923366  \n",
       "179674    158.000137  \n",
       "179675      7.000037  \n",
       "179676  19999.923366  \n",
       "179677  19999.923366  \n",
       "179678    282.000394  \n",
       "179679  19999.923366  \n",
       "179680  19999.923366  \n",
       "179681   1319.993775  \n",
       "179682      1.000000  \n",
       "179683      1.000000  \n",
       "179684      1.000000  \n",
       "179685      1.000000  \n",
       "179686      1.000000  \n",
       "179687      1.000000  \n",
       "179688      1.000000  \n",
       "179689      1.000000  \n",
       "179690      1.000000  \n",
       "179691      1.000000  \n",
       "\n",
       "[179692 rows x 7 columns]"
      ]
     },
     "execution_count": 135,
     "metadata": {},
     "output_type": "execute_result"
    }
   ],
   "source": [
    "BData"
   ]
  },
  {
   "cell_type": "code",
   "execution_count": 131,
   "metadata": {
    "collapsed": false
   },
   "outputs": [
    {
     "data": {
      "text/html": [
       "<div>\n",
       "<table border=\"1\" class=\"dataframe\">\n",
       "  <thead>\n",
       "    <tr style=\"text-align: right;\">\n",
       "      <th></th>\n",
       "      <th>species</th>\n",
       "      <th>mhc</th>\n",
       "      <th>peptide_length</th>\n",
       "      <th>cv</th>\n",
       "      <th>sequence</th>\n",
       "      <th>inequality</th>\n",
       "      <th>meas</th>\n",
       "    </tr>\n",
       "  </thead>\n",
       "  <tbody>\n",
       "    <tr>\n",
       "      <th>179687</th>\n",
       "      <td>human</td>\n",
       "      <td>HLA-C*12:03</td>\n",
       "      <td>9</td>\n",
       "      <td>TBD</td>\n",
       "      <td>IMDEPTSSL</td>\n",
       "      <td>=</td>\n",
       "      <td>1.0</td>\n",
       "    </tr>\n",
       "    <tr>\n",
       "      <th>179688</th>\n",
       "      <td>human</td>\n",
       "      <td>HLA-C*12:03</td>\n",
       "      <td>9</td>\n",
       "      <td>TBD</td>\n",
       "      <td>DAMPGVLSY</td>\n",
       "      <td>=</td>\n",
       "      <td>1.0</td>\n",
       "    </tr>\n",
       "    <tr>\n",
       "      <th>179689</th>\n",
       "      <td>human</td>\n",
       "      <td>HLA-C*12:03</td>\n",
       "      <td>9</td>\n",
       "      <td>TBD</td>\n",
       "      <td>YYFQSGNEI</td>\n",
       "      <td>=</td>\n",
       "      <td>1.0</td>\n",
       "    </tr>\n",
       "    <tr>\n",
       "      <th>179690</th>\n",
       "      <td>human</td>\n",
       "      <td>HLA-C*12:03</td>\n",
       "      <td>9</td>\n",
       "      <td>TBD</td>\n",
       "      <td>LMDENTYAM</td>\n",
       "      <td>=</td>\n",
       "      <td>1.0</td>\n",
       "    </tr>\n",
       "    <tr>\n",
       "      <th>179691</th>\n",
       "      <td>human</td>\n",
       "      <td>HLA-C*12:03</td>\n",
       "      <td>9</td>\n",
       "      <td>TBD</td>\n",
       "      <td>FAAFYFVFI</td>\n",
       "      <td>=</td>\n",
       "      <td>1.0</td>\n",
       "    </tr>\n",
       "  </tbody>\n",
       "</table>\n",
       "</div>"
      ],
      "text/plain": [
       "       species          mhc  peptide_length   cv   sequence inequality  meas\n",
       "179687   human  HLA-C*12:03               9  TBD  IMDEPTSSL          =   1.0\n",
       "179688   human  HLA-C*12:03               9  TBD  DAMPGVLSY          =   1.0\n",
       "179689   human  HLA-C*12:03               9  TBD  YYFQSGNEI          =   1.0\n",
       "179690   human  HLA-C*12:03               9  TBD  LMDENTYAM          =   1.0\n",
       "179691   human  HLA-C*12:03               9  TBD  FAAFYFVFI          =   1.0"
      ]
     },
     "execution_count": 131,
     "metadata": {},
     "output_type": "execute_result"
    }
   ],
   "source": [
    "BData.tail()"
   ]
  },
  {
   "cell_type": "code",
   "execution_count": 132,
   "metadata": {
    "collapsed": false
   },
   "outputs": [
    {
     "data": {
      "text/html": [
       "<div>\n",
       "<table border=\"1\" class=\"dataframe\">\n",
       "  <thead>\n",
       "    <tr style=\"text-align: right;\">\n",
       "      <th></th>\n",
       "      <th>sequence</th>\n",
       "      <th>length</th>\n",
       "      <th>meas</th>\n",
       "      <th>netmhc</th>\n",
       "      <th>netmhcpan</th>\n",
       "      <th>smmpmbec_cpp</th>\n",
       "    </tr>\n",
       "  </thead>\n",
       "  <tbody>\n",
       "    <tr>\n",
       "      <th>440</th>\n",
       "      <td>YRHDGGNVL</td>\n",
       "      <td>9</td>\n",
       "      <td>78162.780459</td>\n",
       "      <td>28119.008304</td>\n",
       "      <td>38018.939632</td>\n",
       "      <td>231206.479018</td>\n",
       "    </tr>\n",
       "    <tr>\n",
       "      <th>441</th>\n",
       "      <td>YTGDFDSVI</td>\n",
       "      <td>9</td>\n",
       "      <td>11376.272858</td>\n",
       "      <td>7046.930690</td>\n",
       "      <td>2600.159563</td>\n",
       "      <td>1927.524913</td>\n",
       "    </tr>\n",
       "    <tr>\n",
       "      <th>442</th>\n",
       "      <td>YTTDVNQLY</td>\n",
       "      <td>9</td>\n",
       "      <td>35.974934</td>\n",
       "      <td>258.821292</td>\n",
       "      <td>129.121927</td>\n",
       "      <td>393.550075</td>\n",
       "    </tr>\n",
       "    <tr>\n",
       "      <th>443</th>\n",
       "      <td>YVADALAAF</td>\n",
       "      <td>9</td>\n",
       "      <td>11748.975549</td>\n",
       "      <td>2636.331386</td>\n",
       "      <td>1603.245391</td>\n",
       "      <td>1655.769963</td>\n",
       "    </tr>\n",
       "    <tr>\n",
       "      <th>444</th>\n",
       "      <td>YVIKVSARV</td>\n",
       "      <td>9</td>\n",
       "      <td>78162.780459</td>\n",
       "      <td>11428.783348</td>\n",
       "      <td>17338.039978</td>\n",
       "      <td>8609.937522</td>\n",
       "    </tr>\n",
       "  </tbody>\n",
       "</table>\n",
       "</div>"
      ],
      "text/plain": [
       "      sequence  length          meas        netmhc     netmhcpan  \\\n",
       "440  YRHDGGNVL       9  78162.780459  28119.008304  38018.939632   \n",
       "441  YTGDFDSVI       9  11376.272858   7046.930690   2600.159563   \n",
       "442  YTTDVNQLY       9     35.974934    258.821292    129.121927   \n",
       "443  YVADALAAF       9  11748.975549   2636.331386   1603.245391   \n",
       "444  YVIKVSARV       9  78162.780459  11428.783348  17338.039978   \n",
       "\n",
       "      smmpmbec_cpp  \n",
       "440  231206.479018  \n",
       "441    1927.524913  \n",
       "442     393.550075  \n",
       "443    1655.769963  \n",
       "444    8609.937522  "
      ]
     },
     "execution_count": 132,
     "metadata": {},
     "output_type": "execute_result"
    }
   ],
   "source": [
    "df.tail()"
   ]
  },
  {
   "cell_type": "code",
   "execution_count": null,
   "metadata": {
    "collapsed": true
   },
   "outputs": [],
   "source": []
  }
 ],
 "metadata": {
  "anaconda-cloud": {},
  "kernelspec": {
   "display_name": "Python [Root]",
   "language": "python",
   "name": "Python [Root]"
  },
  "language_info": {
   "codemirror_mode": {
    "name": "ipython",
    "version": 3
   },
   "file_extension": ".py",
   "mimetype": "text/x-python",
   "name": "python",
   "nbconvert_exporter": "python",
   "pygments_lexer": "ipython3",
   "version": "3.5.2"
  }
 },
 "nbformat": 4,
 "nbformat_minor": 0
}

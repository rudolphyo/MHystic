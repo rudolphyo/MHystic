{
 "cells": [
  {
   "cell_type": "code",
   "execution_count": 3,
   "metadata": {
    "collapsed": true
   },
   "outputs": [],
   "source": [
    "%matplotlib inline\n",
    "import matplotlib.pyplot as plt\n",
    "import numpy as np\n",
    "import pandas as pd\n",
    "from pandas import get_dummies\n",
    "import math"
   ]
  },
  {
   "cell_type": "markdown",
   "metadata": {},
   "source": [
    "## Preprocessing. Scaling"
   ]
  },
  {
   "cell_type": "code",
   "execution_count": 286,
   "metadata": {
    "collapsed": false
   },
   "outputs": [
    {
     "data": {
      "text/html": [
       "<div>\n",
       "<table border=\"1\" class=\"dataframe\">\n",
       "  <thead>\n",
       "    <tr style=\"text-align: right;\">\n",
       "      <th></th>\n",
       "      <th>sequence</th>\n",
       "      <th>length</th>\n",
       "      <th>meas</th>\n",
       "      <th>netmhc</th>\n",
       "      <th>netmhcpan</th>\n",
       "      <th>smmpmbec_cpp</th>\n",
       "      <th>molecular_weight</th>\n",
       "      <th>aromaticity</th>\n",
       "      <th>instability_index</th>\n",
       "      <th>isoelectric_point</th>\n",
       "    </tr>\n",
       "  </thead>\n",
       "  <tbody>\n",
       "    <tr>\n",
       "      <th>2121</th>\n",
       "      <td>YVYPDNLPR</td>\n",
       "      <td>9</td>\n",
       "      <td>0.084693</td>\n",
       "      <td>0.120446</td>\n",
       "      <td>0.094057</td>\n",
       "      <td>0.280906</td>\n",
       "      <td>1136.2564</td>\n",
       "      <td>0.222222</td>\n",
       "      <td>18.866667</td>\n",
       "      <td>5.834900</td>\n",
       "    </tr>\n",
       "    <tr>\n",
       "      <th>2122</th>\n",
       "      <td>YVYPDNLPV</td>\n",
       "      <td>9</td>\n",
       "      <td>0.898488</td>\n",
       "      <td>0.765906</td>\n",
       "      <td>0.785698</td>\n",
       "      <td>0.708660</td>\n",
       "      <td>1079.2017</td>\n",
       "      <td>0.222222</td>\n",
       "      <td>48.644444</td>\n",
       "      <td>3.799866</td>\n",
       "    </tr>\n",
       "    <tr>\n",
       "      <th>2123</th>\n",
       "      <td>YWIREGKII</td>\n",
       "      <td>9</td>\n",
       "      <td>0.000000</td>\n",
       "      <td>0.080011</td>\n",
       "      <td>0.035959</td>\n",
       "      <td>0.086183</td>\n",
       "      <td>1177.3945</td>\n",
       "      <td>0.222222</td>\n",
       "      <td>-21.500000</td>\n",
       "      <td>8.589905</td>\n",
       "    </tr>\n",
       "    <tr>\n",
       "      <th>2124</th>\n",
       "      <td>YWMGGTTYF</td>\n",
       "      <td>9</td>\n",
       "      <td>0.350922</td>\n",
       "      <td>0.257071</td>\n",
       "      <td>0.220255</td>\n",
       "      <td>0.362626</td>\n",
       "      <td>1125.2518</td>\n",
       "      <td>0.444444</td>\n",
       "      <td>27.955556</td>\n",
       "      <td>5.523621</td>\n",
       "    </tr>\n",
       "    <tr>\n",
       "      <th>2125</th>\n",
       "      <td>YYFSYPLFV</td>\n",
       "      <td>9</td>\n",
       "      <td>0.550114</td>\n",
       "      <td>0.668012</td>\n",
       "      <td>0.656733</td>\n",
       "      <td>0.675035</td>\n",
       "      <td>1198.3636</td>\n",
       "      <td>0.555556</td>\n",
       "      <td>36.311111</td>\n",
       "      <td>5.522888</td>\n",
       "    </tr>\n",
       "  </tbody>\n",
       "</table>\n",
       "</div>"
      ],
      "text/plain": [
       "       sequence  length      meas    netmhc  netmhcpan  smmpmbec_cpp  \\\n",
       "2121  YVYPDNLPR       9  0.084693  0.120446   0.094057      0.280906   \n",
       "2122  YVYPDNLPV       9  0.898488  0.765906   0.785698      0.708660   \n",
       "2123  YWIREGKII       9  0.000000  0.080011   0.035959      0.086183   \n",
       "2124  YWMGGTTYF       9  0.350922  0.257071   0.220255      0.362626   \n",
       "2125  YYFSYPLFV       9  0.550114  0.668012   0.656733      0.675035   \n",
       "\n",
       "      molecular_weight  aromaticity  instability_index  isoelectric_point  \n",
       "2121         1136.2564     0.222222          18.866667           5.834900  \n",
       "2122         1079.2017     0.222222          48.644444           3.799866  \n",
       "2123         1177.3945     0.222222         -21.500000           8.589905  \n",
       "2124         1125.2518     0.444444          27.955556           5.523621  \n",
       "2125         1198.3636     0.555556          36.311111           5.522888  "
      ]
     },
     "execution_count": 286,
     "metadata": {},
     "output_type": "execute_result"
    }
   ],
   "source": [
    "data = pd.read_csv(\"ExtraData.csv\", sep=\",\")\n",
    "data.drop([\"Unnamed: 0\", \"X\"], inplace=True, axis=1)\n",
    "data.tail()"
   ]
  },
  {
   "cell_type": "code",
   "execution_count": 313,
   "metadata": {
    "collapsed": false
   },
   "outputs": [
    {
     "data": {
      "text/html": [
       "<div>\n",
       "<table border=\"1\" class=\"dataframe\">\n",
       "  <thead>\n",
       "    <tr style=\"text-align: right;\">\n",
       "      <th></th>\n",
       "      <th>molecular_weight</th>\n",
       "      <th>instability_index</th>\n",
       "      <th>isoelectric_point</th>\n",
       "      <th>aromaticity</th>\n",
       "    </tr>\n",
       "  </thead>\n",
       "  <tbody>\n",
       "    <tr>\n",
       "      <th>2121</th>\n",
       "      <td>0.548323</td>\n",
       "      <td>0.231246</td>\n",
       "      <td>0.266668</td>\n",
       "      <td>0.222222</td>\n",
       "    </tr>\n",
       "    <tr>\n",
       "      <th>2122</th>\n",
       "      <td>0.478572</td>\n",
       "      <td>0.335037</td>\n",
       "      <td>0.046140</td>\n",
       "      <td>0.222222</td>\n",
       "    </tr>\n",
       "    <tr>\n",
       "      <th>2123</th>\n",
       "      <td>0.598616</td>\n",
       "      <td>0.090546</td>\n",
       "      <td>0.565215</td>\n",
       "      <td>0.222222</td>\n",
       "    </tr>\n",
       "    <tr>\n",
       "      <th>2124</th>\n",
       "      <td>0.534869</td>\n",
       "      <td>0.262926</td>\n",
       "      <td>0.232936</td>\n",
       "      <td>0.444444</td>\n",
       "    </tr>\n",
       "    <tr>\n",
       "      <th>2125</th>\n",
       "      <td>0.624251</td>\n",
       "      <td>0.292049</td>\n",
       "      <td>0.232856</td>\n",
       "      <td>0.555556</td>\n",
       "    </tr>\n",
       "  </tbody>\n",
       "</table>\n",
       "</div>"
      ],
      "text/plain": [
       "      molecular_weight  instability_index  isoelectric_point  aromaticity\n",
       "2121          0.548323           0.231246           0.266668     0.222222\n",
       "2122          0.478572           0.335037           0.046140     0.222222\n",
       "2123          0.598616           0.090546           0.565215     0.222222\n",
       "2124          0.534869           0.262926           0.232936     0.444444\n",
       "2125          0.624251           0.292049           0.232856     0.555556"
      ]
     },
     "execution_count": 313,
     "metadata": {},
     "output_type": "execute_result"
    }
   ],
   "source": [
    "min_max_scaler = preprocessing.MinMaxScaler()\n",
    "x_scaled = min_max_scaler.fit_transform(data[[\"molecular_weight\",\"instability_index\", \"isoelectric_point\"]])\n",
    "x_scaled=pd.DataFrame(x_scaled, columns=[\"molecular_weight\",\"instability_index\", \"isoelectric_point\"])\n",
    "x_scaled[\"aromaticity\"]=data[\"aromaticity\"]\n",
    "x_scaled.tail()"
   ]
  },
  {
   "cell_type": "code",
   "execution_count": 34,
   "metadata": {
    "collapsed": true
   },
   "outputs": [],
   "source": [
    "#it was done in R\n",
    "from math import log\n",
    "def logmeas(i):\n",
    "    val = np.linspace(1, np.log(i)/np.log(50000))\n",
    "    return 1 - min(val)"
   ]
  },
  {
   "cell_type": "code",
   "execution_count": 84,
   "metadata": {
    "collapsed": true
   },
   "outputs": [],
   "source": [
    "from sklearn import preprocessing"
   ]
  },
  {
   "cell_type": "code",
   "execution_count": 338,
   "metadata": {
    "collapsed": false,
    "scrolled": true
   },
   "outputs": [
    {
     "data": {
      "image/png": "[encoded data removed]",
      "text/plain": [
       "<matplotlib.figure.Figure at 0x1941eef6978>"
      ]
     },
     "metadata": {},
     "output_type": "display_data"
    }
   ],
   "source": [
    "indexes = data['sequence'][data['length'] == 9].index\n",
    "#indexes = data.index\n",
    "selected_X = data[\"sequence\"][indexes]\n",
    "\n",
    "\n",
    "selected_y = pd.DataFrame(data['meas'][indexes])\n",
    "selected_y['netmhc'] = pd.DataFrame(data['netmhc'][indexes])\n",
    "selected_y['netmhcpan'] = pd.DataFrame(data['netmhcpan'][indexes])\n",
    "selected_y['smmpmbec_cpp'] = pd.DataFrame(data['smmpmbec_cpp'][indexes])\n",
    "\n",
    "plt.title(\"Measure distribution\")\n",
    "hh = plt.hist(selected_y['meas'], 50, color = 'blue', alpha = 0.6)"
   ]
  },
  {
   "cell_type": "code",
   "execution_count": null,
   "metadata": {
    "collapsed": false
   },
   "outputs": [],
   "source": []
  },
  {
   "cell_type": "code",
   "execution_count": 339,
   "metadata": {
    "collapsed": false
   },
   "outputs": [],
   "source": [
    "letters_X = selected_X.apply(list)\n",
    "selected_X=pd.get_dummies(pd.DataFrame(list(letters_X)))"
   ]
  },
  {
   "cell_type": "code",
   "execution_count": null,
   "metadata": {
    "collapsed": false
   },
   "outputs": [],
   "source": []
  },
  {
   "cell_type": "code",
   "execution_count": null,
   "metadata": {
    "collapsed": false,
    "scrolled": true
   },
   "outputs": [],
   "source": []
  },
  {
   "cell_type": "code",
   "execution_count": 340,
   "metadata": {
    "collapsed": false,
    "scrolled": true
   },
   "outputs": [],
   "source": [
    "min_max_scaler = preprocessing.MinMaxScaler()\n",
    "x_scaled = min_max_scaler.fit_transform(data[[\"molecular_weight\",\"instability_index\", \"isoelectric_point\"]])\n",
    "x_scaled=pd.DataFrame(x_scaled, columns=[\"molecular_weight\",\"instability_index\", \"isoelectric_point\"])\n"
   ]
  },
  {
   "cell_type": "code",
   "execution_count": 343,
   "metadata": {
    "collapsed": false
   },
   "outputs": [],
   "source": [
    "selected_X[\"molecular_weight\"] = pd.DataFrame(x_scaled[\"molecular_weight\"][indexes]).reset_index(drop=True)\n",
    "selected_X[\"instability_index\"] = pd.DataFrame(x_scaled[\"instability_index\"][indexes]).reset_index(drop=True)\n",
    "selected_X[\"isoelectric_point\"] = pd.DataFrame(x_scaled[\"isoelectric_point\"][indexes]).reset_index(drop=True)\n",
    "selected_X[\"aromaticity\"] = pd.DataFrame(data[\"aromaticity\"][indexes]).reset_index(drop=True)"
   ]
  },
  {
   "cell_type": "markdown",
   "metadata": {},
   "source": [
    "## SVR"
   ]
  },
  {
   "cell_type": "code",
   "execution_count": 352,
   "metadata": {
    "collapsed": true
   },
   "outputs": [],
   "source": [
    "from sklearn.cross_validation import train_test_split\n",
    "from sklearn.metrics import mean_squared_error"
   ]
  },
  {
   "cell_type": "code",
   "execution_count": 353,
   "metadata": {
    "collapsed": false,
    "scrolled": true
   },
   "outputs": [],
   "source": [
    "random_number = 53\n",
    "X_train, X_test, y_train, y_test = train_test_split(selected_X, selected_y[\"meas\"],\n",
    "                                                    test_size = 0.33, random_state = random_number)\n",
    "\n",
    "test_index = y_test.index\n",
    "mse_netmhc = mean_squared_error(selected_y[\"meas\"], selected_y[\"netmhc\"])\n",
    "mse_netmhcpan = mean_squared_error(selected_y[\"meas\"], selected_y[\"netmhcpan\"])\n",
    "mse_smmpmbec_cpp = mean_squared_error(selected_y[\"meas\"], selected_y[\"smmpmbec_cpp\"])"
   ]
  },
  {
   "cell_type": "code",
   "execution_count": 48,
   "metadata": {
    "collapsed": false
   },
   "outputs": [],
   "source": [
    "from sklearn.svm import SVR\n",
    "from sklearn.grid_search import GridSearchCV\n",
    "from sklearn.learning_curve import learning_curve\n",
    "from sklearn.kernel_ridge import KernelRidge"
   ]
  },
  {
   "cell_type": "code",
   "execution_count": 345,
   "metadata": {
    "collapsed": false
   },
   "outputs": [],
   "source": [
    "svr = GridSearchCV(SVR(kernel='rbf', gamma=0.1), cv=5,\n",
    "                   param_grid={\"C\": [1e-3, 1e0, 1e1, 1e2, 1e3],\n",
    "                               \"gamma\": np.logspace(-2, 2, 5)})"
   ]
  },
  {
   "cell_type": "code",
   "execution_count": null,
   "metadata": {
    "collapsed": false
   },
   "outputs": [],
   "source": []
  },
  {
   "cell_type": "code",
   "execution_count": 346,
   "metadata": {
    "collapsed": false
   },
   "outputs": [
    {
     "data": {
      "text/plain": [
       "GridSearchCV(cv=5, error_score='raise',\n",
       "       estimator=SVR(C=1.0, cache_size=200, coef0=0.0, degree=3, epsilon=0.1, gamma=0.1,\n",
       "  kernel='rbf', max_iter=-1, shrinking=True, tol=0.001, verbose=False),\n",
       "       fit_params={}, iid=True, n_jobs=1,\n",
       "       param_grid={'gamma': array([  1.00000e-02,   1.00000e-01,   1.00000e+00,   1.00000e+01,\n",
       "         1.00000e+02]), 'C': [0.001, 1.0, 10.0, 100.0, 1000.0]},\n",
       "       pre_dispatch='2*n_jobs', refit=True, scoring=None, verbose=0)"
      ]
     },
     "execution_count": 346,
     "metadata": {},
     "output_type": "execute_result"
    }
   ],
   "source": [
    "svr.fit(X_train, y_train)"
   ]
  },
  {
   "cell_type": "code",
   "execution_count": 91,
   "metadata": {
    "collapsed": false
   },
   "outputs": [
    {
     "data": {
      "text/plain": [
       "{'C': 1.0, 'gamma': 0.10000000000000001}"
      ]
     },
     "execution_count": 91,
     "metadata": {},
     "output_type": "execute_result"
    }
   ],
   "source": [
    "svr.best_params_"
   ]
  },
  {
   "cell_type": "code",
   "execution_count": 347,
   "metadata": {
    "collapsed": false
   },
   "outputs": [],
   "source": [
    "TunedSVR = SVR(kernel='rbf', C=1, gamma=0.10000000000000001)"
   ]
  },
  {
   "cell_type": "code",
   "execution_count": 348,
   "metadata": {
    "collapsed": false
   },
   "outputs": [
    {
     "data": {
      "text/plain": [
       "SVR(C=1, cache_size=200, coef0=0.0, degree=3, epsilon=0.1, gamma=0.1,\n",
       "  kernel='rbf', max_iter=-1, shrinking=True, tol=0.001, verbose=False)"
      ]
     },
     "execution_count": 348,
     "metadata": {},
     "output_type": "execute_result"
    }
   ],
   "source": [
    "TunedSVR.fit(X_train, y_train)"
   ]
  },
  {
   "cell_type": "code",
   "execution_count": 357,
   "metadata": {
    "collapsed": false
   },
   "outputs": [
    {
     "name": "stdout",
     "output_type": "stream",
     "text": [
      "SVR MSE: 0.0380195603249\n",
      "netmhc MSE: 0.0289021865583\n",
      "netmhcpan MSE: 0.0289280856635\n",
      "smmpmbec_cpp MSE: 0.0331315186522\n"
     ]
    }
   ],
   "source": [
    "print(\"SVR MSE:\", mean_squared_error(y_test,TunedSVR.predict(X_test)))\n",
    "print(\"netmhc MSE:\", mse_netmhc)\n",
    "print(\"netmhcpan MSE:\", mse_netmhcpan)\n",
    "print(\"smmpmbec_cpp MSE:\", mse_smmpmbec_cpp)"
   ]
  },
  {
   "cell_type": "markdown",
   "metadata": {},
   "source": [
    "## Kedera"
   ]
  },
  {
   "cell_type": "code",
   "execution_count": null,
   "metadata": {
    "collapsed": true
   },
   "outputs": [],
   "source": [
    "amino=pd.read_csv(\"acids.csv\", sep=\" \", index_col=False)\n",
    "d = amino.to_dict(orient='list')\n",
    " \n",
    "f = ['f1','f2','f3','f4','f5','f6','f7','f8','f9','f10']\n",
    " \n",
    "def kidera(pept):\n",
    "    global d\n",
    "    seq = list(pept)\n",
    "    dim = len(seq)\n",
    "    kidera = [0]*10\n",
    "    for i in range(10):\n",
    "        kidera[i] = [0]*dim\n",
    "       \n",
    "    for k in range(dim):\n",
    "        for i in range(20):\n",
    "            if seq[k] == d['amino'][i]:\n",
    "                for j in range(10):\n",
    "                    kidera[j][k] = d[f[j]][i]\n",
    "   \n",
    "    for i in range(10):\n",
    "        kidera[i] = sum(kidera[i])/len(kidera[i])\n",
    "   \n",
    "    return kidera\n",
    " \n",
    "kidera('AARAALQGG')"
   ]
  }
 ],
 "metadata": {
  "kernelspec": {
   "display_name": "Python [Root]",
   "language": "python",
   "name": "Python [Root]"
  },
  "language_info": {
   "codemirror_mode": {
    "name": "ipython",
    "version": 3
   },
   "file_extension": ".py",
   "mimetype": "text/x-python",
   "name": "python",
   "nbconvert_exporter": "python",
   "pygments_lexer": "ipython3",
   "version": "3.5.2"
  }
 },
 "nbformat": 4,
 "nbformat_minor": 0
}
